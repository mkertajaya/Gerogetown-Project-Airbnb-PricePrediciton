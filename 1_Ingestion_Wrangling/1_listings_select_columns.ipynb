{
 "cells": [
  {
   "cell_type": "markdown",
   "metadata": {},
   "source": [
    "# Columns Selections\n",
    "This is using NY data. Looks like inside aribnb data is same format so it can be used for other cities. This notebook is dealing with keeping/removing columns to use for the model.\n"
   ]
  },
  {
   "cell_type": "code",
   "execution_count": 1,
   "metadata": {},
   "outputs": [],
   "source": [
    "import os\n",
    "import io\n",
    "import re\n",
    "from datetime import datetime\n",
    "import numpy as np\n",
    "import pandas as pd\n",
    "import matplotlib\n",
    "import matplotlib.pyplot as plt\n",
    "import seaborn as sns\n",
    "\n",
    "import warnings\n",
    "warnings.filterwarnings('ignore')"
   ]
  },
  {
   "cell_type": "code",
   "execution_count": 2,
   "metadata": {},
   "outputs": [],
   "source": [
    "#read data, specify index so it's easier to join and search using loc\n",
    "path = '../../../data/new-york-city-airbnb-open-data/'\n",
    "listings_csv = os.path.join(path,'listings.csv')\n",
    "\n",
    "listings = pd.read_csv(listings_csv, index_col = 'id')"
   ]
  },
  {
   "cell_type": "code",
   "execution_count": 3,
   "metadata": {},
   "outputs": [
    {
     "output_type": "execute_result",
     "data": {
      "text/plain": "(50796, 105)"
     },
     "metadata": {},
     "execution_count": 3
    }
   ],
   "source": [
    "#shape\n",
    "listings.shape"
   ]
  },
  {
   "cell_type": "code",
   "execution_count": 4,
   "metadata": {},
   "outputs": [],
   "source": [
    "#to get all columns, set option\n",
    "pd.set_option('display.max_columns', 107)\n",
    "#to get text with no truncation\n",
    "pd.set_option('display.max_colwidth', -1)"
   ]
  },
  {
   "cell_type": "code",
   "execution_count": 5,
   "metadata": {},
   "outputs": [
    {
     "output_type": "execute_result",
     "data": {
      "text/plain": "                            listing_url       scrape_id last_scraped  \\\nid                                                                     \n2060  https://www.airbnb.com/rooms/2060  20200313233810  2020-03-14    \n\n            name summary  \\\nid                         \n2060  Modern NYC  NaN      \n\n                                                                                                                                                                                                                                                                                                                                                                                                                                            space  \\\nid                                                                                                                                                                                                                                                                                                                                                                                                                                                  \n2060  Lovely, spacious, sunny 1 BR apartment in 6th Floor elevator building steps from gorgeous Fort Tryon Park/The Cloisters in Manhattan, less than 5 min walk from the A-train, 25-minutes to midtown Manhattan. Neighborhood is quiet, safe and hilly. Fully equipped, all brand new kitchen; king size bed; WiFi and cable; and more. We are looking for responsible renters who don't mind feeding our Maine Coon cat while staying there.    \n\n                                                                                                                                                                                                                                                                                                                                                                                                                                      description  \\\nid                                                                                                                                                                                                                                                                                                                                                                                                                                                  \n2060  Lovely, spacious, sunny 1 BR apartment in 6th Floor elevator building steps from gorgeous Fort Tryon Park/The Cloisters in Manhattan, less than 5 min walk from the A-train, 25-minutes to midtown Manhattan. Neighborhood is quiet, safe and hilly. Fully equipped, all brand new kitchen; king size bed; WiFi and cable; and more. We are looking for responsible renters who don't mind feeding our Maine Coon cat while staying there.    \n\n     experiences_offered neighborhood_overview notes transit access  \\\nid                                                                    \n2060  none                NaN                   NaN   NaN     NaN     \n\n     interaction house_rules  thumbnail_url  medium_url  \\\nid                                                        \n2060  NaN         NaN        NaN            NaN           \n\n                                                                          picture_url  \\\nid                                                                                      \n2060  https://a0.muscache.com/im/pictures/3755/3f9d31cf_original.jpg?aki_policy=large   \n\n      xl_picture_url  host_id                                host_url  \\\nid                                                                      \n2060 NaN              2259     https://www.airbnb.com/users/show/2259   \n\n     host_name  host_since host_location host_about  host_response_time  \\\nid                                                                        \n2060  Jenny     2008-08-18  US            NaN        a few days or more   \n\n     host_response_rate host_acceptance_rate host_is_superhost  \\\nid                                                               \n2060  22%                50%                  f                  \n\n                                                                                      host_thumbnail_url  \\\nid                                                                                                         \n2060  https://a0.muscache.com/im/users/2259/profile_pic/1259094383/original.jpg?aki_policy=profile_small   \n\n                                                                                           host_picture_url  \\\nid                                                                                                            \n2060  https://a0.muscache.com/im/users/2259/profile_pic/1259094383/original.jpg?aki_policy=profile_x_medium   \n\n      host_neighbourhood  host_listings_count  host_total_listings_count  \\\nid                                                                         \n2060  Washington Heights  0.0                  0.0                         \n\n     host_verifications host_has_profile_pic host_identity_verified  \\\nid                                                                    \n2060  ['reviews']        t                    f                       \n\n                           street neighbourhood neighbourhood_cleansed  \\\nid                                                                       \n2060  New York, NY, United States  Manhattan     Washington Heights      \n\n     neighbourhood_group_cleansed      city state zipcode    market  \\\nid                                                                    \n2060  Manhattan                    New York  NY    10040   New York   \n\n     smart_location country_code        country  latitude  longitude  \\\nid                                                                     \n2060  New York, NY   US           United States  40.85722 -73.9379     \n\n     is_location_exact property_type     room_type  accommodates  bathrooms  \\\nid                                                                            \n2060  t                 Other         Private room  2            NaN          \n\n      bedrooms  beds  bed_type        amenities  square_feet    price  \\\nid                                                                      \n2060  1.0       2.0   Real Bed  {Internet,Wifi} NaN           $100.00   \n\n     weekly_price monthly_price security_deposit cleaning_fee  \\\nid                                                              \n2060  NaN          NaN           NaN              NaN           \n\n      guests_included extra_people  minimum_nights  maximum_nights  \\\nid                                                                   \n2060  1                $0.00        1               730              \n\n      minimum_minimum_nights  maximum_minimum_nights  minimum_maximum_nights  \\\nid                                                                             \n2060  1                       1                       730                      \n\n      maximum_maximum_nights  minimum_nights_avg_ntm  maximum_nights_avg_ntm  \\\nid                                                                             \n2060  730                     1.0                     730.0                    \n\n     calendar_updated has_availability  availability_30  availability_60  \\\nid                                                                         \n2060  4 weeks ago      t                30               60                \n\n      availability_90  availability_365 calendar_last_scraped  \\\nid                                                              \n2060  90               365               2020-03-14             \n\n      number_of_reviews  number_of_reviews_ltm first_review last_review  \\\nid                                                                        \n2060  1                  0                      2008-09-22   2008-09-22   \n\n      review_scores_rating  review_scores_accuracy  review_scores_cleanliness  \\\nid                                                                              \n2060  80.0                 NaN                     NaN                          \n\n      review_scores_checkin  review_scores_communication  \\\nid                                                         \n2060 NaN                    NaN                            \n\n      review_scores_location  review_scores_value requires_license license  \\\nid                                                                           \n2060 NaN                     NaN                   f                NaN      \n\n     jurisdiction_names instant_bookable is_business_travel_ready  \\\nid                                                                  \n2060  NaN                f                f                         \n\n     cancellation_policy require_guest_profile_picture  \\\nid                                                       \n2060  flexible            f                              \n\n     require_guest_phone_verification  calculated_host_listings_count  \\\nid                                                                      \n2060  f                                1                                \n\n      calculated_host_listings_count_entire_homes  \\\nid                                                  \n2060  0                                             \n\n      calculated_host_listings_count_private_rooms  \\\nid                                                   \n2060  1                                              \n\n      calculated_host_listings_count_shared_rooms  reviews_per_month  \nid                                                                    \n2060  0                                            0.01               ",
      "text/html": "<div>\n<style scoped>\n    .dataframe tbody tr th:only-of-type {\n        vertical-align: middle;\n    }\n\n    .dataframe tbody tr th {\n        vertical-align: top;\n    }\n\n    .dataframe thead th {\n        text-align: right;\n    }\n</style>\n<table border=\"1\" class=\"dataframe\">\n  <thead>\n    <tr style=\"text-align: right;\">\n      <th></th>\n      <th>listing_url</th>\n      <th>scrape_id</th>\n      <th>last_scraped</th>\n      <th>name</th>\n      <th>summary</th>\n      <th>space</th>\n      <th>description</th>\n      <th>experiences_offered</th>\n      <th>neighborhood_overview</th>\n      <th>notes</th>\n      <th>transit</th>\n      <th>access</th>\n      <th>interaction</th>\n      <th>house_rules</th>\n      <th>thumbnail_url</th>\n      <th>medium_url</th>\n      <th>picture_url</th>\n      <th>xl_picture_url</th>\n      <th>host_id</th>\n      <th>host_url</th>\n      <th>host_name</th>\n      <th>host_since</th>\n      <th>host_location</th>\n      <th>host_about</th>\n      <th>host_response_time</th>\n      <th>host_response_rate</th>\n      <th>host_acceptance_rate</th>\n      <th>host_is_superhost</th>\n      <th>host_thumbnail_url</th>\n      <th>host_picture_url</th>\n      <th>host_neighbourhood</th>\n      <th>host_listings_count</th>\n      <th>host_total_listings_count</th>\n      <th>host_verifications</th>\n      <th>host_has_profile_pic</th>\n      <th>host_identity_verified</th>\n      <th>street</th>\n      <th>neighbourhood</th>\n      <th>neighbourhood_cleansed</th>\n      <th>neighbourhood_group_cleansed</th>\n      <th>city</th>\n      <th>state</th>\n      <th>zipcode</th>\n      <th>market</th>\n      <th>smart_location</th>\n      <th>country_code</th>\n      <th>country</th>\n      <th>latitude</th>\n      <th>longitude</th>\n      <th>is_location_exact</th>\n      <th>property_type</th>\n      <th>room_type</th>\n      <th>accommodates</th>\n      <th>bathrooms</th>\n      <th>bedrooms</th>\n      <th>beds</th>\n      <th>bed_type</th>\n      <th>amenities</th>\n      <th>square_feet</th>\n      <th>price</th>\n      <th>weekly_price</th>\n      <th>monthly_price</th>\n      <th>security_deposit</th>\n      <th>cleaning_fee</th>\n      <th>guests_included</th>\n      <th>extra_people</th>\n      <th>minimum_nights</th>\n      <th>maximum_nights</th>\n      <th>minimum_minimum_nights</th>\n      <th>maximum_minimum_nights</th>\n      <th>minimum_maximum_nights</th>\n      <th>maximum_maximum_nights</th>\n      <th>minimum_nights_avg_ntm</th>\n      <th>maximum_nights_avg_ntm</th>\n      <th>calendar_updated</th>\n      <th>has_availability</th>\n      <th>availability_30</th>\n      <th>availability_60</th>\n      <th>availability_90</th>\n      <th>availability_365</th>\n      <th>calendar_last_scraped</th>\n      <th>number_of_reviews</th>\n      <th>number_of_reviews_ltm</th>\n      <th>first_review</th>\n      <th>last_review</th>\n      <th>review_scores_rating</th>\n      <th>review_scores_accuracy</th>\n      <th>review_scores_cleanliness</th>\n      <th>review_scores_checkin</th>\n      <th>review_scores_communication</th>\n      <th>review_scores_location</th>\n      <th>review_scores_value</th>\n      <th>requires_license</th>\n      <th>license</th>\n      <th>jurisdiction_names</th>\n      <th>instant_bookable</th>\n      <th>is_business_travel_ready</th>\n      <th>cancellation_policy</th>\n      <th>require_guest_profile_picture</th>\n      <th>require_guest_phone_verification</th>\n      <th>calculated_host_listings_count</th>\n      <th>calculated_host_listings_count_entire_homes</th>\n      <th>calculated_host_listings_count_private_rooms</th>\n      <th>calculated_host_listings_count_shared_rooms</th>\n      <th>reviews_per_month</th>\n    </tr>\n    <tr>\n      <th>id</th>\n      <th></th>\n      <th></th>\n      <th></th>\n      <th></th>\n      <th></th>\n      <th></th>\n      <th></th>\n      <th></th>\n      <th></th>\n      <th></th>\n      <th></th>\n      <th></th>\n      <th></th>\n      <th></th>\n      <th></th>\n      <th></th>\n      <th></th>\n      <th></th>\n      <th></th>\n      <th></th>\n      <th></th>\n      <th></th>\n      <th></th>\n      <th></th>\n      <th></th>\n      <th></th>\n      <th></th>\n      <th></th>\n      <th></th>\n      <th></th>\n      <th></th>\n      <th></th>\n      <th></th>\n      <th></th>\n      <th></th>\n      <th></th>\n      <th></th>\n      <th></th>\n      <th></th>\n      <th></th>\n      <th></th>\n      <th></th>\n      <th></th>\n      <th></th>\n      <th></th>\n      <th></th>\n      <th></th>\n      <th></th>\n      <th></th>\n      <th></th>\n      <th></th>\n      <th></th>\n      <th></th>\n      <th></th>\n      <th></th>\n      <th></th>\n      <th></th>\n      <th></th>\n      <th></th>\n      <th></th>\n      <th></th>\n      <th></th>\n      <th></th>\n      <th></th>\n      <th></th>\n      <th></th>\n      <th></th>\n      <th></th>\n      <th></th>\n      <th></th>\n      <th></th>\n      <th></th>\n      <th></th>\n      <th></th>\n      <th></th>\n      <th></th>\n      <th></th>\n      <th></th>\n      <th></th>\n      <th></th>\n      <th></th>\n      <th></th>\n      <th></th>\n      <th></th>\n      <th></th>\n      <th></th>\n      <th></th>\n      <th></th>\n      <th></th>\n      <th></th>\n      <th></th>\n      <th></th>\n      <th></th>\n      <th></th>\n      <th></th>\n      <th></th>\n      <th></th>\n      <th></th>\n      <th></th>\n      <th></th>\n      <th></th>\n      <th></th>\n      <th></th>\n      <th></th>\n      <th></th>\n    </tr>\n  </thead>\n  <tbody>\n    <tr>\n      <th>2060</th>\n      <td>https://www.airbnb.com/rooms/2060</td>\n      <td>20200313233810</td>\n      <td>2020-03-14</td>\n      <td>Modern NYC</td>\n      <td>NaN</td>\n      <td>Lovely, spacious, sunny 1 BR apartment in 6th Floor elevator building steps from gorgeous Fort Tryon Park/The Cloisters in Manhattan, less than 5 min walk from the A-train, 25-minutes to midtown Manhattan. Neighborhood is quiet, safe and hilly. Fully equipped, all brand new kitchen; king size bed; WiFi and cable; and more. We are looking for responsible renters who don't mind feeding our Maine Coon cat while staying there.</td>\n      <td>Lovely, spacious, sunny 1 BR apartment in 6th Floor elevator building steps from gorgeous Fort Tryon Park/The Cloisters in Manhattan, less than 5 min walk from the A-train, 25-minutes to midtown Manhattan. Neighborhood is quiet, safe and hilly. Fully equipped, all brand new kitchen; king size bed; WiFi and cable; and more. We are looking for responsible renters who don't mind feeding our Maine Coon cat while staying there.</td>\n      <td>none</td>\n      <td>NaN</td>\n      <td>NaN</td>\n      <td>NaN</td>\n      <td>NaN</td>\n      <td>NaN</td>\n      <td>NaN</td>\n      <td>NaN</td>\n      <td>NaN</td>\n      <td>https://a0.muscache.com/im/pictures/3755/3f9d31cf_original.jpg?aki_policy=large</td>\n      <td>NaN</td>\n      <td>2259</td>\n      <td>https://www.airbnb.com/users/show/2259</td>\n      <td>Jenny</td>\n      <td>2008-08-18</td>\n      <td>US</td>\n      <td>NaN</td>\n      <td>a few days or more</td>\n      <td>22%</td>\n      <td>50%</td>\n      <td>f</td>\n      <td>https://a0.muscache.com/im/users/2259/profile_pic/1259094383/original.jpg?aki_policy=profile_small</td>\n      <td>https://a0.muscache.com/im/users/2259/profile_pic/1259094383/original.jpg?aki_policy=profile_x_medium</td>\n      <td>Washington Heights</td>\n      <td>0.0</td>\n      <td>0.0</td>\n      <td>['reviews']</td>\n      <td>t</td>\n      <td>f</td>\n      <td>New York, NY, United States</td>\n      <td>Manhattan</td>\n      <td>Washington Heights</td>\n      <td>Manhattan</td>\n      <td>New York</td>\n      <td>NY</td>\n      <td>10040</td>\n      <td>New York</td>\n      <td>New York, NY</td>\n      <td>US</td>\n      <td>United States</td>\n      <td>40.85722</td>\n      <td>-73.9379</td>\n      <td>t</td>\n      <td>Other</td>\n      <td>Private room</td>\n      <td>2</td>\n      <td>NaN</td>\n      <td>1.0</td>\n      <td>2.0</td>\n      <td>Real Bed</td>\n      <td>{Internet,Wifi}</td>\n      <td>NaN</td>\n      <td>$100.00</td>\n      <td>NaN</td>\n      <td>NaN</td>\n      <td>NaN</td>\n      <td>NaN</td>\n      <td>1</td>\n      <td>$0.00</td>\n      <td>1</td>\n      <td>730</td>\n      <td>1</td>\n      <td>1</td>\n      <td>730</td>\n      <td>730</td>\n      <td>1.0</td>\n      <td>730.0</td>\n      <td>4 weeks ago</td>\n      <td>t</td>\n      <td>30</td>\n      <td>60</td>\n      <td>90</td>\n      <td>365</td>\n      <td>2020-03-14</td>\n      <td>1</td>\n      <td>0</td>\n      <td>2008-09-22</td>\n      <td>2008-09-22</td>\n      <td>80.0</td>\n      <td>NaN</td>\n      <td>NaN</td>\n      <td>NaN</td>\n      <td>NaN</td>\n      <td>NaN</td>\n      <td>NaN</td>\n      <td>f</td>\n      <td>NaN</td>\n      <td>NaN</td>\n      <td>f</td>\n      <td>f</td>\n      <td>flexible</td>\n      <td>f</td>\n      <td>f</td>\n      <td>1</td>\n      <td>0</td>\n      <td>1</td>\n      <td>0</td>\n      <td>0.01</td>\n    </tr>\n  </tbody>\n</table>\n</div>"
     },
     "metadata": {},
     "execution_count": 5
    }
   ],
   "source": [
    "listings.head(1)"
   ]
  },
  {
   "cell_type": "markdown",
   "metadata": {},
   "source": [
    "# Remove columns with less than 50% populated"
   ]
  },
  {
   "cell_type": "code",
   "execution_count": 6,
   "metadata": {},
   "outputs": [],
   "source": [
    "#Create a funciton to check if columns have lots of null (50% or more)\n",
    "def less_than_50_percent(colname):\n",
    "    total_row = listings.shape[0]\n",
    "    isnull_count = listings[colname].isna().sum()\n",
    "    if isnull_count/total_row > .5:\n",
    "        return True\n"
   ]
  },
  {
   "cell_type": "code",
   "execution_count": 7,
   "metadata": {},
   "outputs": [
    {
     "output_type": "stream",
     "name": "stdout",
     "text": "['notes', 'thumbnail_url', 'medium_url', 'xl_picture_url', 'square_feet', 'weekly_price', 'monthly_price', 'license', 'jurisdiction_names']\n"
    }
   ],
   "source": [
    "columns = list(listings)\n",
    "remove_columns_0 = []\n",
    "for column in columns:\n",
    "    remove_column_y_n = less_than_50_percent(column)\n",
    "    if remove_column_y_n:\n",
    "        remove_columns_0.append(column)\n",
    "\n",
    "print(remove_columns_0)\n"
   ]
  },
  {
   "cell_type": "code",
   "execution_count": 8,
   "metadata": {},
   "outputs": [
    {
     "output_type": "execute_result",
     "data": {
      "text/plain": "(50796, 96)"
     },
     "metadata": {},
     "execution_count": 8
    }
   ],
   "source": [
    "listings.drop(remove_columns_0, inplace=True, axis=1)\n",
    "#chek if columns are removed\n",
    "listings.shape\n"
   ]
  },
  {
   "cell_type": "markdown",
   "metadata": {},
   "source": [
    "# Remove columns with only one value"
   ]
  },
  {
   "cell_type": "code",
   "execution_count": 9,
   "metadata": {},
   "outputs": [],
   "source": [
    "#check if all records have same value\n",
    "def all_same_value(colname):\n",
    "    count_unique = len(listings[colname].unique())\n",
    "    if count_unique == 1:\n",
    "        return True\n",
    "        "
   ]
  },
  {
   "cell_type": "code",
   "execution_count": 10,
   "metadata": {},
   "outputs": [
    {
     "output_type": "stream",
     "name": "stdout",
     "text": "['scrape_id', 'experiences_offered', 'country_code', 'country', 'has_availability', 'requires_license', 'is_business_travel_ready']\n"
    }
   ],
   "source": [
    "columns = list(listings)\n",
    "remove_columns_1 = []\n",
    "for column in columns:\n",
    "    remove_column_y_n = all_same_value(column)\n",
    "    if remove_column_y_n:\n",
    "        remove_columns_1.append(column)\n",
    "\n",
    "print(remove_columns_1)\n"
   ]
  },
  {
   "cell_type": "code",
   "execution_count": 11,
   "metadata": {},
   "outputs": [
    {
     "output_type": "execute_result",
     "data": {
      "text/plain": "(50796, 89)"
     },
     "metadata": {},
     "execution_count": 11
    }
   ],
   "source": [
    "listings.drop(remove_columns_1, inplace=True, axis=1)\n",
    "#chek if columns are removed\n",
    "listings.shape\n"
   ]
  },
  {
   "cell_type": "markdown",
   "metadata": {},
   "source": [
    "# Remove all objects columns\n",
    "All text columns, check by lenght of max characters, excluding amenites column"
   ]
  },
  {
   "cell_type": "code",
   "execution_count": 12,
   "metadata": {},
   "outputs": [],
   "source": [
    "#get max length\n",
    "def getmaxlength(colname):\n",
    "    listings['length'] = listings[colname].str.len()\n",
    "    sorted = listings['length'].sort_values(ascending = False)\n",
    "    maxlength = sorted.head(1).values[0]\n",
    "    listings.drop('length', inplace=True, axis=1)\n",
    "    return maxlength\n",
    "    "
   ]
  },
  {
   "cell_type": "code",
   "execution_count": 13,
   "metadata": {},
   "outputs": [
    {
     "output_type": "stream",
     "name": "stdout",
     "text": "['summary', 'space', 'description', 'neighborhood_overview', 'transit', 'access', 'interaction', 'house_rules', 'host_about']\n"
    }
   ],
   "source": [
    "#run this for all object type columns and exlcuding amenities column\n",
    "#if it's more than 300, then remove them\n",
    "columns = list(listings)\n",
    "remove_columns_2 = []\n",
    "for column in columns:\n",
    "    if listings[column].dtypes == object and column != 'amenities':\n",
    "        remove_column_y_n = getmaxlength(column)\n",
    "        if remove_column_y_n > 300:\n",
    "            remove_columns_2.append(column)\n",
    "\n",
    "print(remove_columns_2)\n"
   ]
  },
  {
   "cell_type": "code",
   "execution_count": 14,
   "metadata": {},
   "outputs": [
    {
     "output_type": "execute_result",
     "data": {
      "text/plain": "(50796, 80)"
     },
     "metadata": {},
     "execution_count": 14
    }
   ],
   "source": [
    "listings.drop(remove_columns_2, inplace=True, axis=1)\n",
    "#chek if columns are removed\n",
    "listings.shape\n"
   ]
  },
  {
   "cell_type": "markdown",
   "metadata": {},
   "source": [
    "# Remove columns with only two values in where one value is more than 95%"
   ]
  },
  {
   "cell_type": "code",
   "execution_count": 15,
   "metadata": {},
   "outputs": [],
   "source": [
    "#get ratio for colmuns with only two values\n",
    "def countratio(colname):\n",
    "    temp_list = listings.groupby(colname)[colname].count().tolist()\n",
    "    if len(temp_list) == 2:\n",
    "        row_count = listings.shape[0]\n",
    "        lowest_count = min(temp_list)\n",
    "        ratio = lowest_count/row_count\n",
    "        return ratio\n",
    "        "
   ]
  },
  {
   "cell_type": "code",
   "execution_count": 16,
   "metadata": {},
   "outputs": [
    {
     "output_type": "stream",
     "name": "stdout",
     "text": "['last_scraped', 'host_has_profile_pic', 'calendar_last_scraped', 'require_guest_profile_picture', 'require_guest_phone_verification']\n"
    }
   ],
   "source": [
    "#run this for all columns\n",
    "#if it's less than 5%, then remove them\n",
    "columns = list(listings)\n",
    "remove_columns_3 = []\n",
    "for column in columns:\n",
    "    remove_column_y_n = countratio(column)\n",
    "    try:\n",
    "        if remove_column_y_n < .05:\n",
    "            remove_columns_3.append(column)\n",
    "    except: ''\n",
    "\n",
    "print(remove_columns_3)\n"
   ]
  },
  {
   "cell_type": "code",
   "execution_count": 17,
   "metadata": {},
   "outputs": [
    {
     "output_type": "execute_result",
     "data": {
      "text/plain": "(50796, 75)"
     },
     "metadata": {},
     "execution_count": 17
    }
   ],
   "source": [
    "listings.drop(remove_columns_3, inplace=True, axis=1)\n",
    "#chek if columns are removed\n",
    "listings.shape\n"
   ]
  },
  {
   "cell_type": "markdown",
   "metadata": {},
   "source": [
    "# Remove columns with url to pictures and thumbnail"
   ]
  },
  {
   "cell_type": "code",
   "execution_count": 18,
   "metadata": {},
   "outputs": [
    {
     "output_type": "execute_result",
     "data": {
      "text/plain": "['picture_url', 'host_picture_url', 'host_thumbnail_url']"
     },
     "metadata": {},
     "execution_count": 18
    }
   ],
   "source": [
    "#create list of picutres and thumbnail columns\n",
    "remove_columns_4 = []\n",
    "for col in listings.filter(like='picture').columns:\n",
    "    remove_columns_4.append(col)\n",
    "\n",
    "for col in listings.filter(like='thumbnail').columns:\n",
    "    remove_columns_4.append(col)\n",
    "\n",
    "remove_columns_4\n"
   ]
  },
  {
   "cell_type": "code",
   "execution_count": 19,
   "metadata": {},
   "outputs": [
    {
     "output_type": "execute_result",
     "data": {
      "text/plain": "(50796, 72)"
     },
     "metadata": {},
     "execution_count": 19
    }
   ],
   "source": [
    "listings.drop(remove_columns_4, inplace=True, axis=1)\n",
    "#chek if columns are removed\n",
    "listings.shape\n"
   ]
  },
  {
   "cell_type": "markdown",
   "metadata": {},
   "source": [
    "# Remove unused columns\n",
    "May use it later but remove for now"
   ]
  },
  {
   "cell_type": "code",
   "execution_count": 20,
   "metadata": {},
   "outputs": [],
   "source": [
    "Unused_columns = ['listing_url', 'host_location', 'name', 'host_id', 'host_url', 'host_name', 'host_total_listings_count', 'city', 'street', 'state', 'zipcode', 'neighbourhood', 'host_neighbourhood', 'neighbourhood_cleansed', 'market', 'smart_location', 'calculated_host_listings_count', 'calculated_host_listings_count_entire_homes', 'calculated_host_listings_count_private_rooms', 'calculated_host_listings_count_shared_rooms', 'minimum_nights', 'maximum_nights', 'minimum_minimum_nights', 'maximum_minimum_nights', 'minimum_maximum_nights', 'maximum_maximum_nights', 'minimum_nights_avg_ntm', 'maximum_nights_avg_ntm', 'calendar_updated', 'availability_30',\n",
    "'availability_60', 'availability_90', 'availability_365', 'latitude', 'longitude']\n",
    "\n",
    "listings.drop(columns=Unused_columns, inplace = True)\n"
   ]
  },
  {
   "cell_type": "markdown",
   "metadata": {},
   "source": [
    "# Export data to another csv\n",
    "Filename is selected_columns_listings.csv. To be used by next program"
   ]
  },
  {
   "cell_type": "code",
   "execution_count": 21,
   "metadata": {},
   "outputs": [],
   "source": [
    "#export columns left to csv to be used with second notebook\n",
    "path = '../../../data/new-york-city-airbnb-open-data/'\n",
    "\n",
    "listings_csv = os.path.join(path,'selected_columns_listings.csv')\n",
    "listings.to_csv(listings_csv)\n"
   ]
  },
  {
   "cell_type": "code",
   "execution_count": 22,
   "metadata": {},
   "outputs": [
    {
     "output_type": "execute_result",
     "data": {
      "text/plain": "(50796, 39)"
     },
     "metadata": {},
     "execution_count": 22
    }
   ],
   "source": [
    "listings.shape"
   ]
  },
  {
   "cell_type": "code",
   "execution_count": null,
   "metadata": {},
   "outputs": [],
   "source": []
  }
 ],
 "metadata": {
  "kernelspec": {
   "display_name": "Python 3",
   "language": "python",
   "name": "python3"
  },
  "language_info": {
   "codemirror_mode": {
    "name": "ipython",
    "version": 3
   },
   "file_extension": ".py",
   "mimetype": "text/x-python",
   "name": "python",
   "nbconvert_exporter": "python",
   "pygments_lexer": "ipython3",
   "version": "3.7.3-final"
  }
 },
 "nbformat": 4,
 "nbformat_minor": 2
}