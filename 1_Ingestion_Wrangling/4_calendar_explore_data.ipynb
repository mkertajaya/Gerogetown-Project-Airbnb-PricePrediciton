{
 "cells": [
  {
   "cell_type": "markdown",
   "metadata": {},
   "source": [
    "# Calendar data\n",
    "Calendar data exploration, tag and will join back to listings\n"
   ]
  },
  {
   "cell_type": "code",
   "execution_count": 1,
   "metadata": {},
   "outputs": [],
   "source": [
    "import os\n",
    "import numpy as np\n",
    "import pandas as pd\n",
    "import matplotlib\n",
    "import matplotlib.pyplot as plt\n",
    "import seaborn as sns\n",
    "\n",
    "import warnings\n",
    "warnings.filterwarnings('ignore')"
   ]
  },
  {
   "cell_type": "code",
   "execution_count": 3,
   "metadata": {},
   "outputs": [],
   "source": [
    "#read calendar\n",
    "path = '../../../data/new-york-city-airbnb-open-data/'\n",
    "calendar_csv = os.path.join(path,'calendar.csv')\n",
    "\n",
    "calendar = pd.read_csv(calendar_csv)"
   ]
  },
  {
   "cell_type": "code",
   "execution_count": 4,
   "metadata": {},
   "outputs": [
    {
     "output_type": "execute_result",
     "data": {
      "text/plain": "   listing_id        date available    price adjusted_price  minimum_nights  \\\n0       11943  2020-03-14         t  $150.00        $150.00               1   \n1        2060  2020-03-14         t  $100.00        $100.00               1   \n2        2060  2020-03-15         t  $100.00        $100.00               1   \n3        2060  2020-03-16         t  $100.00        $100.00               1   \n4        2060  2020-03-17         t  $100.00        $100.00               1   \n5        2060  2020-03-18         t  $100.00        $100.00               1   \n6        2060  2020-03-19         t  $100.00        $100.00               1   \n7        2060  2020-03-20         t  $100.00        $100.00               1   \n8        2060  2020-03-21         t  $100.00        $100.00               1   \n9        2060  2020-03-22         t  $100.00        $100.00               1   \n\n   maximum_nights  \n0             730  \n1             730  \n2             730  \n3             730  \n4             730  \n5             730  \n6             730  \n7             730  \n8             730  \n9             730  ",
      "text/html": "<div>\n<style scoped>\n    .dataframe tbody tr th:only-of-type {\n        vertical-align: middle;\n    }\n\n    .dataframe tbody tr th {\n        vertical-align: top;\n    }\n\n    .dataframe thead th {\n        text-align: right;\n    }\n</style>\n<table border=\"1\" class=\"dataframe\">\n  <thead>\n    <tr style=\"text-align: right;\">\n      <th></th>\n      <th>listing_id</th>\n      <th>date</th>\n      <th>available</th>\n      <th>price</th>\n      <th>adjusted_price</th>\n      <th>minimum_nights</th>\n      <th>maximum_nights</th>\n    </tr>\n  </thead>\n  <tbody>\n    <tr>\n      <th>0</th>\n      <td>11943</td>\n      <td>2020-03-14</td>\n      <td>t</td>\n      <td>$150.00</td>\n      <td>$150.00</td>\n      <td>1</td>\n      <td>730</td>\n    </tr>\n    <tr>\n      <th>1</th>\n      <td>2060</td>\n      <td>2020-03-14</td>\n      <td>t</td>\n      <td>$100.00</td>\n      <td>$100.00</td>\n      <td>1</td>\n      <td>730</td>\n    </tr>\n    <tr>\n      <th>2</th>\n      <td>2060</td>\n      <td>2020-03-15</td>\n      <td>t</td>\n      <td>$100.00</td>\n      <td>$100.00</td>\n      <td>1</td>\n      <td>730</td>\n    </tr>\n    <tr>\n      <th>3</th>\n      <td>2060</td>\n      <td>2020-03-16</td>\n      <td>t</td>\n      <td>$100.00</td>\n      <td>$100.00</td>\n      <td>1</td>\n      <td>730</td>\n    </tr>\n    <tr>\n      <th>4</th>\n      <td>2060</td>\n      <td>2020-03-17</td>\n      <td>t</td>\n      <td>$100.00</td>\n      <td>$100.00</td>\n      <td>1</td>\n      <td>730</td>\n    </tr>\n    <tr>\n      <th>5</th>\n      <td>2060</td>\n      <td>2020-03-18</td>\n      <td>t</td>\n      <td>$100.00</td>\n      <td>$100.00</td>\n      <td>1</td>\n      <td>730</td>\n    </tr>\n    <tr>\n      <th>6</th>\n      <td>2060</td>\n      <td>2020-03-19</td>\n      <td>t</td>\n      <td>$100.00</td>\n      <td>$100.00</td>\n      <td>1</td>\n      <td>730</td>\n    </tr>\n    <tr>\n      <th>7</th>\n      <td>2060</td>\n      <td>2020-03-20</td>\n      <td>t</td>\n      <td>$100.00</td>\n      <td>$100.00</td>\n      <td>1</td>\n      <td>730</td>\n    </tr>\n    <tr>\n      <th>8</th>\n      <td>2060</td>\n      <td>2020-03-21</td>\n      <td>t</td>\n      <td>$100.00</td>\n      <td>$100.00</td>\n      <td>1</td>\n      <td>730</td>\n    </tr>\n    <tr>\n      <th>9</th>\n      <td>2060</td>\n      <td>2020-03-22</td>\n      <td>t</td>\n      <td>$100.00</td>\n      <td>$100.00</td>\n      <td>1</td>\n      <td>730</td>\n    </tr>\n  </tbody>\n</table>\n</div>"
     },
     "metadata": {},
     "execution_count": 4
    }
   ],
   "source": [
    "calendar.head(10)"
   ]
  },
  {
   "cell_type": "code",
   "execution_count": 5,
   "metadata": {},
   "outputs": [
    {
     "data": {
      "text/plain": [
       "(18540540, 7)"
      ]
     },
     "execution_count": 5,
     "metadata": {},
     "output_type": "execute_result"
    }
   ],
   "source": [
    "#shape\n",
    "calendar.shape"
   ]
  },
  {
   "cell_type": "code",
   "execution_count": 6,
   "metadata": {},
   "outputs": [
    {
     "data": {
      "text/plain": [
       "listing_id           0\n",
       "date                 0\n",
       "available            0\n",
       "price             1268\n",
       "adjusted_price    1268\n",
       "minimum_nights       0\n",
       "maximum_nights       0\n",
       "dtype: int64"
      ]
     },
     "execution_count": 6,
     "metadata": {},
     "output_type": "execute_result"
    }
   ],
   "source": [
    "#find null columns\n",
    "calendar.isna().sum()"
   ]
  },
  {
   "cell_type": "code",
   "execution_count": 12,
   "metadata": {},
   "outputs": [],
   "source": [
    "filt = calendar['available'] == 'f'\n",
    "calendar_false = calendar[filt]"
   ]
  },
  {
   "cell_type": "code",
   "execution_count": 13,
   "metadata": {},
   "outputs": [
    {
     "data": {
      "text/plain": [
       "'2021-03-14'"
      ]
     },
     "execution_count": 13,
     "metadata": {},
     "output_type": "execute_result"
    }
   ],
   "source": [
    "#looks like true or false is useless\n",
    "calendar_false['date'].max()"
   ]
  },
  {
   "cell_type": "code",
   "execution_count": 14,
   "metadata": {},
   "outputs": [
    {
     "data": {
      "text/plain": [
       "'2021-03-14'"
      ]
     },
     "execution_count": 14,
     "metadata": {},
     "output_type": "execute_result"
    }
   ],
   "source": [
    "calendar_false['date'].max()"
   ]
  },
  {
   "cell_type": "code",
   "execution_count": 15,
   "metadata": {},
   "outputs": [],
   "source": [
    "#drop null price records as they are only few\n",
    "Drop_na = ['price']\n",
    "calendar = calendar.dropna(subset=Drop_na)"
   ]
  },
  {
   "cell_type": "code",
   "execution_count": 17,
   "metadata": {},
   "outputs": [
    {
     "data": {
      "text/html": [
       "<div>\n",
       "<style scoped>\n",
       "    .dataframe tbody tr th:only-of-type {\n",
       "        vertical-align: middle;\n",
       "    }\n",
       "\n",
       "    .dataframe tbody tr th {\n",
       "        vertical-align: top;\n",
       "    }\n",
       "\n",
       "    .dataframe thead th {\n",
       "        text-align: right;\n",
       "    }\n",
       "</style>\n",
       "<table border=\"1\" class=\"dataframe\">\n",
       "  <thead>\n",
       "    <tr style=\"text-align: right;\">\n",
       "      <th></th>\n",
       "      <th>date</th>\n",
       "    </tr>\n",
       "    <tr>\n",
       "      <th>listing_id</th>\n",
       "      <th></th>\n",
       "    </tr>\n",
       "  </thead>\n",
       "  <tbody>\n",
       "    <tr>\n",
       "      <th>2060</th>\n",
       "      <td>365</td>\n",
       "    </tr>\n",
       "    <tr>\n",
       "      <th>2595</th>\n",
       "      <td>365</td>\n",
       "    </tr>\n",
       "    <tr>\n",
       "      <th>3831</th>\n",
       "      <td>365</td>\n",
       "    </tr>\n",
       "    <tr>\n",
       "      <th>5099</th>\n",
       "      <td>365</td>\n",
       "    </tr>\n",
       "    <tr>\n",
       "      <th>5114</th>\n",
       "      <td>365</td>\n",
       "    </tr>\n",
       "  </tbody>\n",
       "</table>\n",
       "</div>"
      ],
      "text/plain": [
       "            date\n",
       "listing_id      \n",
       "2060         365\n",
       "2595         365\n",
       "3831         365\n",
       "5099         365\n",
       "5114         365"
      ]
     },
     "execution_count": 17,
     "metadata": {},
     "output_type": "execute_result"
    }
   ],
   "source": [
    "#count unique calendar per listing, looks like all listings have 365 days\n",
    "calendar.groupby('listing_id').agg({'date':'nunique'}).head()"
   ]
  },
  {
   "cell_type": "markdown",
   "metadata": {},
   "source": [
    "# Currency conversion\n",
    "This will remove dollars sign, comma and then convert to float"
   ]
  },
  {
   "cell_type": "code",
   "execution_count": 18,
   "metadata": {},
   "outputs": [],
   "source": [
    "#function\n",
    "def fix_currency(row):\n",
    "    row = row.replace(',', '')\n",
    "    row = row.replace('$', '')\n",
    "    return row"
   ]
  },
  {
   "cell_type": "code",
   "execution_count": 19,
   "metadata": {},
   "outputs": [],
   "source": [
    "colname = 'price'\n",
    "calendar[colname] = calendar[colname].apply(lambda col: fix_currency(col)).astype(float)"
   ]
  },
  {
   "cell_type": "code",
   "execution_count": 27,
   "metadata": {},
   "outputs": [
    {
     "data": {
      "text/html": [
       "<div>\n",
       "<style scoped>\n",
       "    .dataframe tbody tr th:only-of-type {\n",
       "        vertical-align: middle;\n",
       "    }\n",
       "\n",
       "    .dataframe tbody tr th {\n",
       "        vertical-align: top;\n",
       "    }\n",
       "\n",
       "    .dataframe thead th {\n",
       "        text-align: right;\n",
       "    }\n",
       "</style>\n",
       "<table border=\"1\" class=\"dataframe\">\n",
       "  <thead>\n",
       "    <tr style=\"text-align: right;\">\n",
       "      <th></th>\n",
       "      <th>price</th>\n",
       "      <th>date</th>\n",
       "    </tr>\n",
       "    <tr>\n",
       "      <th>listing_id</th>\n",
       "      <th></th>\n",
       "      <th></th>\n",
       "    </tr>\n",
       "  </thead>\n",
       "  <tbody>\n",
       "    <tr>\n",
       "      <th>2060</th>\n",
       "      <td>10.0</td>\n",
       "      <td>2020-03-14</td>\n",
       "    </tr>\n",
       "    <tr>\n",
       "      <th>2595</th>\n",
       "      <td>175.0</td>\n",
       "      <td>2020-03-14</td>\n",
       "    </tr>\n",
       "    <tr>\n",
       "      <th>3831</th>\n",
       "      <td>80.0</td>\n",
       "      <td>2020-03-14</td>\n",
       "    </tr>\n",
       "    <tr>\n",
       "      <th>5099</th>\n",
       "      <td>200.0</td>\n",
       "      <td>2020-03-14</td>\n",
       "    </tr>\n",
       "    <tr>\n",
       "      <th>5114</th>\n",
       "      <td>94.0</td>\n",
       "      <td>2020-03-14</td>\n",
       "    </tr>\n",
       "  </tbody>\n",
       "</table>\n",
       "</div>"
      ],
      "text/plain": [
       "            price        date\n",
       "listing_id                   \n",
       "2060         10.0  2020-03-14\n",
       "2595        175.0  2020-03-14\n",
       "3831         80.0  2020-03-14\n",
       "5099        200.0  2020-03-14\n",
       "5114         94.0  2020-03-14"
      ]
     },
     "execution_count": 27,
     "metadata": {},
     "output_type": "execute_result"
    }
   ],
   "source": [
    "#mean price per listing\n",
    "calendar.groupby('listing_id').agg({'price':'min', 'date': 'min'}).head()"
   ]
  },
  {
   "cell_type": "code",
   "execution_count": 29,
   "metadata": {},
   "outputs": [
    {
     "data": {
      "text/html": [
       "<div>\n",
       "<style scoped>\n",
       "    .dataframe tbody tr th:only-of-type {\n",
       "        vertical-align: middle;\n",
       "    }\n",
       "\n",
       "    .dataframe tbody tr th {\n",
       "        vertical-align: top;\n",
       "    }\n",
       "\n",
       "    .dataframe thead th {\n",
       "        text-align: right;\n",
       "    }\n",
       "</style>\n",
       "<table border=\"1\" class=\"dataframe\">\n",
       "  <thead>\n",
       "    <tr style=\"text-align: right;\">\n",
       "      <th></th>\n",
       "      <th>listing_id</th>\n",
       "      <th>date</th>\n",
       "      <th>available</th>\n",
       "      <th>price</th>\n",
       "      <th>adjusted_price</th>\n",
       "      <th>minimum_nights</th>\n",
       "      <th>maximum_nights</th>\n",
       "    </tr>\n",
       "  </thead>\n",
       "  <tbody>\n",
       "    <tr>\n",
       "      <th>235</th>\n",
       "      <td>2060</td>\n",
       "      <td>2020-11-03</td>\n",
       "      <td>t</td>\n",
       "      <td>10.0</td>\n",
       "      <td>$10.00</td>\n",
       "      <td>1</td>\n",
       "      <td>730</td>\n",
       "    </tr>\n",
       "  </tbody>\n",
       "</table>\n",
       "</div>"
      ],
      "text/plain": [
       "     listing_id        date available  price adjusted_price  minimum_nights  \\\n",
       "235        2060  2020-11-03         t   10.0         $10.00               1   \n",
       "\n",
       "     maximum_nights  \n",
       "235             730  "
      ]
     },
     "execution_count": 29,
     "metadata": {},
     "output_type": "execute_result"
    }
   ],
   "source": [
    "filt = (calendar['listing_id'] == 2060) & (calendar['price'] == 10)\n",
    "calendar[filt]"
   ]
  },
  {
   "cell_type": "code",
   "execution_count": 6,
   "metadata": {},
   "outputs": [
    {
     "data": {
      "text/plain": [
       "158.1586515910657"
      ]
     },
     "execution_count": 6,
     "metadata": {},
     "output_type": "execute_result"
    }
   ],
   "source": [
    "calendar['price'].mean()"
   ]
  },
  {
   "cell_type": "code",
   "execution_count": 12,
   "metadata": {},
   "outputs": [
    {
     "data": {
      "text/plain": [
       "0.0"
      ]
     },
     "execution_count": 12,
     "metadata": {},
     "output_type": "execute_result"
    }
   ],
   "source": [
    "calendar['price'].min()"
   ]
  },
  {
   "cell_type": "code",
   "execution_count": 13,
   "metadata": {},
   "outputs": [
    {
     "data": {
      "text/plain": [
       "10000.0"
      ]
     },
     "execution_count": 13,
     "metadata": {},
     "output_type": "execute_result"
    }
   ],
   "source": [
    "calendar['price'].max()"
   ]
  },
  {
   "cell_type": "code",
   "execution_count": 30,
   "metadata": {},
   "outputs": [],
   "source": [
    "#strange, why 0 dollar?, looks only around 1000 records, remove\n",
    "filt = calendar['price']> 0\n",
    "calendar = calendar[filt]"
   ]
  },
  {
   "cell_type": "code",
   "execution_count": 31,
   "metadata": {},
   "outputs": [
    {
     "data": {
      "text/plain": [
       "(18538164, 7)"
      ]
     },
     "execution_count": 31,
     "metadata": {},
     "output_type": "execute_result"
    }
   ],
   "source": [
    "calendar.shape"
   ]
  },
  {
   "cell_type": "code",
   "execution_count": 32,
   "metadata": {},
   "outputs": [
    {
     "data": {
      "text/plain": [
       "<matplotlib.axes._subplots.AxesSubplot at 0x1a17d04390>"
      ]
     },
     "execution_count": 32,
     "metadata": {},
     "output_type": "execute_result"
    },
    {
     "data": {
      "image/png": "[encoded data removed]",
      "text/plain": [
       "<Figure size 432x288 with 1 Axes>"
      ]
     },
     "metadata": {
      "needs_background": "light"
     },
     "output_type": "display_data"
    }
   ],
   "source": [
    "#graph price (based on listings price analysis)\n",
    "filt = (calendar['price'] < 2000)\n",
    "sns.distplot(calendar['price'][filt], rug=True)"
   ]
  },
  {
   "cell_type": "code",
   "execution_count": 33,
   "metadata": {},
   "outputs": [
    {
     "data": {
      "text/plain": [
       "(18538164, 7)"
      ]
     },
     "execution_count": 33,
     "metadata": {},
     "output_type": "execute_result"
    }
   ],
   "source": [
    "calendar.shape"
   ]
  },
  {
   "cell_type": "code",
   "execution_count": 34,
   "metadata": {},
   "outputs": [],
   "source": [
    "#read US holiday data\n",
    "path = '../../data/new-york-city-airbnb-open-data/'\n",
    "us_holiday_csv = os.path.join(path,'usholidays.csv')\n",
    "\n",
    "us_holiday = pd.read_csv(us_holiday_csv)"
   ]
  },
  {
   "cell_type": "code",
   "execution_count": 35,
   "metadata": {},
   "outputs": [
    {
     "data": {
      "text/html": [
       "<div>\n",
       "<style scoped>\n",
       "    .dataframe tbody tr th:only-of-type {\n",
       "        vertical-align: middle;\n",
       "    }\n",
       "\n",
       "    .dataframe tbody tr th {\n",
       "        vertical-align: top;\n",
       "    }\n",
       "\n",
       "    .dataframe thead th {\n",
       "        text-align: right;\n",
       "    }\n",
       "</style>\n",
       "<table border=\"1\" class=\"dataframe\">\n",
       "  <thead>\n",
       "    <tr style=\"text-align: right;\">\n",
       "      <th></th>\n",
       "      <th>Unnamed: 0</th>\n",
       "      <th>Date</th>\n",
       "      <th>Holiday</th>\n",
       "    </tr>\n",
       "  </thead>\n",
       "  <tbody>\n",
       "    <tr>\n",
       "      <th>0</th>\n",
       "      <td>0</td>\n",
       "      <td>2010-12-31</td>\n",
       "      <td>New Year's Day</td>\n",
       "    </tr>\n",
       "    <tr>\n",
       "      <th>1</th>\n",
       "      <td>1</td>\n",
       "      <td>2011-01-17</td>\n",
       "      <td>Birthday of Martin Luther King, Jr.</td>\n",
       "    </tr>\n",
       "    <tr>\n",
       "      <th>2</th>\n",
       "      <td>2</td>\n",
       "      <td>2011-02-21</td>\n",
       "      <td>Washington's Birthday</td>\n",
       "    </tr>\n",
       "    <tr>\n",
       "      <th>3</th>\n",
       "      <td>3</td>\n",
       "      <td>2011-05-30</td>\n",
       "      <td>Memorial Day</td>\n",
       "    </tr>\n",
       "    <tr>\n",
       "      <th>4</th>\n",
       "      <td>4</td>\n",
       "      <td>2011-07-04</td>\n",
       "      <td>Independence Day</td>\n",
       "    </tr>\n",
       "  </tbody>\n",
       "</table>\n",
       "</div>"
      ],
      "text/plain": [
       "   Unnamed: 0        Date                              Holiday\n",
       "0           0  2010-12-31                       New Year's Day\n",
       "1           1  2011-01-17  Birthday of Martin Luther King, Jr.\n",
       "2           2  2011-02-21                Washington's Birthday\n",
       "3           3  2011-05-30                         Memorial Day\n",
       "4           4  2011-07-04                     Independence Day"
      ]
     },
     "execution_count": 35,
     "metadata": {},
     "output_type": "execute_result"
    }
   ],
   "source": [
    "us_holiday.head()"
   ]
  },
  {
   "cell_type": "code",
   "execution_count": 36,
   "metadata": {},
   "outputs": [],
   "source": [
    "#drop column and rename for join later\n",
    "us_holiday.drop(columns='Unnamed: 0', inplace = True)\n",
    "us_holiday.rename(columns={'Date':'date'}, inplace=True)"
   ]
  },
  {
   "cell_type": "code",
   "execution_count": 37,
   "metadata": {},
   "outputs": [
    {
     "data": {
      "text/plain": [
       "(18538164, 8)"
      ]
     },
     "execution_count": 37,
     "metadata": {},
     "output_type": "execute_result"
    }
   ],
   "source": [
    "calendar_w_holidays = pd.merge(calendar, us_holiday, how='left', on=['date'])\n",
    "calendar_w_holidays.shape"
   ]
  },
  {
   "cell_type": "code",
   "execution_count": 38,
   "metadata": {},
   "outputs": [
    {
     "data": {
      "text/html": [
       "<div>\n",
       "<style scoped>\n",
       "    .dataframe tbody tr th:only-of-type {\n",
       "        vertical-align: middle;\n",
       "    }\n",
       "\n",
       "    .dataframe tbody tr th {\n",
       "        vertical-align: top;\n",
       "    }\n",
       "\n",
       "    .dataframe thead th {\n",
       "        text-align: right;\n",
       "    }\n",
       "</style>\n",
       "<table border=\"1\" class=\"dataframe\">\n",
       "  <thead>\n",
       "    <tr style=\"text-align: right;\">\n",
       "      <th></th>\n",
       "      <th>listing_id</th>\n",
       "      <th>date</th>\n",
       "      <th>available</th>\n",
       "      <th>price</th>\n",
       "      <th>adjusted_price</th>\n",
       "      <th>minimum_nights</th>\n",
       "      <th>maximum_nights</th>\n",
       "      <th>Holiday</th>\n",
       "    </tr>\n",
       "  </thead>\n",
       "  <tbody>\n",
       "    <tr>\n",
       "      <th>0</th>\n",
       "      <td>11943</td>\n",
       "      <td>2020-03-14</td>\n",
       "      <td>t</td>\n",
       "      <td>150.0</td>\n",
       "      <td>$150.00</td>\n",
       "      <td>1</td>\n",
       "      <td>730</td>\n",
       "      <td>NaN</td>\n",
       "    </tr>\n",
       "    <tr>\n",
       "      <th>1</th>\n",
       "      <td>2060</td>\n",
       "      <td>2020-03-14</td>\n",
       "      <td>t</td>\n",
       "      <td>100.0</td>\n",
       "      <td>$100.00</td>\n",
       "      <td>1</td>\n",
       "      <td>730</td>\n",
       "      <td>NaN</td>\n",
       "    </tr>\n",
       "    <tr>\n",
       "      <th>2</th>\n",
       "      <td>2060</td>\n",
       "      <td>2020-03-15</td>\n",
       "      <td>t</td>\n",
       "      <td>100.0</td>\n",
       "      <td>$100.00</td>\n",
       "      <td>1</td>\n",
       "      <td>730</td>\n",
       "      <td>NaN</td>\n",
       "    </tr>\n",
       "    <tr>\n",
       "      <th>3</th>\n",
       "      <td>2060</td>\n",
       "      <td>2020-03-16</td>\n",
       "      <td>t</td>\n",
       "      <td>100.0</td>\n",
       "      <td>$100.00</td>\n",
       "      <td>1</td>\n",
       "      <td>730</td>\n",
       "      <td>NaN</td>\n",
       "    </tr>\n",
       "    <tr>\n",
       "      <th>4</th>\n",
       "      <td>2060</td>\n",
       "      <td>2020-03-17</td>\n",
       "      <td>t</td>\n",
       "      <td>100.0</td>\n",
       "      <td>$100.00</td>\n",
       "      <td>1</td>\n",
       "      <td>730</td>\n",
       "      <td>NaN</td>\n",
       "    </tr>\n",
       "  </tbody>\n",
       "</table>\n",
       "</div>"
      ],
      "text/plain": [
       "   listing_id        date available  price adjusted_price  minimum_nights  \\\n",
       "0       11943  2020-03-14         t  150.0        $150.00               1   \n",
       "1        2060  2020-03-14         t  100.0        $100.00               1   \n",
       "2        2060  2020-03-15         t  100.0        $100.00               1   \n",
       "3        2060  2020-03-16         t  100.0        $100.00               1   \n",
       "4        2060  2020-03-17         t  100.0        $100.00               1   \n",
       "\n",
       "   maximum_nights Holiday  \n",
       "0             730     NaN  \n",
       "1             730     NaN  \n",
       "2             730     NaN  \n",
       "3             730     NaN  \n",
       "4             730     NaN  "
      ]
     },
     "execution_count": 38,
     "metadata": {},
     "output_type": "execute_result"
    }
   ],
   "source": [
    "calendar_w_holidays.head()"
   ]
  },
  {
   "cell_type": "code",
   "execution_count": 39,
   "metadata": {},
   "outputs": [],
   "source": [
    "#drop unused colmuns\n",
    "Unused_columns = ['adjusted_price', 'minimum_nights', 'maximum_nights']\n",
    "calendar_w_holidays.drop(columns=Unused_columns, inplace = True)"
   ]
  },
  {
   "cell_type": "code",
   "execution_count": 40,
   "metadata": {},
   "outputs": [
    {
     "data": {
      "text/html": [
       "<div>\n",
       "<style scoped>\n",
       "    .dataframe tbody tr th:only-of-type {\n",
       "        vertical-align: middle;\n",
       "    }\n",
       "\n",
       "    .dataframe tbody tr th {\n",
       "        vertical-align: top;\n",
       "    }\n",
       "\n",
       "    .dataframe thead th {\n",
       "        text-align: right;\n",
       "    }\n",
       "</style>\n",
       "<table border=\"1\" class=\"dataframe\">\n",
       "  <thead>\n",
       "    <tr style=\"text-align: right;\">\n",
       "      <th></th>\n",
       "      <th>listing_id</th>\n",
       "      <th>date</th>\n",
       "      <th>available</th>\n",
       "      <th>price</th>\n",
       "      <th>Holiday</th>\n",
       "    </tr>\n",
       "  </thead>\n",
       "  <tbody>\n",
       "    <tr>\n",
       "      <th>0</th>\n",
       "      <td>11943</td>\n",
       "      <td>2020-03-14</td>\n",
       "      <td>t</td>\n",
       "      <td>150.0</td>\n",
       "      <td>NaN</td>\n",
       "    </tr>\n",
       "    <tr>\n",
       "      <th>1</th>\n",
       "      <td>2060</td>\n",
       "      <td>2020-03-14</td>\n",
       "      <td>t</td>\n",
       "      <td>100.0</td>\n",
       "      <td>NaN</td>\n",
       "    </tr>\n",
       "    <tr>\n",
       "      <th>2</th>\n",
       "      <td>2060</td>\n",
       "      <td>2020-03-15</td>\n",
       "      <td>t</td>\n",
       "      <td>100.0</td>\n",
       "      <td>NaN</td>\n",
       "    </tr>\n",
       "    <tr>\n",
       "      <th>3</th>\n",
       "      <td>2060</td>\n",
       "      <td>2020-03-16</td>\n",
       "      <td>t</td>\n",
       "      <td>100.0</td>\n",
       "      <td>NaN</td>\n",
       "    </tr>\n",
       "    <tr>\n",
       "      <th>4</th>\n",
       "      <td>2060</td>\n",
       "      <td>2020-03-17</td>\n",
       "      <td>t</td>\n",
       "      <td>100.0</td>\n",
       "      <td>NaN</td>\n",
       "    </tr>\n",
       "  </tbody>\n",
       "</table>\n",
       "</div>"
      ],
      "text/plain": [
       "   listing_id        date available  price Holiday\n",
       "0       11943  2020-03-14         t  150.0     NaN\n",
       "1        2060  2020-03-14         t  100.0     NaN\n",
       "2        2060  2020-03-15         t  100.0     NaN\n",
       "3        2060  2020-03-16         t  100.0     NaN\n",
       "4        2060  2020-03-17         t  100.0     NaN"
      ]
     },
     "execution_count": 40,
     "metadata": {},
     "output_type": "execute_result"
    }
   ],
   "source": [
    "calendar_w_holidays.head()"
   ]
  },
  {
   "cell_type": "code",
   "execution_count": 41,
   "metadata": {},
   "outputs": [],
   "source": [
    "#look at how many price each listings have\n",
    "listing_price = calendar.groupby('listing_id').agg({'price':'nunique'}).sort_values(by=['price'], ascending=False)"
   ]
  },
  {
   "cell_type": "code",
   "execution_count": 42,
   "metadata": {},
   "outputs": [
    {
     "data": {
      "text/html": [
       "<div>\n",
       "<style scoped>\n",
       "    .dataframe tbody tr th:only-of-type {\n",
       "        vertical-align: middle;\n",
       "    }\n",
       "\n",
       "    .dataframe tbody tr th {\n",
       "        vertical-align: top;\n",
       "    }\n",
       "\n",
       "    .dataframe thead th {\n",
       "        text-align: right;\n",
       "    }\n",
       "</style>\n",
       "<table border=\"1\" class=\"dataframe\">\n",
       "  <thead>\n",
       "    <tr style=\"text-align: right;\">\n",
       "      <th></th>\n",
       "      <th>price</th>\n",
       "    </tr>\n",
       "    <tr>\n",
       "      <th>listing_id</th>\n",
       "      <th></th>\n",
       "    </tr>\n",
       "  </thead>\n",
       "  <tbody>\n",
       "    <tr>\n",
       "      <th>37926696</th>\n",
       "      <td>321</td>\n",
       "    </tr>\n",
       "    <tr>\n",
       "      <th>40628713</th>\n",
       "      <td>306</td>\n",
       "    </tr>\n",
       "    <tr>\n",
       "      <th>42321518</th>\n",
       "      <td>302</td>\n",
       "    </tr>\n",
       "    <tr>\n",
       "      <th>40247206</th>\n",
       "      <td>293</td>\n",
       "    </tr>\n",
       "    <tr>\n",
       "      <th>37279744</th>\n",
       "      <td>289</td>\n",
       "    </tr>\n",
       "  </tbody>\n",
       "</table>\n",
       "</div>"
      ],
      "text/plain": [
       "            price\n",
       "listing_id       \n",
       "37926696      321\n",
       "40628713      306\n",
       "42321518      302\n",
       "40247206      293\n",
       "37279744      289"
      ]
     },
     "execution_count": 42,
     "metadata": {},
     "output_type": "execute_result"
    }
   ],
   "source": [
    "#number of different prices per listing\n",
    "listing_price.head()"
   ]
  },
  {
   "cell_type": "code",
   "execution_count": 43,
   "metadata": {},
   "outputs": [
    {
     "data": {
      "text/plain": [
       "<matplotlib.axes._subplots.AxesSubplot at 0x1a757daf28>"
      ]
     },
     "execution_count": 43,
     "metadata": {},
     "output_type": "execute_result"
    },
    {
     "data": {
      "image/png": "[encoded data removed]",
      "text/plain": [
       "<Figure size 432x288 with 1 Axes>"
      ]
     },
     "metadata": {
      "needs_background": "light"
     },
     "output_type": "display_data"
    }
   ],
   "source": [
    "#looking at listing that have under 100 different prices only\n",
    "filt = listing_price['price'] < 100\n",
    "sns.distplot(listing_price['price'][filt], rug=True)"
   ]
  },
  {
   "cell_type": "code",
   "execution_count": 44,
   "metadata": {},
   "outputs": [
    {
     "data": {
      "text/plain": [
       "<matplotlib.axes._subplots.AxesSubplot at 0x1a17988a90>"
      ]
     },
     "execution_count": 44,
     "metadata": {},
     "output_type": "execute_result"
    },
    {
     "data": {
      "image/png": "[encoded data removed]",
      "text/plain": [
       "<Figure size 432x288 with 1 Axes>"
      ]
     },
     "metadata": {
      "needs_background": "light"
     },
     "output_type": "display_data"
    }
   ],
   "source": [
    "#looking at the chart, looks like most have under 20 prices, redraw for under 20\n",
    "filt = listing_price['price'] < 20\n",
    "sns.distplot(listing_price['price'][filt], rug=True)"
   ]
  },
  {
   "cell_type": "code",
   "execution_count": 45,
   "metadata": {},
   "outputs": [
    {
     "data": {
      "text/html": [
       "<div>\n",
       "<style scoped>\n",
       "    .dataframe tbody tr th:only-of-type {\n",
       "        vertical-align: middle;\n",
       "    }\n",
       "\n",
       "    .dataframe tbody tr th {\n",
       "        vertical-align: top;\n",
       "    }\n",
       "\n",
       "    .dataframe thead th {\n",
       "        text-align: right;\n",
       "    }\n",
       "</style>\n",
       "<table border=\"1\" class=\"dataframe\">\n",
       "  <thead>\n",
       "    <tr style=\"text-align: right;\">\n",
       "      <th></th>\n",
       "      <th>price</th>\n",
       "    </tr>\n",
       "    <tr>\n",
       "      <th>listing_id</th>\n",
       "      <th></th>\n",
       "    </tr>\n",
       "  </thead>\n",
       "  <tbody>\n",
       "    <tr>\n",
       "      <th>36312602</th>\n",
       "      <td>19</td>\n",
       "    </tr>\n",
       "    <tr>\n",
       "      <th>40651757</th>\n",
       "      <td>19</td>\n",
       "    </tr>\n",
       "    <tr>\n",
       "      <th>38620656</th>\n",
       "      <td>19</td>\n",
       "    </tr>\n",
       "    <tr>\n",
       "      <th>16202962</th>\n",
       "      <td>19</td>\n",
       "    </tr>\n",
       "    <tr>\n",
       "      <th>29646454</th>\n",
       "      <td>19</td>\n",
       "    </tr>\n",
       "  </tbody>\n",
       "</table>\n",
       "</div>"
      ],
      "text/plain": [
       "            price\n",
       "listing_id       \n",
       "36312602       19\n",
       "40651757       19\n",
       "38620656       19\n",
       "16202962       19\n",
       "29646454       19"
      ]
     },
     "execution_count": 45,
     "metadata": {},
     "output_type": "execute_result"
    }
   ],
   "source": [
    "#number of listings that have 20 diff prices or less, looks like a majority of them\n",
    "filt = listing_price['price'] < 20\n",
    "listing_price[filt].head()"
   ]
  },
  {
   "cell_type": "code",
   "execution_count": 50,
   "metadata": {},
   "outputs": [
    {
     "data": {
      "text/html": [
       "<div>\n",
       "<style scoped>\n",
       "    .dataframe tbody tr th:only-of-type {\n",
       "        vertical-align: middle;\n",
       "    }\n",
       "\n",
       "    .dataframe tbody tr th {\n",
       "        vertical-align: top;\n",
       "    }\n",
       "\n",
       "    .dataframe thead th {\n",
       "        text-align: right;\n",
       "    }\n",
       "</style>\n",
       "<table border=\"1\" class=\"dataframe\">\n",
       "  <thead>\n",
       "    <tr style=\"text-align: right;\">\n",
       "      <th></th>\n",
       "      <th>listing_id</th>\n",
       "      <th>date</th>\n",
       "      <th>available</th>\n",
       "      <th>price</th>\n",
       "      <th>Holiday</th>\n",
       "    </tr>\n",
       "  </thead>\n",
       "  <tbody>\n",
       "    <tr>\n",
       "      <th>14488895</th>\n",
       "      <td>36312602</td>\n",
       "      <td>2020-05-25</td>\n",
       "      <td>f</td>\n",
       "      <td>22.0</td>\n",
       "      <td>Memorial Day</td>\n",
       "    </tr>\n",
       "    <tr>\n",
       "      <th>14488978</th>\n",
       "      <td>36312602</td>\n",
       "      <td>2020-07-03</td>\n",
       "      <td>f</td>\n",
       "      <td>19.0</td>\n",
       "      <td>Independence Day</td>\n",
       "    </tr>\n",
       "    <tr>\n",
       "      <th>14489044</th>\n",
       "      <td>36312602</td>\n",
       "      <td>2020-09-07</td>\n",
       "      <td>f</td>\n",
       "      <td>40.0</td>\n",
       "      <td>Labor Day</td>\n",
       "    </tr>\n",
       "    <tr>\n",
       "      <th>14489079</th>\n",
       "      <td>36312602</td>\n",
       "      <td>2020-10-12</td>\n",
       "      <td>f</td>\n",
       "      <td>59.0</td>\n",
       "      <td>Columbus Day</td>\n",
       "    </tr>\n",
       "    <tr>\n",
       "      <th>14489109</th>\n",
       "      <td>36312602</td>\n",
       "      <td>2020-11-11</td>\n",
       "      <td>f</td>\n",
       "      <td>59.0</td>\n",
       "      <td>Veterans Day</td>\n",
       "    </tr>\n",
       "    <tr>\n",
       "      <th>14489124</th>\n",
       "      <td>36312602</td>\n",
       "      <td>2020-11-26</td>\n",
       "      <td>f</td>\n",
       "      <td>61.0</td>\n",
       "      <td>Thanksgiving Day</td>\n",
       "    </tr>\n",
       "    <tr>\n",
       "      <th>14489153</th>\n",
       "      <td>36312602</td>\n",
       "      <td>2020-12-25</td>\n",
       "      <td>f</td>\n",
       "      <td>63.0</td>\n",
       "      <td>Christmas Day</td>\n",
       "    </tr>\n",
       "  </tbody>\n",
       "</table>\n",
       "</div>"
      ],
      "text/plain": [
       "          listing_id        date available  price           Holiday\n",
       "14488895    36312602  2020-05-25         f   22.0      Memorial Day\n",
       "14488978    36312602  2020-07-03         f   19.0  Independence Day\n",
       "14489044    36312602  2020-09-07         f   40.0         Labor Day\n",
       "14489079    36312602  2020-10-12         f   59.0      Columbus Day\n",
       "14489109    36312602  2020-11-11         f   59.0      Veterans Day\n",
       "14489124    36312602  2020-11-26         f   61.0  Thanksgiving Day\n",
       "14489153    36312602  2020-12-25         f   63.0     Christmas Day"
      ]
     },
     "execution_count": 50,
     "metadata": {},
     "output_type": "execute_result"
    }
   ],
   "source": [
    "#look at one that has lots of prices\n",
    "filt = (calendar_w_holidays['listing_id'] == 36312602) & (calendar_w_holidays['Holiday'].notnull())\n",
    "calendar_w_holidays[filt]"
   ]
  },
  {
   "cell_type": "code",
   "execution_count": 51,
   "metadata": {},
   "outputs": [
    {
     "data": {
      "text/html": [
       "<div>\n",
       "<style scoped>\n",
       "    .dataframe tbody tr th:only-of-type {\n",
       "        vertical-align: middle;\n",
       "    }\n",
       "\n",
       "    .dataframe tbody tr th {\n",
       "        vertical-align: top;\n",
       "    }\n",
       "\n",
       "    .dataframe thead th {\n",
       "        text-align: right;\n",
       "    }\n",
       "</style>\n",
       "<table border=\"1\" class=\"dataframe\">\n",
       "  <thead>\n",
       "    <tr style=\"text-align: right;\">\n",
       "      <th></th>\n",
       "      <th>listing_id</th>\n",
       "      <th>date</th>\n",
       "      <th>available</th>\n",
       "      <th>price</th>\n",
       "      <th>Holiday</th>\n",
       "    </tr>\n",
       "  </thead>\n",
       "  <tbody>\n",
       "    <tr>\n",
       "      <th>14489069</th>\n",
       "      <td>36312602</td>\n",
       "      <td>2020-10-02</td>\n",
       "      <td>f</td>\n",
       "      <td>63.0</td>\n",
       "      <td>NaN</td>\n",
       "    </tr>\n",
       "    <tr>\n",
       "      <th>14489070</th>\n",
       "      <td>36312602</td>\n",
       "      <td>2020-10-03</td>\n",
       "      <td>f</td>\n",
       "      <td>64.0</td>\n",
       "      <td>NaN</td>\n",
       "    </tr>\n",
       "    <tr>\n",
       "      <th>14489071</th>\n",
       "      <td>36312602</td>\n",
       "      <td>2020-10-04</td>\n",
       "      <td>f</td>\n",
       "      <td>60.0</td>\n",
       "      <td>NaN</td>\n",
       "    </tr>\n",
       "    <tr>\n",
       "      <th>14489072</th>\n",
       "      <td>36312602</td>\n",
       "      <td>2020-10-05</td>\n",
       "      <td>f</td>\n",
       "      <td>59.0</td>\n",
       "      <td>NaN</td>\n",
       "    </tr>\n",
       "    <tr>\n",
       "      <th>14489073</th>\n",
       "      <td>36312602</td>\n",
       "      <td>2020-10-06</td>\n",
       "      <td>f</td>\n",
       "      <td>59.0</td>\n",
       "      <td>NaN</td>\n",
       "    </tr>\n",
       "    <tr>\n",
       "      <th>14489074</th>\n",
       "      <td>36312602</td>\n",
       "      <td>2020-10-07</td>\n",
       "      <td>f</td>\n",
       "      <td>59.0</td>\n",
       "      <td>NaN</td>\n",
       "    </tr>\n",
       "    <tr>\n",
       "      <th>14489075</th>\n",
       "      <td>36312602</td>\n",
       "      <td>2020-10-08</td>\n",
       "      <td>f</td>\n",
       "      <td>61.0</td>\n",
       "      <td>NaN</td>\n",
       "    </tr>\n",
       "    <tr>\n",
       "      <th>14489076</th>\n",
       "      <td>36312602</td>\n",
       "      <td>2020-10-09</td>\n",
       "      <td>f</td>\n",
       "      <td>63.0</td>\n",
       "      <td>NaN</td>\n",
       "    </tr>\n",
       "    <tr>\n",
       "      <th>14489077</th>\n",
       "      <td>36312602</td>\n",
       "      <td>2020-10-10</td>\n",
       "      <td>f</td>\n",
       "      <td>64.0</td>\n",
       "      <td>NaN</td>\n",
       "    </tr>\n",
       "    <tr>\n",
       "      <th>14489078</th>\n",
       "      <td>36312602</td>\n",
       "      <td>2020-10-11</td>\n",
       "      <td>f</td>\n",
       "      <td>60.0</td>\n",
       "      <td>NaN</td>\n",
       "    </tr>\n",
       "    <tr>\n",
       "      <th>14489079</th>\n",
       "      <td>36312602</td>\n",
       "      <td>2020-10-12</td>\n",
       "      <td>f</td>\n",
       "      <td>59.0</td>\n",
       "      <td>Columbus Day</td>\n",
       "    </tr>\n",
       "    <tr>\n",
       "      <th>14489080</th>\n",
       "      <td>36312602</td>\n",
       "      <td>2020-10-13</td>\n",
       "      <td>f</td>\n",
       "      <td>59.0</td>\n",
       "      <td>NaN</td>\n",
       "    </tr>\n",
       "    <tr>\n",
       "      <th>14489081</th>\n",
       "      <td>36312602</td>\n",
       "      <td>2020-10-14</td>\n",
       "      <td>f</td>\n",
       "      <td>59.0</td>\n",
       "      <td>NaN</td>\n",
       "    </tr>\n",
       "    <tr>\n",
       "      <th>14489082</th>\n",
       "      <td>36312602</td>\n",
       "      <td>2020-10-15</td>\n",
       "      <td>f</td>\n",
       "      <td>61.0</td>\n",
       "      <td>NaN</td>\n",
       "    </tr>\n",
       "    <tr>\n",
       "      <th>14489083</th>\n",
       "      <td>36312602</td>\n",
       "      <td>2020-10-16</td>\n",
       "      <td>f</td>\n",
       "      <td>63.0</td>\n",
       "      <td>NaN</td>\n",
       "    </tr>\n",
       "    <tr>\n",
       "      <th>14489084</th>\n",
       "      <td>36312602</td>\n",
       "      <td>2020-10-17</td>\n",
       "      <td>f</td>\n",
       "      <td>64.0</td>\n",
       "      <td>NaN</td>\n",
       "    </tr>\n",
       "    <tr>\n",
       "      <th>14489085</th>\n",
       "      <td>36312602</td>\n",
       "      <td>2020-10-18</td>\n",
       "      <td>f</td>\n",
       "      <td>60.0</td>\n",
       "      <td>NaN</td>\n",
       "    </tr>\n",
       "    <tr>\n",
       "      <th>14489086</th>\n",
       "      <td>36312602</td>\n",
       "      <td>2020-10-19</td>\n",
       "      <td>f</td>\n",
       "      <td>59.0</td>\n",
       "      <td>NaN</td>\n",
       "    </tr>\n",
       "  </tbody>\n",
       "</table>\n",
       "</div>"
      ],
      "text/plain": [
       "          listing_id        date available  price       Holiday\n",
       "14489069    36312602  2020-10-02         f   63.0           NaN\n",
       "14489070    36312602  2020-10-03         f   64.0           NaN\n",
       "14489071    36312602  2020-10-04         f   60.0           NaN\n",
       "14489072    36312602  2020-10-05         f   59.0           NaN\n",
       "14489073    36312602  2020-10-06         f   59.0           NaN\n",
       "14489074    36312602  2020-10-07         f   59.0           NaN\n",
       "14489075    36312602  2020-10-08         f   61.0           NaN\n",
       "14489076    36312602  2020-10-09         f   63.0           NaN\n",
       "14489077    36312602  2020-10-10         f   64.0           NaN\n",
       "14489078    36312602  2020-10-11         f   60.0           NaN\n",
       "14489079    36312602  2020-10-12         f   59.0  Columbus Day\n",
       "14489080    36312602  2020-10-13         f   59.0           NaN\n",
       "14489081    36312602  2020-10-14         f   59.0           NaN\n",
       "14489082    36312602  2020-10-15         f   61.0           NaN\n",
       "14489083    36312602  2020-10-16         f   63.0           NaN\n",
       "14489084    36312602  2020-10-17         f   64.0           NaN\n",
       "14489085    36312602  2020-10-18         f   60.0           NaN\n",
       "14489086    36312602  2020-10-19         f   59.0           NaN"
      ]
     },
     "execution_count": 51,
     "metadata": {},
     "output_type": "execute_result"
    }
   ],
   "source": [
    "#look at one that has lots of prices around 2020-09-07\n",
    "filt = (calendar_w_holidays['listing_id'] == 36312602) & (calendar_w_holidays['date'] > '2020-10-01')&(calendar_w_holidays['date']<'2020-10-20')\n",
    "calendar_w_holidays[filt]"
   ]
  },
  {
   "cell_type": "code",
   "execution_count": 58,
   "metadata": {},
   "outputs": [
    {
     "data": {
      "text/plain": [
       "50.0"
      ]
     },
     "execution_count": 58,
     "metadata": {},
     "output_type": "execute_result"
    }
   ],
   "source": [
    "filt = (calendar_w_holidays['listing_id'] == 16202962)\n",
    "calendar_w_holidays['price'][filt].min()"
   ]
  },
  {
   "cell_type": "code",
   "execution_count": 59,
   "metadata": {},
   "outputs": [
    {
     "data": {
      "text/plain": [
       "118.56438356164384"
      ]
     },
     "execution_count": 59,
     "metadata": {},
     "output_type": "execute_result"
    }
   ],
   "source": [
    "calendar_w_holidays['price'][filt].mean()"
   ]
  },
  {
   "cell_type": "code",
   "execution_count": 60,
   "metadata": {},
   "outputs": [
    {
     "data": {
      "text/plain": [
       "130.0"
      ]
     },
     "execution_count": 60,
     "metadata": {},
     "output_type": "execute_result"
    }
   ],
   "source": [
    "calendar_w_holidays['price'][filt].max()"
   ]
  },
  {
   "cell_type": "code",
   "execution_count": 63,
   "metadata": {},
   "outputs": [
    {
     "data": {
      "text/html": [
       "<div>\n",
       "<style scoped>\n",
       "    .dataframe tbody tr th:only-of-type {\n",
       "        vertical-align: middle;\n",
       "    }\n",
       "\n",
       "    .dataframe tbody tr th {\n",
       "        vertical-align: top;\n",
       "    }\n",
       "\n",
       "    .dataframe thead th {\n",
       "        text-align: right;\n",
       "    }\n",
       "</style>\n",
       "<table border=\"1\" class=\"dataframe\">\n",
       "  <thead>\n",
       "    <tr style=\"text-align: right;\">\n",
       "      <th></th>\n",
       "      <th>listing_id</th>\n",
       "      <th>date</th>\n",
       "      <th>available</th>\n",
       "      <th>price</th>\n",
       "      <th>Holiday</th>\n",
       "    </tr>\n",
       "  </thead>\n",
       "  <tbody>\n",
       "    <tr>\n",
       "      <th>6569728</th>\n",
       "      <td>16202962</td>\n",
       "      <td>2020-06-14</td>\n",
       "      <td>t</td>\n",
       "      <td>120.0</td>\n",
       "      <td>NaN</td>\n",
       "    </tr>\n",
       "  </tbody>\n",
       "</table>\n",
       "</div>"
      ],
      "text/plain": [
       "         listing_id        date available  price Holiday\n",
       "6569728    16202962  2020-06-14         t  120.0     NaN"
      ]
     },
     "execution_count": 63,
     "metadata": {},
     "output_type": "execute_result"
    }
   ],
   "source": [
    "filt_dt = calendar_w_holidays['price'] == 120\n",
    "calendar_w_holidays[filt][filt_dt].head(1)"
   ]
  },
  {
   "cell_type": "code",
   "execution_count": null,
   "metadata": {},
   "outputs": [],
   "source": []
  }
 ],
 "metadata": {
  "kernelspec": {
   "display_name": "Python 3",
   "language": "python",
   "name": "python3"
  },
  "language_info": {
   "codemirror_mode": {
    "name": "ipython",
    "version": 3
   },
   "file_extension": ".py",
   "mimetype": "text/x-python",
   "name": "python",
   "nbconvert_exporter": "python",
   "pygments_lexer": "ipython3",
   "version": "3.7.3-final"
  }
 },
 "nbformat": 4,
 "nbformat_minor": 2
}