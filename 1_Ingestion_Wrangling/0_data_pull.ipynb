{
 "cells": [
  {
   "cell_type": "markdown",
   "metadata": {},
   "source": [
    "# Ingest Data\n",
    "Original data was from inside airbnb, to secure the files, they were copied to google drive"
   ]
  },
  {
   "cell_type": "code",
   "execution_count": 1,
   "metadata": {},
   "outputs": [],
   "source": [
    "import os\n",
    "from google_drive_downloader import GoogleDriveDownloader as gdd"
   ]
  },
  {
   "cell_type": "markdown",
   "metadata": {},
   "source": [
    "# Pull files from Google Drive\n",
    "listings shared url: https://drive.google.com/file/d/1e8hVygvxFgJo3QgUrzgslsTzWD9-MQUO/view?usp=sharing\n",
    "\n",
    "calendar shared url: https://drive.google.com/file/d/1VjlSWEr4vaJHdT9o2OF9N2Ga0X2b22v9/view?usp=sharing\n",
    "\n",
    "reviews shared url: https://drive.google.com/file/d/1_ojDocAs_LtcBLNxDHqH_TSBWjPz-Zme/view?usp=sharing\n",
    "\n"
   ]
  },
  {
   "cell_type": "code",
   "execution_count": null,
   "metadata": {},
   "outputs": [],
   "source": [
    "# gdd.download_file_from_google_drive(file_id='1e8hVygvxFgJo3QgUrzgslsTzWD9-MQUO',\n",
    "#                                     dest_path='../data/gdrive/listings.csv.gz'"
   ]
  },
  {
   "cell_type": "code",
   "execution_count": 6,
   "metadata": {},
   "outputs": [],
   "source": [
    "#source_dest = {'../data/gdrive/listings.csv.gz':'1e8hVygvxFgJo3QgUrzgslsTzWD9-MQUO'}\n",
    "\n",
    "source_dest = {'../data/gdrive/listings.csv.gz':'1e8hVygvxFgJo3QgUrzgslsTzWD9-MQUO', '../data/gdrive/calendar.csv.gz':'1VjlSWEr4vaJHdT9o2OF9N2Ga0X2b22v9', '../data/gdrive/reviews.csv.gz':'1_ojDocAs_LtcBLNxDHqH_TSBWjPz-Zme'}\n",
    "\n"
   ]
  },
  {
   "cell_type": "code",
   "execution_count": 7,
   "metadata": {},
   "outputs": [],
   "source": [
    "for k, v in source_dest.items():\n",
    "    gdd.download_file_from_google_drive(file_id=v, dest_path=k)"
   ]
  },
  {
   "cell_type": "code",
   "execution_count": null,
   "metadata": {},
   "outputs": [],
   "source": []
  }
 ],
 "metadata": {
  "kernelspec": {
   "display_name": "Python 3",
   "language": "python",
   "name": "python3"
  },
  "language_info": {
   "codemirror_mode": {
    "name": "ipython",
    "version": 3
   },
   "file_extension": ".py",
   "mimetype": "text/x-python",
   "name": "python",
   "nbconvert_exporter": "python",
   "pygments_lexer": "ipython3",
   "version": "3.7.3-final"
  }
 },
 "nbformat": 4,
 "nbformat_minor": 4
}