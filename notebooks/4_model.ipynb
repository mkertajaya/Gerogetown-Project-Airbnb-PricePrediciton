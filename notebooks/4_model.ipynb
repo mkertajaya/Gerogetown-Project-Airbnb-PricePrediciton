{
 "cells": [
  {
   "cell_type": "markdown",
   "metadata": {},
   "source": [
    "# Model\n",
    "Exicting part, try different types regression model.\n"
   ]
  },
  {
   "cell_type": "code",
   "execution_count": 1,
   "metadata": {},
   "outputs": [],
   "source": [
    "import os\n",
    "import numpy as np\n",
    "import pandas as pd\n",
    "import matplotlib\n",
    "import matplotlib.pyplot as plt\n",
    "import seaborn as sns\n",
    "from collections import Counter\n",
    "\n",
    "from sklearn.model_selection import train_test_split\n",
    "from sklearn.model_selection import cross_val_score\n",
    "from sklearn.feature_selection import SelectFromModel\n",
    "\n",
    "from sklearn.linear_model import Lasso\n",
    "from sklearn.linear_model import Ridge\n",
    "from sklearn.ensemble import RandomForestRegressor\n",
    "from sklearn.svm import SVR\n",
    "\n",
    "from sklearn.metrics import mean_squared_error\n",
    "from sklearn.metrics import r2_score\n",
    "\n",
    "import pickle\n",
    "\n",
    "import warnings\n",
    "warnings.filterwarnings('ignore')"
   ]
  },
  {
   "cell_type": "code",
   "execution_count": 2,
   "metadata": {},
   "outputs": [],
   "source": [
    "#read data, specify index so it's easier to join and search using loc\n",
    "path = '../../data/new-york-city-airbnb-open-data/'\n",
    "listings_csv = os.path.join(path,'model_columns_listings.csv')\n",
    "listings = pd.read_csv(listings_csv)"
   ]
  },
  {
   "cell_type": "code",
   "execution_count": 3,
   "metadata": {},
   "outputs": [
    {
     "output_type": "execute_result",
     "data": {
      "text/plain": "(25604, 252)"
     },
     "metadata": {},
     "execution_count": 3
    }
   ],
   "source": [
    "#shape\n",
    "listings.shape"
   ]
  },
  {
   "cell_type": "code",
   "execution_count": 4,
   "metadata": {},
   "outputs": [
    {
     "output_type": "execute_result",
     "data": {
      "text/plain": "array(['Unnamed: 0', 'id', 'host_since', 'host_response_time',\n       'host_response_rate', 'host_acceptance_rate', 'host_is_superhost',\n       'host_listings_count', 'host_identity_verified', 'latitude',\n       'longitude', 'is_location_exact', 'accommodates', 'bathrooms',\n       'bedrooms', 'beds', 'price', 'security_deposit', 'cleaning_fee',\n       'guests_included', 'extra_people', 'number_of_reviews',\n       'number_of_reviews_ltm', 'first_review', 'last_review',\n       'review_scores_rating', 'review_scores_accuracy',\n       'review_scores_cleanliness', 'review_scores_checkin',\n       'review_scores_communication', 'review_scores_location',\n       'review_scores_value', 'instant_bookable', 'reviews_per_month',\n       'last_review_days_ago', 'host_verifications_ facebook',\n       'host_verifications_ google', 'host_verifications_ government_id',\n       'host_verifications_ identity_manual', 'host_verifications_ jumio',\n       'host_verifications_ kba', 'host_verifications_ manual_offline',\n       'host_verifications_ manual_online',\n       'host_verifications_ offline_government_id',\n       'host_verifications_ phone', 'host_verifications_ reviews',\n       'host_verifications_ selfie', 'host_verifications_ sent_id',\n       'host_verifications_ sesame', 'host_verifications_ sesame_offline',\n       'host_verifications_ weibo', 'host_verifications_ work_email',\n       'host_verifications_ zhima_selfie', 'host_verifications_email',\n       'host_verifications_facebook', 'host_verifications_jumio',\n       'host_verifications_offline_government_id',\n       'host_verifications_phone', 'host_verifications_reviews',\n       'amenities_ toilet', 'amenities_24-hour check-in',\n       'amenities_Accessible-height bed',\n       'amenities_Accessible-height toilet', 'amenities_Air conditioning',\n       'amenities_Air purifier', 'amenities_BBQ grill',\n       'amenities_Baby bath', 'amenities_Baby monitor',\n       'amenities_Babysitter recommendations', 'amenities_Baking sheet',\n       'amenities_Barbecue utensils', 'amenities_Bath towel',\n       'amenities_Bathrobes', 'amenities_Bathroom essentials',\n       'amenities_Bathtub', 'amenities_Bathtub with bath chair',\n       'amenities_Beach essentials', 'amenities_Beachfront',\n       'amenities_Bed linens', 'amenities_Bedroom comforts',\n       'amenities_Bluetooth speaker', 'amenities_Body soap',\n       'amenities_Bottled water', 'amenities_Bread maker',\n       'amenities_Breakfast', 'amenities_Building staff',\n       'amenities_Buzzer/wireless intercom', 'amenities_Cable TV',\n       'amenities_Carbon monoxide detector', 'amenities_Cat(s)',\n       'amenities_Changing table', 'amenities_Children’s books and toys',\n       'amenities_Children’s dinnerware',\n       'amenities_Cleaning before checkout', 'amenities_Coffee maker',\n       'amenities_Cooking basics', 'amenities_Crib',\n       'amenities_Disabled parking spot',\n       'amenities_Dishes and silverware', 'amenities_Dishwasher',\n       'amenities_Dog(s)', 'amenities_Doorman', 'amenities_Dryer',\n       'amenities_EV charger', 'amenities_Electric profiling bed',\n       'amenities_Elevator', 'amenities_Essentials',\n       'amenities_Ethernet connection',\n       'amenities_Extra pillows and blankets',\n       'amenities_Extra space around bed',\n       'amenities_Family/kid friendly', 'amenities_Fire extinguisher',\n       'amenities_Fireplace guards', 'amenities_Firm mattress',\n       'amenities_First aid kit', 'amenities_Fixed grab bars for shower',\n       'amenities_Fixed grab bars for toilet',\n       'amenities_Flat path to guest entrance',\n       'amenities_Free parking on premises',\n       'amenities_Free street parking', 'amenities_Full kitchen',\n       'amenities_Game console', 'amenities_Garden or backyard',\n       'amenities_Ground floor access', 'amenities_Gym',\n       'amenities_Hair dryer', 'amenities_Handheld shower head',\n       'amenities_Hangers', 'amenities_Heating', 'amenities_High chair',\n       'amenities_Host greets you', 'amenities_Hot tub',\n       'amenities_Hot water', 'amenities_Hot water kettle',\n       'amenities_Indoor fireplace', 'amenities_Internet',\n       'amenities_Iron', 'amenities_Keypad', 'amenities_Kitchen',\n       'amenities_Kitchenette', 'amenities_Lake access',\n       'amenities_Laptop friendly workspace',\n       'amenities_Lock on bedroom door', 'amenities_Lockbox',\n       'amenities_Long term stays allowed',\n       'amenities_Luggage dropoff allowed', 'amenities_Microwave',\n       'amenities_Mini bar', 'amenities_Mini fridge',\n       'amenities_Mobile hoist', 'amenities_No stairs or steps to enter',\n       'amenities_Other', 'amenities_Other pet(s)',\n       'amenities_Outlet covers', 'amenities_Oven',\n       'amenities_Pack ’n Play/travel crib',\n       'amenities_Paid parking off premises',\n       'amenities_Paid parking on premises', 'amenities_Patio or balcony',\n       'amenities_Pets allowed', 'amenities_Pets live on this property',\n       'amenities_Pocket wifi', 'amenities_Pool',\n       'amenities_Private bathroom', 'amenities_Private entrance',\n       'amenities_Private living room', 'amenities_Record player',\n       'amenities_Refrigerator', 'amenities_Room-darkening shades',\n       'amenities_Safe', 'amenities_Safety card',\n       'amenities_Self check-in', 'amenities_Shampoo',\n       'amenities_Shower chair', 'amenities_Shower gel',\n       'amenities_Single level home', 'amenities_Ski-in/Ski-out',\n       'amenities_Slippers', 'amenities_Smart lock',\n       'amenities_Smoke detector', 'amenities_Smoking allowed',\n       'amenities_Snacks', 'amenities_Stair gates',\n       'amenities_Step-free shower', 'amenities_Stove',\n       'amenities_Suitable for events', 'amenities_TV',\n       'amenities_Table corner guards', 'amenities_Toilet paper',\n       'amenities_Trash can', 'amenities_Turndown service',\n       'amenities_Washer', 'amenities_Washer/Dryer',\n       'amenities_Waterfront', 'amenities_Well-lit path to entrance',\n       'amenities_Wheelchair accessible',\n       'amenities_Wide clearance to shower',\n       'amenities_Wide doorway to guest bathroom',\n       'amenities_Wide entrance', 'amenities_Wide entrance for guests',\n       'amenities_Wide entryway', 'amenities_Wide hallways',\n       'amenities_Wifi', 'amenities_Window guards',\n       'amenities_translation missing: en.hosting_amenity_49',\n       'amenities_translation missing: en.hosting_amenity_50',\n       'neighbourhood_group_cleansed_Bronx',\n       'neighbourhood_group_cleansed_Brooklyn',\n       'neighbourhood_group_cleansed_Manhattan',\n       'neighbourhood_group_cleansed_Queens',\n       'neighbourhood_group_cleansed_Staten Island',\n       'property_type_Apartment', 'property_type_Barn',\n       'property_type_Boat', 'property_type_Bungalow',\n       'property_type_Cabin', 'property_type_Camper/RV',\n       'property_type_Casa particular (Cuba)', 'property_type_Castle',\n       'property_type_Cave', 'property_type_Condominium',\n       'property_type_Cottage', 'property_type_Earth house',\n       'property_type_Guest suite', 'property_type_Guesthouse',\n       'property_type_Hostel', 'property_type_House',\n       'property_type_Houseboat', 'property_type_Lighthouse',\n       'property_type_Loft', 'property_type_Other',\n       'property_type_Serviced apartment', 'property_type_Tent',\n       'property_type_Tiny house', 'property_type_Townhouse',\n       'property_type_Treehouse', 'property_type_Villa',\n       'room_type_Entire home/apt', 'room_type_Hotel room',\n       'room_type_Private room', 'room_type_Shared room',\n       'cancellation_policy_flexible', 'cancellation_policy_moderate',\n       'cancellation_policy_strict',\n       'cancellation_policy_strict_14_with_grace_period',\n       'cancellation_policy_super_strict_30',\n       'cancellation_policy_super_strict_60', 'bed_type_Airbed',\n       'bed_type_Couch', 'bed_type_Futon', 'bed_type_Pull-out Sofa',\n       'bed_type_Real Bed'], dtype=object)"
     },
     "metadata": {},
     "execution_count": 4
    }
   ],
   "source": [
    "listings.columns.values"
   ]
  },
  {
   "cell_type": "code",
   "execution_count": 5,
   "metadata": {},
   "outputs": [
    {
     "output_type": "execute_result",
     "data": {
      "text/plain": "   Unnamed: 0    id  host_since  host_response_time host_response_rate  \\\n0           1  2595      733294                 3.0                87%   \n1           2  3831      733383                 1.0                83%   \n2           3  5099      733440                 2.5                NaN   \n3           5  5121      733441                 2.5                NaN   \n4           6  5178      733469                 3.0                90%   \n5           9  5441      733454                 2.0               100%   \n6          11  5803      733476                 2.0               100%   \n7          12  6021      733493                 3.0                90%   \n8          14  6848      733533                 1.0                90%   \n9          15  6990      733539                 1.0               100%   \n\n  host_acceptance_rate  host_is_superhost  host_listings_count  \\\n0                  38%                  0                  6.0   \n1                  96%                  0                  1.0   \n2                  71%                  0                  1.0   \n3                  67%                  0                  1.0   \n4                 100%                  0                  1.0   \n5                  56%                  1                  1.0   \n6                  99%                  1                  3.0   \n7                  84%                  0                  2.0   \n8                  96%                  0                  1.0   \n9                  89%                  1                  3.0   \n\n   host_identity_verified  latitude  ...  cancellation_policy_moderate  \\\n0                       1  40.75362  ...                             0   \n1                       1  40.68514  ...                             1   \n2                       0  40.74767  ...                             1   \n3                       0  40.68688  ...                             0   \n4                       0  40.76489  ...                             0   \n5                       1  40.76160  ...                             0   \n6                       1  40.66829  ...                             0   \n7                       0  40.79826  ...                             0   \n8                       0  40.70837  ...                             0   \n9                       0  40.78962  ...                             1   \n\n   cancellation_policy_strict  \\\n0                           0   \n1                           0   \n2                           0   \n3                           0   \n4                           0   \n5                           0   \n6                           0   \n7                           0   \n8                           0   \n9                           0   \n\n   cancellation_policy_strict_14_with_grace_period  \\\n0                                                1   \n1                                                0   \n2                                                0   \n3                                                1   \n4                                                1   \n5                                                0   \n6                                                1   \n7                                                1   \n8                                                1   \n9                                                0   \n\n   cancellation_policy_super_strict_30  cancellation_policy_super_strict_60  \\\n0                                    0                                    0   \n1                                    0                                    0   \n2                                    0                                    0   \n3                                    0                                    0   \n4                                    0                                    0   \n5                                    0                                    0   \n6                                    0                                    0   \n7                                    0                                    0   \n8                                    0                                    0   \n9                                    0                                    0   \n\n   bed_type_Airbed  bed_type_Couch  bed_type_Futon  bed_type_Pull-out Sofa  \\\n0                0               0               0                       0   \n1                0               0               0                       0   \n2                0               0               0                       0   \n3                0               0               1                       0   \n4                0               0               0                       0   \n5                0               0               0                       0   \n6                0               0               0                       0   \n7                0               0               0                       0   \n8                0               0               0                       0   \n9                0               0               0                       0   \n\n   bed_type_Real Bed  \n0                  1  \n1                  1  \n2                  1  \n3                  0  \n4                  1  \n5                  1  \n6                  1  \n7                  1  \n8                  1  \n9                  1  \n\n[10 rows x 252 columns]",
      "text/html": "<div>\n<style scoped>\n    .dataframe tbody tr th:only-of-type {\n        vertical-align: middle;\n    }\n\n    .dataframe tbody tr th {\n        vertical-align: top;\n    }\n\n    .dataframe thead th {\n        text-align: right;\n    }\n</style>\n<table border=\"1\" class=\"dataframe\">\n  <thead>\n    <tr style=\"text-align: right;\">\n      <th></th>\n      <th>Unnamed: 0</th>\n      <th>id</th>\n      <th>host_since</th>\n      <th>host_response_time</th>\n      <th>host_response_rate</th>\n      <th>host_acceptance_rate</th>\n      <th>host_is_superhost</th>\n      <th>host_listings_count</th>\n      <th>host_identity_verified</th>\n      <th>latitude</th>\n      <th>...</th>\n      <th>cancellation_policy_moderate</th>\n      <th>cancellation_policy_strict</th>\n      <th>cancellation_policy_strict_14_with_grace_period</th>\n      <th>cancellation_policy_super_strict_30</th>\n      <th>cancellation_policy_super_strict_60</th>\n      <th>bed_type_Airbed</th>\n      <th>bed_type_Couch</th>\n      <th>bed_type_Futon</th>\n      <th>bed_type_Pull-out Sofa</th>\n      <th>bed_type_Real Bed</th>\n    </tr>\n  </thead>\n  <tbody>\n    <tr>\n      <th>0</th>\n      <td>1</td>\n      <td>2595</td>\n      <td>733294</td>\n      <td>3.0</td>\n      <td>87%</td>\n      <td>38%</td>\n      <td>0</td>\n      <td>6.0</td>\n      <td>1</td>\n      <td>40.75362</td>\n      <td>...</td>\n      <td>0</td>\n      <td>0</td>\n      <td>1</td>\n      <td>0</td>\n      <td>0</td>\n      <td>0</td>\n      <td>0</td>\n      <td>0</td>\n      <td>0</td>\n      <td>1</td>\n    </tr>\n    <tr>\n      <th>1</th>\n      <td>2</td>\n      <td>3831</td>\n      <td>733383</td>\n      <td>1.0</td>\n      <td>83%</td>\n      <td>96%</td>\n      <td>0</td>\n      <td>1.0</td>\n      <td>1</td>\n      <td>40.68514</td>\n      <td>...</td>\n      <td>1</td>\n      <td>0</td>\n      <td>0</td>\n      <td>0</td>\n      <td>0</td>\n      <td>0</td>\n      <td>0</td>\n      <td>0</td>\n      <td>0</td>\n      <td>1</td>\n    </tr>\n    <tr>\n      <th>2</th>\n      <td>3</td>\n      <td>5099</td>\n      <td>733440</td>\n      <td>2.5</td>\n      <td>NaN</td>\n      <td>71%</td>\n      <td>0</td>\n      <td>1.0</td>\n      <td>0</td>\n      <td>40.74767</td>\n      <td>...</td>\n      <td>1</td>\n      <td>0</td>\n      <td>0</td>\n      <td>0</td>\n      <td>0</td>\n      <td>0</td>\n      <td>0</td>\n      <td>0</td>\n      <td>0</td>\n      <td>1</td>\n    </tr>\n    <tr>\n      <th>3</th>\n      <td>5</td>\n      <td>5121</td>\n      <td>733441</td>\n      <td>2.5</td>\n      <td>NaN</td>\n      <td>67%</td>\n      <td>0</td>\n      <td>1.0</td>\n      <td>0</td>\n      <td>40.68688</td>\n      <td>...</td>\n      <td>0</td>\n      <td>0</td>\n      <td>1</td>\n      <td>0</td>\n      <td>0</td>\n      <td>0</td>\n      <td>0</td>\n      <td>1</td>\n      <td>0</td>\n      <td>0</td>\n    </tr>\n    <tr>\n      <th>4</th>\n      <td>6</td>\n      <td>5178</td>\n      <td>733469</td>\n      <td>3.0</td>\n      <td>90%</td>\n      <td>100%</td>\n      <td>0</td>\n      <td>1.0</td>\n      <td>0</td>\n      <td>40.76489</td>\n      <td>...</td>\n      <td>0</td>\n      <td>0</td>\n      <td>1</td>\n      <td>0</td>\n      <td>0</td>\n      <td>0</td>\n      <td>0</td>\n      <td>0</td>\n      <td>0</td>\n      <td>1</td>\n    </tr>\n    <tr>\n      <th>5</th>\n      <td>9</td>\n      <td>5441</td>\n      <td>733454</td>\n      <td>2.0</td>\n      <td>100%</td>\n      <td>56%</td>\n      <td>1</td>\n      <td>1.0</td>\n      <td>1</td>\n      <td>40.76160</td>\n      <td>...</td>\n      <td>0</td>\n      <td>0</td>\n      <td>0</td>\n      <td>0</td>\n      <td>0</td>\n      <td>0</td>\n      <td>0</td>\n      <td>0</td>\n      <td>0</td>\n      <td>1</td>\n    </tr>\n    <tr>\n      <th>6</th>\n      <td>11</td>\n      <td>5803</td>\n      <td>733476</td>\n      <td>2.0</td>\n      <td>100%</td>\n      <td>99%</td>\n      <td>1</td>\n      <td>3.0</td>\n      <td>1</td>\n      <td>40.66829</td>\n      <td>...</td>\n      <td>0</td>\n      <td>0</td>\n      <td>1</td>\n      <td>0</td>\n      <td>0</td>\n      <td>0</td>\n      <td>0</td>\n      <td>0</td>\n      <td>0</td>\n      <td>1</td>\n    </tr>\n    <tr>\n      <th>7</th>\n      <td>12</td>\n      <td>6021</td>\n      <td>733493</td>\n      <td>3.0</td>\n      <td>90%</td>\n      <td>84%</td>\n      <td>0</td>\n      <td>2.0</td>\n      <td>0</td>\n      <td>40.79826</td>\n      <td>...</td>\n      <td>0</td>\n      <td>0</td>\n      <td>1</td>\n      <td>0</td>\n      <td>0</td>\n      <td>0</td>\n      <td>0</td>\n      <td>0</td>\n      <td>0</td>\n      <td>1</td>\n    </tr>\n    <tr>\n      <th>8</th>\n      <td>14</td>\n      <td>6848</td>\n      <td>733533</td>\n      <td>1.0</td>\n      <td>90%</td>\n      <td>96%</td>\n      <td>0</td>\n      <td>1.0</td>\n      <td>0</td>\n      <td>40.70837</td>\n      <td>...</td>\n      <td>0</td>\n      <td>0</td>\n      <td>1</td>\n      <td>0</td>\n      <td>0</td>\n      <td>0</td>\n      <td>0</td>\n      <td>0</td>\n      <td>0</td>\n      <td>1</td>\n    </tr>\n    <tr>\n      <th>9</th>\n      <td>15</td>\n      <td>6990</td>\n      <td>733539</td>\n      <td>1.0</td>\n      <td>100%</td>\n      <td>89%</td>\n      <td>1</td>\n      <td>3.0</td>\n      <td>0</td>\n      <td>40.78962</td>\n      <td>...</td>\n      <td>1</td>\n      <td>0</td>\n      <td>0</td>\n      <td>0</td>\n      <td>0</td>\n      <td>0</td>\n      <td>0</td>\n      <td>0</td>\n      <td>0</td>\n      <td>1</td>\n    </tr>\n  </tbody>\n</table>\n<p>10 rows × 252 columns</p>\n</div>"
     },
     "metadata": {},
     "execution_count": 5
    }
   ],
   "source": [
    "#head\n",
    "listings.head(10)"
   ]
  },
  {
   "cell_type": "markdown",
   "metadata": {},
   "source": [
    "# Features/Target\n",
    "Features to be included and test/train split, take out 'latitude', 'longitude'\n",
    "Also due to removing certain price, the following is gone: 'property_type_Train', 'property_type_Dome house', 'property_type_Dorm', 'host_verifications_google', 'property_type_Island', 'property_type_In-law', 'property_type_Yurt', 'property_type_Bus', 'property_type_Timeshare', 'property_type_Farm stay', 'property_type_Treehouse'"
   ]
  },
  {
   "cell_type": "code",
   "execution_count": 6,
   "metadata": {},
   "outputs": [],
   "source": [
    "# X = listings[['host_since', 'host_response_time', 'host_is_superhost', 'host_listings_count', 'host_identity_verified', 'is_location_exact', 'accommodates', 'bathrooms', 'bedrooms', 'beds', 'security_deposit', 'cleaning_fee', 'guests_included','extra_people', 'number_of_reviews', 'number_of_reviews_ltm', 'review_scores_rating', 'review_scores_accuracy', 'review_scores_cleanliness', 'review_scores_checkin', 'review_scores_communication', 'review_scores_location', 'review_scores_value', 'instant_bookable', 'reviews_per_month', 'host_verifications_ facebook', 'host_verifications_ google', 'host_verifications_ government_id', 'host_verifications_ identity_manual', 'host_verifications_ jumio', 'host_verifications_ kba', 'host_verifications_ manual_offline', 'host_verifications_ manual_online', 'host_verifications_ offline_government_id', 'host_verifications_ phone', 'host_verifications_ reviews', 'host_verifications_ selfie', 'host_verifications_ sent_id', 'host_verifications_ sesame', 'host_verifications_ sesame_offline', 'host_verifications_ weibo', 'host_verifications_ work_email', 'host_verifications_ zhima_selfie', 'host_verifications_email', 'host_verifications_facebook', 'host_verifications_google', 'host_verifications_jumio', 'host_verifications_offline_government_id', 'host_verifications_phone', 'host_verifications_reviews', 'neighbourhood_group_cleansed_Bronx', 'neighbourhood_group_cleansed_Brooklyn', 'neighbourhood_group_cleansed_Manhattan', 'neighbourhood_group_cleansed_Queens', 'neighbourhood_group_cleansed_Staten Island', 'property_type_Aparthotel', 'property_type_Apartment','property_type_Barn', 'property_type_Bed and breakfast', 'property_type_Boat', 'property_type_Boutique hotel', 'property_type_Bungalow', 'property_type_Bus', 'property_type_Cabin', 'property_type_Camper/RV', 'property_type_Castle', 'property_type_Cave', 'property_type_Condominium', 'property_type_Cottage', 'property_type_Dome house', 'property_type_Dorm', 'property_type_Earth house', 'property_type_Farm stay', 'property_type_Guest suite', 'property_type_Guesthouse', 'property_type_Hostel', 'property_type_Hotel', 'property_type_House', 'property_type_Houseboat', 'property_type_In-law', 'property_type_Island', 'property_type_Lighthouse','property_type_Loft', 'property_type_Other', 'property_type_Resort', 'property_type_Serviced apartment', 'property_type_Tent', 'property_type_Timeshare', 'property_type_Tiny house', 'property_type_Townhouse', 'property_type_Train', 'property_type_Treehouse', 'property_type_Villa', 'property_type_Yurt', 'room_type_Entire home/apt', 'room_type_Hotel room', 'room_type_Private room', 'room_type_Shared room', 'cancellation_policy_flexible', 'cancellation_policy_moderate', 'cancellation_policy_strict', 'cancellation_policy_strict_14_with_grace_period', 'cancellation_policy_super_strict_30', 'cancellation_policy_super_strict_60', 'bed_type_Airbed', 'bed_type_Couch', 'bed_type_Futon','bed_type_Pull-out Sofa', 'bed_type_Real Bed', 'amenities_ toilet', 'amenities_24-hour check-in', 'amenities_Accessible-height bed','amenities_Accessible-height toilet', 'amenities_Air conditioning', 'amenities_Air purifier', 'amenities_BBQ grill', 'amenities_Baby bath', 'amenities_Baby monitor', 'amenities_Babysitter recommendations', 'amenities_Baking sheet', 'amenities_Barbecue utensils', 'amenities_Bath towel', 'amenities_Bathrobes', 'amenities_Bathroom essentials', 'amenities_Bathtub', 'amenities_Bathtub with bath chair', 'amenities_Beach essentials', 'amenities_Beachfront', 'amenities_Bed linens', 'amenities_Bedroom comforts', 'amenities_Bluetooth speaker', 'amenities_Body soap', 'amenities_Bottled water', 'amenities_Bread maker', 'amenities_Breakfast','amenities_Building staff', 'amenities_Buzzer/wireless intercom', 'amenities_Cable TV',\n",
    "# 'amenities_Carbon monoxide detector', 'amenities_Cat(s)', 'amenities_Changing table', 'amenities_Children’s books and toys', 'amenities_Children’s dinnerware',\n",
    "# 'amenities_Cleaning before checkout', 'amenities_Coffee maker',\n",
    "# 'amenities_Cooking basics', 'amenities_Crib', 'amenities_Disabled parking spot',\n",
    "# 'amenities_Dishes and silverware', 'amenities_Dishwasher', 'amenities_Dog(s)', 'amenities_Doorman', 'amenities_Dryer', 'amenities_EV charger', 'amenities_Electric profiling bed', 'amenities_Elevator', 'amenities_Essentials', 'amenities_Ethernet connection', 'amenities_Extra pillows and blankets', 'amenities_Extra space around bed', 'amenities_Family/kid friendly', 'amenities_Fire extinguisher', 'amenities_Fireplace guards', 'amenities_Firm mattress', 'amenities_First aid kit', 'amenities_Fixed grab bars for shower', 'amenities_Fixed grab bars for toilet', 'amenities_Flat path to guest entrance',\n",
    "# 'amenities_Free parking on premises', 'amenities_Free street parking', 'amenities_Full kitchen', 'amenities_Game console', 'amenities_Garden or backyard', 'amenities_Ground floor access', 'amenities_Gym', 'amenities_Hair dryer', 'amenities_Handheld shower head', 'amenities_Hangers', 'amenities_Heating', 'amenities_High chair', 'amenities_Host greets you', 'amenities_Hot tub',\n",
    "# 'amenities_Hot water', 'amenities_Hot water kettle', 'amenities_Indoor fireplace', 'amenities_Internet', 'amenities_Iron', 'amenities_Keypad', 'amenities_Kitchen',\n",
    "# 'amenities_Kitchenette', 'amenities_Lake access', 'amenities_Laptop friendly workspace',\n",
    "# 'amenities_Lock on bedroom door', 'amenities_Lockbox', 'amenities_Long term stays allowed',\n",
    "# 'amenities_Luggage dropoff allowed', 'amenities_Microwave', 'amenities_Mini bar', 'amenities_Mini fridge', 'amenities_Mobile hoist', 'amenities_No stairs or steps to enter', 'amenities_Other', 'amenities_Other pet(s)', 'amenities_Outlet covers', 'amenities_Oven', 'amenities_Pack ’n Play/travel crib', 'amenities_Paid parking off premises', 'amenities_Paid parking on premises', 'amenities_Patio or balcony', 'amenities_Pets allowed', 'amenities_Pets live on this property', 'amenities_Pocket wifi', 'amenities_Pool', 'amenities_Private bathroom', 'amenities_Private entrance', 'amenities_Private living room', 'amenities_Record player', 'amenities_Refrigerator', 'amenities_Room-darkening shades', 'amenities_Safe', 'amenities_Safety card', 'amenities_Self check-in', 'amenities_Shampoo', 'amenities_Shower chair', 'amenities_Shower gel',\n",
    "# 'amenities_Single level home', 'amenities_Ski-in/Ski-out', 'amenities_Slippers', 'amenities_Smart lock', 'amenities_Smoke detector', 'amenities_Smoking allowed', 'amenities_Snacks', 'amenities_Stair gates', 'amenities_Step-free shower', 'amenities_Stove',\n",
    "# 'amenities_Suitable for events', 'amenities_TV', 'amenities_Table corner guards', 'amenities_Toilet paper', 'amenities_Trash can', 'amenities_Turndown service',\n",
    "# 'amenities_Washer', 'amenities_Washer/Dryer', 'amenities_Waterfront', 'amenities_Well-lit path to entrance', 'amenities_Wheelchair accessible', 'amenities_Wide clearance to shower',\n",
    "# 'amenities_Wide doorway to guest bathroom', 'amenities_Wide entrance', 'amenities_Wide entrance for guests', 'amenities_Wide entryway', 'amenities_Wide hallways', 'amenities_Wifi', 'amenities_Window guards']]\n",
    "\n",
    "X = listings[['host_since', 'host_response_time', 'host_is_superhost', 'host_listings_count', 'host_identity_verified', 'is_location_exact', 'accommodates', 'bathrooms', 'bedrooms', 'beds', 'security_deposit', 'cleaning_fee', 'guests_included','extra_people', 'number_of_reviews', 'number_of_reviews_ltm', 'review_scores_rating', 'review_scores_accuracy', 'review_scores_cleanliness', 'review_scores_checkin', 'review_scores_communication', 'review_scores_location', 'review_scores_value', 'instant_bookable', 'reviews_per_month', 'host_verifications_ facebook', 'host_verifications_ google', 'host_verifications_ government_id', 'host_verifications_ identity_manual', 'host_verifications_ jumio', 'host_verifications_ kba', 'host_verifications_ manual_offline', 'host_verifications_ manual_online', 'host_verifications_ offline_government_id', 'host_verifications_ phone', 'host_verifications_ reviews', 'host_verifications_ selfie', 'host_verifications_ sent_id', 'host_verifications_ sesame', 'host_verifications_ sesame_offline', 'host_verifications_ weibo', 'host_verifications_ work_email', 'host_verifications_ zhima_selfie', 'host_verifications_email', 'host_verifications_facebook', 'host_verifications_jumio', 'host_verifications_offline_government_id', 'host_verifications_phone', 'host_verifications_reviews', 'neighbourhood_group_cleansed_Bronx', 'neighbourhood_group_cleansed_Brooklyn', 'neighbourhood_group_cleansed_Manhattan', 'neighbourhood_group_cleansed_Queens', 'neighbourhood_group_cleansed_Staten Island', 'property_type_Apartment','property_type_Barn', 'property_type_Boat', 'property_type_Bungalow', 'property_type_Cabin', 'property_type_Camper/RV', 'property_type_Castle', 'property_type_Cave', 'property_type_Condominium', 'property_type_Cottage', 'property_type_Earth house', 'property_type_Guest suite', 'property_type_Guesthouse', 'property_type_Hostel', 'property_type_House', 'property_type_Houseboat', 'property_type_Lighthouse','property_type_Loft', 'property_type_Other', 'property_type_Serviced apartment', 'property_type_Tent', 'property_type_Tiny house', 'property_type_Townhouse', 'property_type_Villa', 'room_type_Entire home/apt', 'room_type_Hotel room', 'room_type_Private room', 'room_type_Shared room', 'cancellation_policy_flexible', 'cancellation_policy_moderate', 'cancellation_policy_strict', 'cancellation_policy_strict_14_with_grace_period', 'cancellation_policy_super_strict_30', 'cancellation_policy_super_strict_60', 'bed_type_Airbed', 'bed_type_Couch', 'bed_type_Futon','bed_type_Pull-out Sofa', 'bed_type_Real Bed', 'amenities_ toilet', 'amenities_24-hour check-in', 'amenities_Accessible-height bed','amenities_Accessible-height toilet', 'amenities_Air conditioning', 'amenities_Air purifier', 'amenities_BBQ grill', 'amenities_Baby bath', 'amenities_Baby monitor', 'amenities_Babysitter recommendations', 'amenities_Baking sheet', 'amenities_Barbecue utensils', 'amenities_Bath towel', 'amenities_Bathrobes', 'amenities_Bathroom essentials', 'amenities_Bathtub', 'amenities_Bathtub with bath chair', 'amenities_Beach essentials', 'amenities_Beachfront', 'amenities_Bed linens', 'amenities_Bedroom comforts', 'amenities_Bluetooth speaker', 'amenities_Body soap', 'amenities_Bottled water', 'amenities_Bread maker', 'amenities_Breakfast','amenities_Building staff', 'amenities_Buzzer/wireless intercom', 'amenities_Cable TV',\n",
    "'amenities_Carbon monoxide detector', 'amenities_Cat(s)', 'amenities_Changing table', 'amenities_Children’s books and toys', 'amenities_Children’s dinnerware',\n",
    "'amenities_Cleaning before checkout', 'amenities_Coffee maker',\n",
    "'amenities_Cooking basics', 'amenities_Crib', 'amenities_Disabled parking spot',\n",
    "'amenities_Dishes and silverware', 'amenities_Dishwasher', 'amenities_Dog(s)', 'amenities_Doorman', 'amenities_Dryer', 'amenities_EV charger', 'amenities_Electric profiling bed', 'amenities_Elevator', 'amenities_Essentials', 'amenities_Ethernet connection', 'amenities_Extra pillows and blankets', 'amenities_Extra space around bed', 'amenities_Family/kid friendly', 'amenities_Fire extinguisher', 'amenities_Fireplace guards', 'amenities_Firm mattress', 'amenities_First aid kit', 'amenities_Fixed grab bars for shower', 'amenities_Fixed grab bars for toilet', 'amenities_Flat path to guest entrance',\n",
    "'amenities_Free parking on premises', 'amenities_Free street parking', 'amenities_Full kitchen', 'amenities_Game console', 'amenities_Garden or backyard', 'amenities_Ground floor access', 'amenities_Gym', 'amenities_Hair dryer', 'amenities_Handheld shower head', 'amenities_Hangers', 'amenities_Heating', 'amenities_High chair', 'amenities_Host greets you', 'amenities_Hot tub',\n",
    "'amenities_Hot water', 'amenities_Hot water kettle', 'amenities_Indoor fireplace', 'amenities_Internet', 'amenities_Iron', 'amenities_Keypad', 'amenities_Kitchen',\n",
    "'amenities_Kitchenette', 'amenities_Lake access', 'amenities_Laptop friendly workspace',\n",
    "'amenities_Lock on bedroom door', 'amenities_Lockbox', 'amenities_Long term stays allowed',\n",
    "'amenities_Luggage dropoff allowed', 'amenities_Microwave', 'amenities_Mini bar', 'amenities_Mini fridge', 'amenities_Mobile hoist', 'amenities_No stairs or steps to enter', 'amenities_Other', 'amenities_Other pet(s)', 'amenities_Outlet covers', 'amenities_Oven', 'amenities_Pack ’n Play/travel crib', 'amenities_Paid parking off premises', 'amenities_Paid parking on premises', 'amenities_Patio or balcony', 'amenities_Pets allowed', 'amenities_Pets live on this property', 'amenities_Pocket wifi', 'amenities_Pool', 'amenities_Private bathroom', 'amenities_Private entrance', 'amenities_Private living room', 'amenities_Record player', 'amenities_Refrigerator', 'amenities_Room-darkening shades', 'amenities_Safe', 'amenities_Safety card', 'amenities_Self check-in', 'amenities_Shampoo', 'amenities_Shower chair', 'amenities_Shower gel',\n",
    "'amenities_Single level home', 'amenities_Ski-in/Ski-out', 'amenities_Slippers', 'amenities_Smart lock', 'amenities_Smoke detector', 'amenities_Smoking allowed', 'amenities_Snacks', 'amenities_Stair gates', 'amenities_Step-free shower', 'amenities_Stove',\n",
    "'amenities_Suitable for events', 'amenities_TV', 'amenities_Table corner guards', 'amenities_Toilet paper', 'amenities_Trash can', 'amenities_Turndown service',\n",
    "'amenities_Washer', 'amenities_Washer/Dryer', 'amenities_Waterfront', 'amenities_Well-lit path to entrance', 'amenities_Wheelchair accessible', 'amenities_Wide clearance to shower',\n",
    "'amenities_Wide doorway to guest bathroom', 'amenities_Wide entrance', 'amenities_Wide entrance for guests', 'amenities_Wide entryway', 'amenities_Wide hallways', 'amenities_Wifi', 'amenities_Window guards', 'last_review_days_ago']]\n",
    "\n",
    "y = listings['price']\n",
    "\n",
    "# Split your data into training and test sets\n",
    "X_train, X_test, y_train, y_test = train_test_split(X, y, test_size=0.2, random_state=42)"
   ]
  },
  {
   "cell_type": "markdown",
   "metadata": {},
   "source": [
    "# Lasso Regression"
   ]
  },
  {
   "cell_type": "code",
   "execution_count": 7,
   "metadata": {},
   "outputs": [
    {
     "name": "stdout",
     "output_type": "stream",
     "text": [
      "[ 81.47785242 100.13979121 100.57051061  81.25182391  89.49859447\n",
      "  92.28007405  99.10364875  84.44522038  94.04554651  73.84775531]\n"
     ]
    }
   ],
   "source": [
    "#using CV\n",
    "regressor = Lasso(alpha=0.5)\n",
    "regressor = regressor.fit(X_train, y_train) \n",
    "\n",
    "#cross validation, 10 fold to try next\n",
    "scores = cross_val_score(estimator=regressor, X=X_train, y=y_train, cv=10, scoring=\"neg_mean_squared_error\")\n",
    "rmse_scores = np.sqrt(-scores)\n",
    "\n",
    "print(rmse_scores)\n"
   ]
  },
  {
   "cell_type": "code",
   "execution_count": 8,
   "metadata": {},
   "outputs": [
    {
     "name": "stdout",
     "output_type": "stream",
     "text": [
      "89.6660817623358\n",
      "0.5200322183719387\n"
     ]
    }
   ],
   "source": [
    "pred_train = regressor.predict(X_train)\n",
    "print(rmse_scores.mean())\n",
    "print(r2_score(y_train, pred_train))\n"
   ]
  },
  {
   "cell_type": "code",
   "execution_count": 9,
   "metadata": {},
   "outputs": [
    {
     "name": "stdout",
     "output_type": "stream",
     "text": [
      "89.78939003420378\n",
      "0.5051723850437027\n"
     ]
    }
   ],
   "source": [
    "pred_test= regressor.predict(X_test)\n",
    "print(np.sqrt(mean_squared_error(y_test,pred_test))) \n",
    "print(r2_score(y_test, pred_test))"
   ]
  },
  {
   "cell_type": "markdown",
   "metadata": {},
   "source": [
    "# Ridge Regression"
   ]
  },
  {
   "cell_type": "code",
   "execution_count": 10,
   "metadata": {},
   "outputs": [
    {
     "name": "stdout",
     "output_type": "stream",
     "text": [
      "[81.76475108 98.73691514 99.24970706 81.53943714 89.38857227 91.01297806\n",
      " 98.28373933 83.69099075 92.95140671 73.88751625]\n"
     ]
    }
   ],
   "source": [
    "#using CV\n",
    "regressor = Ridge(alpha=0.5)\n",
    "regressor = regressor.fit(X_train, y_train) \n",
    "\n",
    "#cross validation, 10 fold to try next\n",
    "scores = cross_val_score(estimator=regressor, X=X_train, y=y_train, cv=10, scoring=\"neg_mean_squared_error\")\n",
    "rmse_scores = np.sqrt(-scores)\n",
    "print(rmse_scores)\n"
   ]
  },
  {
   "cell_type": "code",
   "execution_count": 11,
   "metadata": {},
   "outputs": [
    {
     "name": "stdout",
     "output_type": "stream",
     "text": [
      "89.05060137979535\n",
      "0.5348464231724124\n"
     ]
    }
   ],
   "source": [
    "pred_train = regressor.predict(X_train)\n",
    "print(rmse_scores.mean())\n",
    "print(r2_score(y_train, pred_train))\n"
   ]
  },
  {
   "cell_type": "code",
   "execution_count": 12,
   "metadata": {},
   "outputs": [
    {
     "name": "stdout",
     "output_type": "stream",
     "text": [
      "89.76320486949167\n",
      "0.5054609548459779\n"
     ]
    }
   ],
   "source": [
    "pred_test= regressor.predict(X_test)\n",
    "print(np.sqrt(mean_squared_error(y_test,pred_test))) \n",
    "print(r2_score(y_test, pred_test))"
   ]
  },
  {
   "cell_type": "markdown",
   "metadata": {},
   "source": [
    "# Random Forest"
   ]
  },
  {
   "cell_type": "code",
   "execution_count": 13,
   "metadata": {},
   "outputs": [
    {
     "name": "stdout",
     "output_type": "stream",
     "text": [
      "[ 77.22757397  94.18288757  92.83789028  74.67241394  83.631813\n",
      "  88.75348364 101.54862682  78.57109204  84.92787512  72.25292251]\n"
     ]
    }
   ],
   "source": [
    "#using CV\n",
    "regressor = RandomForestRegressor(n_estimators=100, random_state=None, min_samples_split=100)\n",
    "regressor = regressor.fit(X_train, y_train) \n",
    "\n",
    "#cross validation, 10 fold to try next\n",
    "scores = cross_val_score(estimator=regressor, X=X_train, y=y_train, cv=10, scoring=\"neg_mean_squared_error\")\n",
    "rmse_scores = np.sqrt(-scores) \n",
    "print(rmse_scores)"
   ]
  },
  {
   "cell_type": "code",
   "execution_count": 14,
   "metadata": {},
   "outputs": [
    {
     "name": "stdout",
     "output_type": "stream",
     "text": [
      "84.86065788770013\n",
      "0.661863398764635\n"
     ]
    }
   ],
   "source": [
    "pred_train= regressor.predict(X_train)\n",
    "print(rmse_scores.mean())\n",
    "print(r2_score(y_train, pred_train))"
   ]
  },
  {
   "cell_type": "code",
   "execution_count": 15,
   "metadata": {},
   "outputs": [
    {
     "name": "stdout",
     "output_type": "stream",
     "text": [
      "85.10968837213552\n",
      "0.5554077514134815\n"
     ]
    }
   ],
   "source": [
    "pred_test= regressor.predict(X_test)\n",
    "print(np.sqrt(mean_squared_error(y_test,pred_test))) \n",
    "print(r2_score(y_test, pred_test))"
   ]
  },
  {
   "cell_type": "markdown",
   "metadata": {},
   "source": [
    "# Feature Importance for Random Forest"
   ]
  },
  {
   "cell_type": "code",
   "execution_count": 16,
   "metadata": {},
   "outputs": [],
   "source": [
    "#get features importance\n",
    "features = regressor.feature_importances_\n",
    "\n",
    "#get column names from our list of features\n",
    "column_names=X.columns.values.tolist()\n",
    "\n",
    "#match features importance to column name\n",
    "df = pd.DataFrame([features], columns=column_names)\n"
   ]
  },
  {
   "cell_type": "code",
   "execution_count": 17,
   "metadata": {},
   "outputs": [
    {
     "data": {
      "text/html": [
       "<div>\n",
       "<style scoped>\n",
       "    .dataframe tbody tr th:only-of-type {\n",
       "        vertical-align: middle;\n",
       "    }\n",
       "\n",
       "    .dataframe tbody tr th {\n",
       "        vertical-align: top;\n",
       "    }\n",
       "\n",
       "    .dataframe thead th {\n",
       "        text-align: right;\n",
       "    }\n",
       "</style>\n",
       "<table border=\"1\" class=\"dataframe\">\n",
       "  <thead>\n",
       "    <tr style=\"text-align: right;\">\n",
       "      <th></th>\n",
       "      <th>host_since</th>\n",
       "      <th>host_response_time</th>\n",
       "      <th>host_is_superhost</th>\n",
       "      <th>host_listings_count</th>\n",
       "      <th>host_identity_verified</th>\n",
       "      <th>is_location_exact</th>\n",
       "      <th>accommodates</th>\n",
       "      <th>bathrooms</th>\n",
       "      <th>bedrooms</th>\n",
       "      <th>beds</th>\n",
       "      <th>...</th>\n",
       "      <th>amenities_Wheelchair accessible</th>\n",
       "      <th>amenities_Wide clearance to shower</th>\n",
       "      <th>amenities_Wide doorway to guest bathroom</th>\n",
       "      <th>amenities_Wide entrance</th>\n",
       "      <th>amenities_Wide entrance for guests</th>\n",
       "      <th>amenities_Wide entryway</th>\n",
       "      <th>amenities_Wide hallways</th>\n",
       "      <th>amenities_Wifi</th>\n",
       "      <th>amenities_Window guards</th>\n",
       "      <th>last_review_days_ago</th>\n",
       "    </tr>\n",
       "  </thead>\n",
       "  <tbody>\n",
       "    <tr>\n",
       "      <th>0</th>\n",
       "      <td>0.011922</td>\n",
       "      <td>0.000884</td>\n",
       "      <td>0.000275</td>\n",
       "      <td>0.003677</td>\n",
       "      <td>0.000131</td>\n",
       "      <td>0.000162</td>\n",
       "      <td>0.039046</td>\n",
       "      <td>0.232395</td>\n",
       "      <td>0.092476</td>\n",
       "      <td>0.002004</td>\n",
       "      <td>...</td>\n",
       "      <td>0.000409</td>\n",
       "      <td>0.0</td>\n",
       "      <td>0.0</td>\n",
       "      <td>0.0</td>\n",
       "      <td>0.000046</td>\n",
       "      <td>0.0</td>\n",
       "      <td>0.000054</td>\n",
       "      <td>0.000195</td>\n",
       "      <td>0.000041</td>\n",
       "      <td>0.004628</td>\n",
       "    </tr>\n",
       "  </tbody>\n",
       "</table>\n",
       "<p>1 rows × 239 columns</p>\n",
       "</div>"
      ],
      "text/plain": [
       "   host_since  host_response_time  host_is_superhost  host_listings_count  \\\n",
       "0    0.011922            0.000884           0.000275             0.003677   \n",
       "\n",
       "   host_identity_verified  is_location_exact  accommodates  bathrooms  \\\n",
       "0                0.000131           0.000162      0.039046   0.232395   \n",
       "\n",
       "   bedrooms      beds  ...  amenities_Wheelchair accessible  \\\n",
       "0  0.092476  0.002004  ...                         0.000409   \n",
       "\n",
       "   amenities_Wide clearance to shower  \\\n",
       "0                                 0.0   \n",
       "\n",
       "   amenities_Wide doorway to guest bathroom  amenities_Wide entrance  \\\n",
       "0                                       0.0                      0.0   \n",
       "\n",
       "   amenities_Wide entrance for guests  amenities_Wide entryway  \\\n",
       "0                            0.000046                      0.0   \n",
       "\n",
       "   amenities_Wide hallways  amenities_Wifi  amenities_Window guards  \\\n",
       "0                 0.000054        0.000195                 0.000041   \n",
       "\n",
       "   last_review_days_ago  \n",
       "0              0.004628  \n",
       "\n",
       "[1 rows x 239 columns]"
      ]
     },
     "execution_count": 17,
     "metadata": {},
     "output_type": "execute_result"
    }
   ],
   "source": [
    "df.head()"
   ]
  },
  {
   "cell_type": "code",
   "execution_count": 18,
   "metadata": {},
   "outputs": [],
   "source": [
    "#features importance sorted\n",
    "features_sorted = df.iloc[0].sort_values(ascending=False)"
   ]
  },
  {
   "cell_type": "code",
   "execution_count": 19,
   "metadata": {},
   "outputs": [
    {
     "data": {
      "text/plain": [
       "room_type_Entire home/apt                 0.295014\n",
       "bathrooms                                 0.232395\n",
       "neighbourhood_group_cleansed_Manhattan    0.095101\n",
       "bedrooms                                  0.092476\n",
       "cleaning_fee                              0.091408\n",
       "accommodates                              0.039046\n",
       "security_deposit                          0.013052\n",
       "host_since                                0.011922\n",
       "property_type_Serviced apartment          0.009884\n",
       "guests_included                           0.008157\n",
       "property_type_Loft                        0.007312\n",
       "extra_people                              0.006597\n",
       "review_scores_location                    0.006191\n",
       "reviews_per_month                         0.005273\n",
       "last_review_days_ago                      0.004628\n",
       "amenities_Free parking on premises        0.004169\n",
       "number_of_reviews                         0.003988\n",
       "host_listings_count                       0.003677\n",
       "amenities_Dishwasher                      0.003638\n",
       "amenities_Kitchen                         0.003446\n",
       "room_type_Hotel room                      0.002603\n",
       "amenities_Essentials                      0.002592\n",
       "number_of_reviews_ltm                     0.002448\n",
       "review_scores_rating                      0.002252\n",
       "amenities_Patio or balcony                0.002184\n",
       "review_scores_checkin                     0.002138\n",
       "beds                                      0.002004\n",
       "review_scores_communication               0.002001\n",
       "amenities_Building staff                  0.001919\n",
       "amenities_Indoor fireplace                0.001838\n",
       "amenities_Hangers                         0.001729\n",
       "amenities_Free street parking             0.001660\n",
       "amenities_Baby monitor                    0.001622\n",
       "amenities_Doorman                         0.001553\n",
       "neighbourhood_group_cleansed_Brooklyn     0.001366\n",
       "amenities_Suitable for events             0.001144\n",
       "amenities_Dryer                           0.001116\n",
       "amenities_Gym                             0.001083\n",
       "review_scores_cleanliness                 0.001033\n",
       "amenities_Washer                          0.000920\n",
       "property_type_Apartment                   0.000886\n",
       "host_response_time                        0.000884\n",
       "amenities_Elevator                        0.000877\n",
       "room_type_Private room                    0.000837\n",
       "amenities_Smoking allowed                 0.000805\n",
       "amenities_Hair dryer                      0.000789\n",
       "property_type_Condominium                 0.000760\n",
       "amenities_Shampoo                         0.000671\n",
       "room_type_Shared room                     0.000669\n",
       "amenities_Hot tub                         0.000620\n",
       "amenities_Pocket wifi                     0.000615\n",
       "bed_type_Couch                            0.000586\n",
       "amenities_TV                              0.000554\n",
       "review_scores_value                       0.000521\n",
       "amenities_Game console                    0.000520\n",
       "amenities_Pack ’n Play/travel crib        0.000466\n",
       "amenities_EV charger                      0.000464\n",
       "host_verifications_ selfie                0.000424\n",
       "amenities_Crib                            0.000423\n",
       "amenities_Wheelchair accessible           0.000409\n",
       "Name: 0, dtype: float64"
      ]
     },
     "execution_count": 19,
     "metadata": {},
     "output_type": "execute_result"
    }
   ],
   "source": [
    "features_sorted.head(60)\n"
   ]
  },
  {
   "cell_type": "code",
   "execution_count": 20,
   "metadata": {},
   "outputs": [
    {
     "data": {
      "text/plain": [
       "15"
      ]
     },
     "execution_count": 20,
     "metadata": {},
     "output_type": "execute_result"
    }
   ],
   "source": [
    "#features more than mean of importance\n",
    "filt = features_sorted.values > features_sorted.mean()\n",
    "features_sorted[filt].count()"
   ]
  },
  {
   "cell_type": "code",
   "execution_count": 29,
   "metadata": {},
   "outputs": [],
   "source": [
    "X = listings[['room_type_Entire home/apt',\n",
    "                'bathrooms',\n",
    "                'neighbourhood_group_cleansed_Manhattan',\n",
    "                'cleaning_fee',\n",
    "                'bedrooms',\n",
    "                'accommodates',\n",
    "                'security_deposit',\n",
    "                'host_since',\n",
    "                'property_type_Serviced apartment',\n",
    "                'guests_included',\n",
    "                'property_type_Loft',\n",
    "                'review_scores_location',\n",
    "                'extra_people',\n",
    "                'reviews_per_month',\n",
    "                'last_review_days_ago',\n",
    "                'amenities_Kitchen',\n",
    "                'number_of_reviews',\n",
    "                'host_listings_count',\n",
    "                'amenities_Free parking on premises',\n",
    "                'amenities_Dishwasher',\n",
    "                'amenities_Essentials',\n",
    "                'amenities_Patio or balcony',\n",
    "                'number_of_reviews_ltm',\n",
    "                'amenities_Indoor fireplace',\n",
    "                'room_type_Hotel room',\n",
    "                'review_scores_rating',\n",
    "                'amenities_Hangers',\n",
    "                'beds',\n",
    "                'amenities_Building staff',\n",
    "                'amenities_Free street parking',\n",
    "                'review_scores_communication',\n",
    "                'amenities_Baby monitor',\n",
    "                'review_scores_cleanliness',\n",
    "                'amenities_Doorman',\n",
    "                'review_scores_checkin',\n",
    "                'amenities_Washer',\n",
    "                'neighbourhood_group_cleansed_Brooklyn',\n",
    "                'amenities_Dryer',\n",
    "                'property_type_Apartment',\n",
    "                'amenities_Gym',\n",
    "                'host_response_time',\n",
    "                'amenities_Suitable for events',\n",
    "                'amenities_Smoking allowed',\n",
    "                'amenities_Elevator',\n",
    "                'host_verifications_ selfie',\n",
    "                'amenities_Shampoo',\n",
    "                'amenities_Pocket wifi',\n",
    "                'room_type_Shared room',\n",
    "                'property_type_Condominium',\n",
    "                'amenities_EV charger',\n",
    "                'bed_type_Couch',\n",
    "                'room_type_Private room',\n",
    "                'amenities_Wheelchair accessible',\n",
    "                'amenities_Hot tub',\n",
    "                'host_is_superhost',\n",
    "                'review_scores_value',\n",
    "                'amenities_Pets allowed',\n",
    "                'amenities_Pool',\n",
    "                'property_type_Townhouse',\n",
    "                'property_type_Guest suite'\n",
    "]]\n",
    "\n",
    "y = listings['price']\n",
    "\n",
    "\n",
    "# Split your data into training and test sets\n",
    "X_train, X_test, y_train, y_test = train_test_split(X, y, test_size=0.2, random_state=42)"
   ]
  },
  {
   "cell_type": "markdown",
   "metadata": {},
   "source": [
    "# Random Forest Rerun"
   ]
  },
  {
   "cell_type": "code",
   "execution_count": 36,
   "metadata": {},
   "outputs": [
    {
     "name": "stdout",
     "output_type": "stream",
     "text": [
      "[ 77.1667737   94.20656345  92.30358485  74.0532268   83.71534802\n",
      "  87.7672232  101.56121488  77.93986158  86.35027464  71.92777152]\n"
     ]
    }
   ],
   "source": [
    "#rerun using featuers that are heavily used\n",
    "regressor = RandomForestRegressor(n_estimators=100, random_state=None, min_samples_split=100)\n",
    "regressor = regressor.fit(X_train, y_train) \n",
    "\n",
    "#cross validation, 10 fold to try next\n",
    "scores = cross_val_score(estimator=regressor, X=X_train, y=y_train, cv=10, scoring=\"neg_mean_squared_error\")\n",
    "rmse_scores = np.sqrt(-scores)\n",
    "print(rmse_scores)"
   ]
  },
  {
   "cell_type": "code",
   "execution_count": 37,
   "metadata": {},
   "outputs": [
    {
     "name": "stdout",
     "output_type": "stream",
     "text": [
      "84.69918426454215\n",
      "0.6610946503102648\n"
     ]
    }
   ],
   "source": [
    "pred_train= regressor.predict(X_train)\n",
    "print(rmse_scores.mean())\n",
    "print(r2_score(y_train, pred_train))"
   ]
  },
  {
   "cell_type": "code",
   "execution_count": 38,
   "metadata": {},
   "outputs": [
    {
     "name": "stdout",
     "output_type": "stream",
     "text": [
      "85.39840780556287\n",
      "0.5523862353467356\n"
     ]
    }
   ],
   "source": [
    "pred_test= regressor.predict(X_test)\n",
    "print(np.sqrt(mean_squared_error(y_test,pred_test))) \n",
    "print(r2_score(y_test, pred_test))"
   ]
  },
  {
   "cell_type": "markdown",
   "metadata": {},
   "source": [
    "# Ridge Regression Rerun"
   ]
  },
  {
   "cell_type": "code",
   "execution_count": 33,
   "metadata": {},
   "outputs": [
    {
     "name": "stdout",
     "output_type": "stream",
     "text": [
      "[81.29306594 99.172288   99.48273291 80.97385739 89.82899053 91.54560266\n",
      " 98.79149587 84.20511966 93.208001   74.15858428]\n"
     ]
    }
   ],
   "source": [
    "#using CV\n",
    "regressor = Ridge(alpha=0.1)\n",
    "regressor = regressor.fit(X_train, y_train) \n",
    "\n",
    "#cross validation, 10 fold to try next\n",
    "scores = cross_val_score(estimator=regressor, X=X_train, y=y_train, cv=10, scoring=\"neg_mean_squared_error\")\n",
    "rmse_scores = np.sqrt(-scores)\n",
    "print(rmse_scores)"
   ]
  },
  {
   "cell_type": "code",
   "execution_count": 34,
   "metadata": {},
   "outputs": [
    {
     "name": "stdout",
     "output_type": "stream",
     "text": [
      "89.26597382375762\n",
      "0.5247798898753151\n"
     ]
    }
   ],
   "source": [
    "pred_train = regressor.predict(X_train)\n",
    "print(rmse_scores.mean())\n",
    "print(r2_score(y_train, pred_train))"
   ]
  },
  {
   "cell_type": "code",
   "execution_count": 35,
   "metadata": {},
   "outputs": [
    {
     "name": "stdout",
     "output_type": "stream",
     "text": [
      "89.89947237627374\n",
      "0.5039583179000422\n"
     ]
    }
   ],
   "source": [
    "pred_test= regressor.predict(X_test)\n",
    "print(np.sqrt(mean_squared_error(y_test,pred_test))) \n",
    "print(r2_score(y_test, pred_test))"
   ]
  },
  {
   "cell_type": "markdown",
   "metadata": {},
   "source": [
    "# Model Output for Testing Flask\n",
    "Using very few features"
   ]
  },
  {
   "cell_type": "code",
   "execution_count": 6,
   "metadata": {},
   "outputs": [],
   "source": [
    "X = listings[['room_type_Entire home/apt',\n",
    "                'bathrooms',\n",
    "                'neighbourhood_group_cleansed_Manhattan',\n",
    "                'cleaning_fee',\n",
    "                'bedrooms',\n",
    "                'accommodates',\n",
    "                'security_deposit'\n",
    "]]\n",
    "\n",
    "y = listings['price']\n",
    "\n",
    "# Split your data into training and test sets\n",
    "X_train, X_test, y_train, y_test = train_test_split(X, y, test_size=0.2, random_state=42)"
   ]
  },
  {
   "cell_type": "markdown",
   "metadata": {},
   "source": [
    "# Lasso Regression\n",
    "For testing flask"
   ]
  },
  {
   "cell_type": "code",
   "execution_count": 7,
   "metadata": {},
   "outputs": [
    {
     "output_type": "stream",
     "name": "stdout",
     "text": "[ 84.764473   102.7244807  103.65396042  84.22046589  91.46900529\n  95.40114448 102.11204679  87.93890438  96.8238047   77.05871149]\n"
    }
   ],
   "source": [
    "#using CV\n",
    "regressor = Lasso(alpha=0.1)\n",
    "regressor = regressor.fit(X_train, y_train) \n",
    "\n",
    "#cross validation, 10 fold to try next\n",
    "scores = cross_val_score(estimator=regressor, X=X_train, y=y_train, cv=10, scoring=\"neg_mean_squared_error\")\n",
    "rmse_scores = np.sqrt(-scores)\n",
    "\n",
    "print(rmse_scores)"
   ]
  },
  {
   "cell_type": "code",
   "execution_count": 8,
   "metadata": {},
   "outputs": [
    {
     "output_type": "stream",
     "name": "stdout",
     "text": "92.61669971481928\n0.48452290493972583\n"
    }
   ],
   "source": [
    "pred_train = regressor.predict(X_train)\n",
    "print(rmse_scores.mean())\n",
    "print(r2_score(y_train, pred_train))"
   ]
  },
  {
   "cell_type": "code",
   "execution_count": 9,
   "metadata": {},
   "outputs": [
    {
     "output_type": "stream",
     "name": "stdout",
     "text": "92.56442941204261\n0.47411335419090317\n"
    }
   ],
   "source": [
    "pred_test= regressor.predict(X_test)\n",
    "print(np.sqrt(mean_squared_error(y_test,pred_test))) \n",
    "print(r2_score(y_test, pred_test))"
   ]
  },
  {
   "cell_type": "code",
   "execution_count": 10,
   "metadata": {},
   "outputs": [],
   "source": [
    "# Saving model to disk\n",
    "pickle.dump(regressor, open('model.pkl','wb'))"
   ]
  },
  {
   "cell_type": "code",
   "execution_count": null,
   "metadata": {},
   "outputs": [],
   "source": []
  }
 ],
 "metadata": {
  "kernelspec": {
   "display_name": "Python 3",
   "language": "python",
   "name": "python3"
  },
  "language_info": {
   "codemirror_mode": {
    "name": "ipython",
    "version": 3
   },
   "file_extension": ".py",
   "mimetype": "text/x-python",
   "name": "python",
   "nbconvert_exporter": "python",
   "pygments_lexer": "ipython3",
   "version": "3.7.3-final"
  }
 },
 "nbformat": 4,
 "nbformat_minor": 2
}