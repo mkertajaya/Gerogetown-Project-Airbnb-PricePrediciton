{
 "cells": [
  {
   "cell_type": "markdown",
   "metadata": {},
   "source": [
    "# Model\n",
    "Exicting part, try different types regression model.\n"
   ]
  },
  {
   "cell_type": "code",
   "execution_count": 76,
   "metadata": {},
   "outputs": [],
   "source": [
    "import os\n",
    "import numpy as np\n",
    "import pandas as pd\n",
    "import matplotlib\n",
    "import matplotlib.pyplot as plt\n",
    "import seaborn as sns\n",
    "from collections import Counter\n",
    "\n",
    "from sklearn.model_selection import train_test_split\n",
    "from sklearn.model_selection import cross_val_score\n",
    "from sklearn.feature_selection import SelectFromModel\n",
    "\n",
    "from sklearn.linear_model import Lasso\n",
    "from sklearn.linear_model import Ridge\n",
    "from sklearn.ensemble import RandomForestRegressor\n",
    "from sklearn.ensemble import GradientBoostingRegressor\n",
    "from sklearn.datasets import make_regression\n",
    "\n",
    "from sklearn.metrics import mean_squared_error\n",
    "from sklearn.metrics import r2_score\n",
    "\n",
    "import pickle\n",
    "\n",
    "import warnings\n",
    "warnings.filterwarnings('ignore')"
   ]
  },
  {
   "cell_type": "code",
   "execution_count": 77,
   "metadata": {},
   "outputs": [],
   "source": [
    "#read data, specify index so it's easier to join and search using loc\n",
    "path = '../../data/new-york-city-airbnb-open-data/'\n",
    "listings_csv = os.path.join(path,'model_columns_listings.csv')\n",
    "listings = pd.read_csv(listings_csv)"
   ]
  },
  {
   "cell_type": "code",
   "execution_count": 78,
   "metadata": {},
   "outputs": [
    {
     "data": {
      "text/plain": [
       "(28444, 256)"
      ]
     },
     "execution_count": 78,
     "metadata": {},
     "output_type": "execute_result"
    }
   ],
   "source": [
    "#shape\n",
    "listings.shape"
   ]
  },
  {
   "cell_type": "code",
   "execution_count": 79,
   "metadata": {},
   "outputs": [
    {
     "data": {
      "text/plain": [
       "array(['Unnamed: 0', 'id', 'host_since', 'host_response_time',\n",
       "       'host_response_rate', 'host_acceptance_rate', 'host_is_superhost',\n",
       "       'host_listings_count', 'host_identity_verified', 'latitude',\n",
       "       'longitude', 'is_location_exact', 'accommodates', 'bathrooms',\n",
       "       'bedrooms', 'beds', 'price', 'security_deposit', 'cleaning_fee',\n",
       "       'guests_included', 'extra_people', 'number_of_reviews',\n",
       "       'number_of_reviews_ltm', 'first_review', 'last_review',\n",
       "       'review_scores_rating', 'review_scores_accuracy',\n",
       "       'review_scores_cleanliness', 'review_scores_checkin',\n",
       "       'review_scores_communication', 'review_scores_location',\n",
       "       'review_scores_value', 'instant_bookable', 'reviews_per_month',\n",
       "       'last_review_days_ago', 'host_verifications_ facebook',\n",
       "       'host_verifications_ google', 'host_verifications_ government_id',\n",
       "       'host_verifications_ identity_manual', 'host_verifications_ jumio',\n",
       "       'host_verifications_ kba', 'host_verifications_ manual_offline',\n",
       "       'host_verifications_ manual_online',\n",
       "       'host_verifications_ offline_government_id',\n",
       "       'host_verifications_ phone', 'host_verifications_ reviews',\n",
       "       'host_verifications_ selfie', 'host_verifications_ sent_id',\n",
       "       'host_verifications_ sesame', 'host_verifications_ sesame_offline',\n",
       "       'host_verifications_ weibo', 'host_verifications_ work_email',\n",
       "       'host_verifications_ zhima_selfie', 'host_verifications_email',\n",
       "       'host_verifications_facebook', 'host_verifications_jumio',\n",
       "       'host_verifications_offline_government_id',\n",
       "       'host_verifications_phone', 'host_verifications_reviews',\n",
       "       'amenities_ toilet', 'amenities_24-hour check-in',\n",
       "       'amenities_Accessible-height bed',\n",
       "       'amenities_Accessible-height toilet', 'amenities_Air conditioning',\n",
       "       'amenities_Air purifier', 'amenities_BBQ grill',\n",
       "       'amenities_Baby bath', 'amenities_Baby monitor',\n",
       "       'amenities_Babysitter recommendations', 'amenities_Baking sheet',\n",
       "       'amenities_Barbecue utensils', 'amenities_Bath towel',\n",
       "       'amenities_Bathrobes', 'amenities_Bathroom essentials',\n",
       "       'amenities_Bathtub', 'amenities_Bathtub with bath chair',\n",
       "       'amenities_Beach essentials', 'amenities_Beachfront',\n",
       "       'amenities_Bed linens', 'amenities_Bedroom comforts',\n",
       "       'amenities_Bluetooth speaker', 'amenities_Body soap',\n",
       "       'amenities_Bottled water', 'amenities_Bread maker',\n",
       "       'amenities_Breakfast', 'amenities_Building staff',\n",
       "       'amenities_Buzzer/wireless intercom', 'amenities_Cable TV',\n",
       "       'amenities_Carbon monoxide detector', 'amenities_Cat(s)',\n",
       "       'amenities_Changing table', 'amenities_Children’s books and toys',\n",
       "       'amenities_Children’s dinnerware',\n",
       "       'amenities_Cleaning before checkout', 'amenities_Coffee maker',\n",
       "       'amenities_Cooking basics', 'amenities_Crib',\n",
       "       'amenities_Disabled parking spot',\n",
       "       'amenities_Dishes and silverware', 'amenities_Dishwasher',\n",
       "       'amenities_Dog(s)', 'amenities_Doorman', 'amenities_Dryer',\n",
       "       'amenities_EV charger', 'amenities_Electric profiling bed',\n",
       "       'amenities_Elevator', 'amenities_Essentials',\n",
       "       'amenities_Ethernet connection',\n",
       "       'amenities_Extra pillows and blankets',\n",
       "       'amenities_Extra space around bed',\n",
       "       'amenities_Family/kid friendly', 'amenities_Fire extinguisher',\n",
       "       'amenities_Fireplace guards', 'amenities_Firm mattress',\n",
       "       'amenities_First aid kit', 'amenities_Fixed grab bars for shower',\n",
       "       'amenities_Fixed grab bars for toilet',\n",
       "       'amenities_Flat path to guest entrance',\n",
       "       'amenities_Free parking on premises',\n",
       "       'amenities_Free street parking', 'amenities_Full kitchen',\n",
       "       'amenities_Game console', 'amenities_Garden or backyard',\n",
       "       'amenities_Ground floor access', 'amenities_Gym',\n",
       "       'amenities_Hair dryer', 'amenities_Handheld shower head',\n",
       "       'amenities_Hangers', 'amenities_Heating', 'amenities_High chair',\n",
       "       'amenities_Host greets you', 'amenities_Hot tub',\n",
       "       'amenities_Hot water', 'amenities_Hot water kettle',\n",
       "       'amenities_Indoor fireplace', 'amenities_Internet',\n",
       "       'amenities_Iron', 'amenities_Keypad', 'amenities_Kitchen',\n",
       "       'amenities_Kitchenette', 'amenities_Lake access',\n",
       "       'amenities_Laptop friendly workspace',\n",
       "       'amenities_Lock on bedroom door', 'amenities_Lockbox',\n",
       "       'amenities_Long term stays allowed',\n",
       "       'amenities_Luggage dropoff allowed', 'amenities_Microwave',\n",
       "       'amenities_Mini bar', 'amenities_Mini fridge',\n",
       "       'amenities_Mobile hoist', 'amenities_No stairs or steps to enter',\n",
       "       'amenities_Other', 'amenities_Other pet(s)',\n",
       "       'amenities_Outlet covers', 'amenities_Oven',\n",
       "       'amenities_Pack ’n Play/travel crib',\n",
       "       'amenities_Paid parking off premises',\n",
       "       'amenities_Paid parking on premises', 'amenities_Patio or balcony',\n",
       "       'amenities_Pets allowed', 'amenities_Pets live on this property',\n",
       "       'amenities_Pocket wifi', 'amenities_Pool',\n",
       "       'amenities_Private bathroom', 'amenities_Private entrance',\n",
       "       'amenities_Private living room', 'amenities_Record player',\n",
       "       'amenities_Refrigerator', 'amenities_Room-darkening shades',\n",
       "       'amenities_Safe', 'amenities_Safety card',\n",
       "       'amenities_Self check-in', 'amenities_Shampoo',\n",
       "       'amenities_Shower chair', 'amenities_Shower gel',\n",
       "       'amenities_Single level home', 'amenities_Ski-in/Ski-out',\n",
       "       'amenities_Slippers', 'amenities_Smart lock',\n",
       "       'amenities_Smoke detector', 'amenities_Smoking allowed',\n",
       "       'amenities_Snacks', 'amenities_Stair gates',\n",
       "       'amenities_Step-free shower', 'amenities_Stove',\n",
       "       'amenities_Suitable for events', 'amenities_TV',\n",
       "       'amenities_Table corner guards', 'amenities_Toilet paper',\n",
       "       'amenities_Trash can', 'amenities_Turndown service',\n",
       "       'amenities_Washer', 'amenities_Washer/Dryer',\n",
       "       'amenities_Waterfront', 'amenities_Well-lit path to entrance',\n",
       "       'amenities_Wheelchair accessible',\n",
       "       'amenities_Wide clearance to shower',\n",
       "       'amenities_Wide doorway to guest bathroom',\n",
       "       'amenities_Wide entrance', 'amenities_Wide entrance for guests',\n",
       "       'amenities_Wide entryway', 'amenities_Wide hallways',\n",
       "       'amenities_Wifi', 'amenities_Window guards',\n",
       "       'amenities_translation missing: en.hosting_amenity_49',\n",
       "       'amenities_translation missing: en.hosting_amenity_50',\n",
       "       'cleaning_fee_yes_no', 'security_deposit_yes_no',\n",
       "       'extra_people_yes_no', 'neighbourhood_group_cleansed_Bronx',\n",
       "       'neighbourhood_group_cleansed_Brooklyn',\n",
       "       'neighbourhood_group_cleansed_Manhattan',\n",
       "       'neighbourhood_group_cleansed_Queens',\n",
       "       'neighbourhood_group_cleansed_Staten Island',\n",
       "       'property_type_Apartment', 'property_type_Barn',\n",
       "       'property_type_Boat', 'property_type_Bungalow',\n",
       "       'property_type_Cabin', 'property_type_Camper/RV',\n",
       "       'property_type_Casa particular (Cuba)', 'property_type_Castle',\n",
       "       'property_type_Cave', 'property_type_Condominium',\n",
       "       'property_type_Cottage', 'property_type_Earth house',\n",
       "       'property_type_Guest suite', 'property_type_Guesthouse',\n",
       "       'property_type_Hostel', 'property_type_House',\n",
       "       'property_type_Houseboat', 'property_type_Island',\n",
       "       'property_type_Lighthouse', 'property_type_Loft',\n",
       "       'property_type_Other', 'property_type_Tent',\n",
       "       'property_type_Tiny house', 'property_type_Townhouse',\n",
       "       'property_type_Treehouse', 'property_type_Villa',\n",
       "       'property_type_Yurt', 'room_type_Entire home/apt',\n",
       "       'room_type_Hotel room', 'room_type_Private room',\n",
       "       'room_type_Shared room', 'cancellation_policy_flexible',\n",
       "       'cancellation_policy_moderate', 'cancellation_policy_strict',\n",
       "       'cancellation_policy_strict_14_with_grace_period',\n",
       "       'cancellation_policy_super_strict_30',\n",
       "       'cancellation_policy_super_strict_60', 'bed_type_Airbed',\n",
       "       'bed_type_Couch', 'bed_type_Futon', 'bed_type_Pull-out Sofa',\n",
       "       'bed_type_Real Bed'], dtype=object)"
      ]
     },
     "execution_count": 79,
     "metadata": {},
     "output_type": "execute_result"
    }
   ],
   "source": [
    "listings.columns.values"
   ]
  },
  {
   "cell_type": "code",
   "execution_count": 80,
   "metadata": {},
   "outputs": [
    {
     "data": {
      "text/html": [
       "<div>\n",
       "<style scoped>\n",
       "    .dataframe tbody tr th:only-of-type {\n",
       "        vertical-align: middle;\n",
       "    }\n",
       "\n",
       "    .dataframe tbody tr th {\n",
       "        vertical-align: top;\n",
       "    }\n",
       "\n",
       "    .dataframe thead th {\n",
       "        text-align: right;\n",
       "    }\n",
       "</style>\n",
       "<table border=\"1\" class=\"dataframe\">\n",
       "  <thead>\n",
       "    <tr style=\"text-align: right;\">\n",
       "      <th></th>\n",
       "      <th>Unnamed: 0</th>\n",
       "      <th>id</th>\n",
       "      <th>host_since</th>\n",
       "      <th>host_response_time</th>\n",
       "      <th>host_response_rate</th>\n",
       "      <th>host_acceptance_rate</th>\n",
       "      <th>host_is_superhost</th>\n",
       "      <th>host_listings_count</th>\n",
       "      <th>host_identity_verified</th>\n",
       "      <th>latitude</th>\n",
       "      <th>...</th>\n",
       "      <th>cancellation_policy_moderate</th>\n",
       "      <th>cancellation_policy_strict</th>\n",
       "      <th>cancellation_policy_strict_14_with_grace_period</th>\n",
       "      <th>cancellation_policy_super_strict_30</th>\n",
       "      <th>cancellation_policy_super_strict_60</th>\n",
       "      <th>bed_type_Airbed</th>\n",
       "      <th>bed_type_Couch</th>\n",
       "      <th>bed_type_Futon</th>\n",
       "      <th>bed_type_Pull-out Sofa</th>\n",
       "      <th>bed_type_Real Bed</th>\n",
       "    </tr>\n",
       "  </thead>\n",
       "  <tbody>\n",
       "    <tr>\n",
       "      <th>0</th>\n",
       "      <td>1</td>\n",
       "      <td>2595</td>\n",
       "      <td>733294</td>\n",
       "      <td>3.0</td>\n",
       "      <td>87%</td>\n",
       "      <td>38%</td>\n",
       "      <td>0</td>\n",
       "      <td>6.0</td>\n",
       "      <td>1</td>\n",
       "      <td>40.75362</td>\n",
       "      <td>...</td>\n",
       "      <td>0</td>\n",
       "      <td>0</td>\n",
       "      <td>1</td>\n",
       "      <td>0</td>\n",
       "      <td>0</td>\n",
       "      <td>0</td>\n",
       "      <td>0</td>\n",
       "      <td>0</td>\n",
       "      <td>0</td>\n",
       "      <td>1</td>\n",
       "    </tr>\n",
       "    <tr>\n",
       "      <th>1</th>\n",
       "      <td>2</td>\n",
       "      <td>3831</td>\n",
       "      <td>733383</td>\n",
       "      <td>1.0</td>\n",
       "      <td>83%</td>\n",
       "      <td>96%</td>\n",
       "      <td>0</td>\n",
       "      <td>1.0</td>\n",
       "      <td>1</td>\n",
       "      <td>40.68514</td>\n",
       "      <td>...</td>\n",
       "      <td>1</td>\n",
       "      <td>0</td>\n",
       "      <td>0</td>\n",
       "      <td>0</td>\n",
       "      <td>0</td>\n",
       "      <td>0</td>\n",
       "      <td>0</td>\n",
       "      <td>0</td>\n",
       "      <td>0</td>\n",
       "      <td>1</td>\n",
       "    </tr>\n",
       "    <tr>\n",
       "      <th>2</th>\n",
       "      <td>3</td>\n",
       "      <td>5099</td>\n",
       "      <td>733440</td>\n",
       "      <td>2.5</td>\n",
       "      <td>NaN</td>\n",
       "      <td>71%</td>\n",
       "      <td>0</td>\n",
       "      <td>1.0</td>\n",
       "      <td>0</td>\n",
       "      <td>40.74767</td>\n",
       "      <td>...</td>\n",
       "      <td>1</td>\n",
       "      <td>0</td>\n",
       "      <td>0</td>\n",
       "      <td>0</td>\n",
       "      <td>0</td>\n",
       "      <td>0</td>\n",
       "      <td>0</td>\n",
       "      <td>0</td>\n",
       "      <td>0</td>\n",
       "      <td>1</td>\n",
       "    </tr>\n",
       "    <tr>\n",
       "      <th>3</th>\n",
       "      <td>5</td>\n",
       "      <td>5121</td>\n",
       "      <td>733441</td>\n",
       "      <td>2.5</td>\n",
       "      <td>NaN</td>\n",
       "      <td>67%</td>\n",
       "      <td>0</td>\n",
       "      <td>1.0</td>\n",
       "      <td>0</td>\n",
       "      <td>40.68688</td>\n",
       "      <td>...</td>\n",
       "      <td>0</td>\n",
       "      <td>0</td>\n",
       "      <td>1</td>\n",
       "      <td>0</td>\n",
       "      <td>0</td>\n",
       "      <td>0</td>\n",
       "      <td>0</td>\n",
       "      <td>1</td>\n",
       "      <td>0</td>\n",
       "      <td>0</td>\n",
       "    </tr>\n",
       "    <tr>\n",
       "      <th>4</th>\n",
       "      <td>6</td>\n",
       "      <td>5178</td>\n",
       "      <td>733469</td>\n",
       "      <td>3.0</td>\n",
       "      <td>90%</td>\n",
       "      <td>100%</td>\n",
       "      <td>0</td>\n",
       "      <td>1.0</td>\n",
       "      <td>0</td>\n",
       "      <td>40.76489</td>\n",
       "      <td>...</td>\n",
       "      <td>0</td>\n",
       "      <td>0</td>\n",
       "      <td>1</td>\n",
       "      <td>0</td>\n",
       "      <td>0</td>\n",
       "      <td>0</td>\n",
       "      <td>0</td>\n",
       "      <td>0</td>\n",
       "      <td>0</td>\n",
       "      <td>1</td>\n",
       "    </tr>\n",
       "    <tr>\n",
       "      <th>5</th>\n",
       "      <td>8</td>\n",
       "      <td>5238</td>\n",
       "      <td>733445</td>\n",
       "      <td>2.0</td>\n",
       "      <td>100%</td>\n",
       "      <td>26%</td>\n",
       "      <td>1</td>\n",
       "      <td>4.0</td>\n",
       "      <td>1</td>\n",
       "      <td>40.71344</td>\n",
       "      <td>...</td>\n",
       "      <td>0</td>\n",
       "      <td>0</td>\n",
       "      <td>1</td>\n",
       "      <td>0</td>\n",
       "      <td>0</td>\n",
       "      <td>0</td>\n",
       "      <td>0</td>\n",
       "      <td>0</td>\n",
       "      <td>0</td>\n",
       "      <td>1</td>\n",
       "    </tr>\n",
       "    <tr>\n",
       "      <th>6</th>\n",
       "      <td>9</td>\n",
       "      <td>5441</td>\n",
       "      <td>733454</td>\n",
       "      <td>2.0</td>\n",
       "      <td>100%</td>\n",
       "      <td>56%</td>\n",
       "      <td>1</td>\n",
       "      <td>1.0</td>\n",
       "      <td>1</td>\n",
       "      <td>40.76160</td>\n",
       "      <td>...</td>\n",
       "      <td>0</td>\n",
       "      <td>0</td>\n",
       "      <td>0</td>\n",
       "      <td>0</td>\n",
       "      <td>0</td>\n",
       "      <td>0</td>\n",
       "      <td>0</td>\n",
       "      <td>0</td>\n",
       "      <td>0</td>\n",
       "      <td>1</td>\n",
       "    </tr>\n",
       "    <tr>\n",
       "      <th>7</th>\n",
       "      <td>10</td>\n",
       "      <td>5552</td>\n",
       "      <td>733460</td>\n",
       "      <td>3.0</td>\n",
       "      <td>100%</td>\n",
       "      <td>20%</td>\n",
       "      <td>0</td>\n",
       "      <td>1.0</td>\n",
       "      <td>1</td>\n",
       "      <td>40.73552</td>\n",
       "      <td>...</td>\n",
       "      <td>1</td>\n",
       "      <td>0</td>\n",
       "      <td>0</td>\n",
       "      <td>0</td>\n",
       "      <td>0</td>\n",
       "      <td>0</td>\n",
       "      <td>0</td>\n",
       "      <td>0</td>\n",
       "      <td>0</td>\n",
       "      <td>1</td>\n",
       "    </tr>\n",
       "    <tr>\n",
       "      <th>8</th>\n",
       "      <td>11</td>\n",
       "      <td>5803</td>\n",
       "      <td>733476</td>\n",
       "      <td>2.0</td>\n",
       "      <td>100%</td>\n",
       "      <td>99%</td>\n",
       "      <td>1</td>\n",
       "      <td>3.0</td>\n",
       "      <td>1</td>\n",
       "      <td>40.66829</td>\n",
       "      <td>...</td>\n",
       "      <td>0</td>\n",
       "      <td>0</td>\n",
       "      <td>1</td>\n",
       "      <td>0</td>\n",
       "      <td>0</td>\n",
       "      <td>0</td>\n",
       "      <td>0</td>\n",
       "      <td>0</td>\n",
       "      <td>0</td>\n",
       "      <td>1</td>\n",
       "    </tr>\n",
       "    <tr>\n",
       "      <th>9</th>\n",
       "      <td>12</td>\n",
       "      <td>6021</td>\n",
       "      <td>733493</td>\n",
       "      <td>3.0</td>\n",
       "      <td>90%</td>\n",
       "      <td>84%</td>\n",
       "      <td>0</td>\n",
       "      <td>2.0</td>\n",
       "      <td>0</td>\n",
       "      <td>40.79826</td>\n",
       "      <td>...</td>\n",
       "      <td>0</td>\n",
       "      <td>0</td>\n",
       "      <td>1</td>\n",
       "      <td>0</td>\n",
       "      <td>0</td>\n",
       "      <td>0</td>\n",
       "      <td>0</td>\n",
       "      <td>0</td>\n",
       "      <td>0</td>\n",
       "      <td>1</td>\n",
       "    </tr>\n",
       "  </tbody>\n",
       "</table>\n",
       "<p>10 rows × 256 columns</p>\n",
       "</div>"
      ],
      "text/plain": [
       "   Unnamed: 0    id  host_since  host_response_time host_response_rate  \\\n",
       "0           1  2595      733294                 3.0                87%   \n",
       "1           2  3831      733383                 1.0                83%   \n",
       "2           3  5099      733440                 2.5                NaN   \n",
       "3           5  5121      733441                 2.5                NaN   \n",
       "4           6  5178      733469                 3.0                90%   \n",
       "5           8  5238      733445                 2.0               100%   \n",
       "6           9  5441      733454                 2.0               100%   \n",
       "7          10  5552      733460                 3.0               100%   \n",
       "8          11  5803      733476                 2.0               100%   \n",
       "9          12  6021      733493                 3.0                90%   \n",
       "\n",
       "  host_acceptance_rate  host_is_superhost  host_listings_count  \\\n",
       "0                  38%                  0                  6.0   \n",
       "1                  96%                  0                  1.0   \n",
       "2                  71%                  0                  1.0   \n",
       "3                  67%                  0                  1.0   \n",
       "4                 100%                  0                  1.0   \n",
       "5                  26%                  1                  4.0   \n",
       "6                  56%                  1                  1.0   \n",
       "7                  20%                  0                  1.0   \n",
       "8                  99%                  1                  3.0   \n",
       "9                  84%                  0                  2.0   \n",
       "\n",
       "   host_identity_verified  latitude  ...  cancellation_policy_moderate  \\\n",
       "0                       1  40.75362  ...                             0   \n",
       "1                       1  40.68514  ...                             1   \n",
       "2                       0  40.74767  ...                             1   \n",
       "3                       0  40.68688  ...                             0   \n",
       "4                       0  40.76489  ...                             0   \n",
       "5                       1  40.71344  ...                             0   \n",
       "6                       1  40.76160  ...                             0   \n",
       "7                       1  40.73552  ...                             1   \n",
       "8                       1  40.66829  ...                             0   \n",
       "9                       0  40.79826  ...                             0   \n",
       "\n",
       "   cancellation_policy_strict  \\\n",
       "0                           0   \n",
       "1                           0   \n",
       "2                           0   \n",
       "3                           0   \n",
       "4                           0   \n",
       "5                           0   \n",
       "6                           0   \n",
       "7                           0   \n",
       "8                           0   \n",
       "9                           0   \n",
       "\n",
       "   cancellation_policy_strict_14_with_grace_period  \\\n",
       "0                                                1   \n",
       "1                                                0   \n",
       "2                                                0   \n",
       "3                                                1   \n",
       "4                                                1   \n",
       "5                                                1   \n",
       "6                                                0   \n",
       "7                                                0   \n",
       "8                                                1   \n",
       "9                                                1   \n",
       "\n",
       "   cancellation_policy_super_strict_30  cancellation_policy_super_strict_60  \\\n",
       "0                                    0                                    0   \n",
       "1                                    0                                    0   \n",
       "2                                    0                                    0   \n",
       "3                                    0                                    0   \n",
       "4                                    0                                    0   \n",
       "5                                    0                                    0   \n",
       "6                                    0                                    0   \n",
       "7                                    0                                    0   \n",
       "8                                    0                                    0   \n",
       "9                                    0                                    0   \n",
       "\n",
       "   bed_type_Airbed  bed_type_Couch  bed_type_Futon  bed_type_Pull-out Sofa  \\\n",
       "0                0               0               0                       0   \n",
       "1                0               0               0                       0   \n",
       "2                0               0               0                       0   \n",
       "3                0               0               1                       0   \n",
       "4                0               0               0                       0   \n",
       "5                0               0               0                       0   \n",
       "6                0               0               0                       0   \n",
       "7                0               0               0                       0   \n",
       "8                0               0               0                       0   \n",
       "9                0               0               0                       0   \n",
       "\n",
       "   bed_type_Real Bed  \n",
       "0                  1  \n",
       "1                  1  \n",
       "2                  1  \n",
       "3                  0  \n",
       "4                  1  \n",
       "5                  1  \n",
       "6                  1  \n",
       "7                  1  \n",
       "8                  1  \n",
       "9                  1  \n",
       "\n",
       "[10 rows x 256 columns]"
      ]
     },
     "execution_count": 80,
     "metadata": {},
     "output_type": "execute_result"
    }
   ],
   "source": [
    "#head\n",
    "listings.head(10)"
   ]
  },
  {
   "cell_type": "markdown",
   "metadata": {},
   "source": [
    "# Features/Target\n",
    "Features to be included and test/train split, take out 'latitude', 'longitude'\n",
    "Also due to removing certain price, the following is gone: 'property_type_Train', 'property_type_Dome house', 'property_type_Dorm', 'host_verifications_google', 'property_type_Island', 'property_type_In-law', 'property_type_Yurt', 'property_type_Bus', 'property_type_Timeshare', 'property_type_Farm stay', 'property_type_Treehouse'\n",
    "Remove 'review locations', this is the same as neigbourhood"
   ]
  },
  {
   "cell_type": "code",
   "execution_count": 81,
   "metadata": {},
   "outputs": [],
   "source": [
    "\n",
    "X = listings[['host_since', 'host_response_time', 'host_is_superhost', 'host_listings_count', \n",
    "'host_identity_verified', 'is_location_exact', 'accommodates', 'bathrooms', 'bedrooms', \n",
    "'beds', 'security_deposit_yes_no', 'cleaning_fee_yes_no', 'guests_included','extra_people_yes_no', 'number_of_reviews', \n",
    "'number_of_reviews_ltm', 'review_scores_rating', 'review_scores_accuracy', 'review_scores_cleanliness',\n",
    "'review_scores_checkin', 'review_scores_communication', 'review_scores_value',\n",
    "'instant_bookable', 'reviews_per_month', 'host_verifications_ facebook', 'host_verifications_ google', \n",
    "'host_verifications_ government_id', 'host_verifications_ identity_manual', 'host_verifications_ jumio',\n",
    "'host_verifications_ kba', 'host_verifications_ manual_offline', 'host_verifications_ manual_online', \n",
    "'host_verifications_ offline_government_id', 'host_verifications_ phone', 'host_verifications_ reviews',\n",
    "'host_verifications_ selfie', 'host_verifications_ sent_id', 'host_verifications_ sesame', \n",
    "'host_verifications_ sesame_offline', 'host_verifications_ weibo', 'host_verifications_ work_email', \n",
    "'host_verifications_ zhima_selfie', 'host_verifications_email', 'host_verifications_facebook', \n",
    "'host_verifications_jumio', 'host_verifications_offline_government_id', 'host_verifications_phone', \n",
    "'host_verifications_reviews', 'neighbourhood_group_cleansed_Bronx', 'neighbourhood_group_cleansed_Brooklyn', \n",
    "'neighbourhood_group_cleansed_Manhattan', 'neighbourhood_group_cleansed_Queens', \n",
    "'neighbourhood_group_cleansed_Staten Island', 'property_type_Apartment','property_type_Barn', \n",
    "'property_type_Boat', 'property_type_Bungalow', 'property_type_Cabin', 'property_type_Camper/RV', \n",
    "'property_type_Castle', 'property_type_Cave', 'property_type_Condominium', 'property_type_Cottage', \n",
    "'property_type_Earth house', 'property_type_Guest suite', 'property_type_Guesthouse', 'property_type_Hostel', \n",
    "'property_type_House', 'property_type_Houseboat', 'property_type_Lighthouse','property_type_Loft', \n",
    "'property_type_Other', 'property_type_Tent', 'property_type_Tiny house', \n",
    "'property_type_Townhouse', 'property_type_Villa', 'room_type_Entire home/apt', 'room_type_Hotel room', \n",
    "'room_type_Private room', 'room_type_Shared room', 'cancellation_policy_flexible', \n",
    "'cancellation_policy_moderate', 'cancellation_policy_strict', 'cancellation_policy_strict_14_with_grace_period', \n",
    "'cancellation_policy_super_strict_30', 'cancellation_policy_super_strict_60', 'bed_type_Airbed', 'bed_type_Couch', \n",
    "'bed_type_Futon','bed_type_Pull-out Sofa', 'bed_type_Real Bed', 'amenities_ toilet', 'amenities_24-hour check-in', \n",
    "'amenities_Accessible-height bed','amenities_Accessible-height toilet', 'amenities_Air conditioning', \n",
    "'amenities_Air purifier', 'amenities_BBQ grill', 'amenities_Baby bath', 'amenities_Baby monitor',\n",
    "'amenities_Babysitter recommendations', 'amenities_Baking sheet', 'amenities_Barbecue utensils',\n",
    "'amenities_Bath towel', 'amenities_Bathrobes', 'amenities_Bathroom essentials', 'amenities_Bathtub',\n",
    "'amenities_Bathtub with bath chair', 'amenities_Beach essentials', 'amenities_Beachfront', 'amenities_Bed linens', \n",
    "'amenities_Bedroom comforts', 'amenities_Bluetooth speaker', 'amenities_Body soap', 'amenities_Bottled water', \n",
    "'amenities_Bread maker', 'amenities_Breakfast','amenities_Building staff', 'amenities_Buzzer/wireless intercom',\n",
    "'amenities_Cable TV', 'amenities_Carbon monoxide detector', 'amenities_Cat(s)', 'amenities_Changing table', \n",
    "'amenities_Children’s books and toys', 'amenities_Children’s dinnerware', 'amenities_Cleaning before checkout', \n",
    "'amenities_Coffee maker', 'amenities_Cooking basics', 'amenities_Crib', 'amenities_Disabled parking spot',\n",
    "'amenities_Dishes and silverware', 'amenities_Dishwasher', 'amenities_Dog(s)', 'amenities_Doorman', 'amenities_Dryer',\n",
    "'amenities_EV charger', 'amenities_Electric profiling bed', 'amenities_Elevator', 'amenities_Essentials', \n",
    "'amenities_Ethernet connection', 'amenities_Extra pillows and blankets', 'amenities_Extra space around bed', \n",
    "'amenities_Family/kid friendly', 'amenities_Fire extinguisher', 'amenities_Fireplace guards', \n",
    "'amenities_Firm mattress', 'amenities_First aid kit', 'amenities_Fixed grab bars for shower',\n",
    "'amenities_Fixed grab bars for toilet', 'amenities_Flat path to guest entrance',\n",
    "'amenities_Free parking on premises', 'amenities_Free street parking', 'amenities_Full kitchen', \n",
    "'amenities_Game console', 'amenities_Garden or backyard', 'amenities_Ground floor access', 'amenities_Gym',\n",
    "'amenities_Hair dryer', 'amenities_Handheld shower head', 'amenities_Hangers', 'amenities_Heating', \n",
    "'amenities_High chair', 'amenities_Host greets you', 'amenities_Hot tub',\n",
    "'amenities_Hot water', 'amenities_Hot water kettle', 'amenities_Indoor fireplace', 'amenities_Internet', \n",
    "'amenities_Iron', 'amenities_Keypad', 'amenities_Kitchen',\n",
    "'amenities_Kitchenette', 'amenities_Lake access', 'amenities_Laptop friendly workspace',\n",
    "'amenities_Lock on bedroom door', 'amenities_Lockbox', 'amenities_Long term stays allowed',\n",
    "'amenities_Luggage dropoff allowed', 'amenities_Microwave', 'amenities_Mini bar', 'amenities_Mini fridge', \n",
    "'amenities_Mobile hoist', 'amenities_No stairs or steps to enter', 'amenities_Other', 'amenities_Other pet(s)',\n",
    "'amenities_Outlet covers', 'amenities_Oven', 'amenities_Pack ’n Play/travel crib',\n",
    "'amenities_Paid parking off premises', 'amenities_Paid parking on premises', 'amenities_Patio or balcony', \n",
    "'amenities_Pets allowed', 'amenities_Pets live on this property', 'amenities_Pocket wifi', 'amenities_Pool',\n",
    "'amenities_Private bathroom', 'amenities_Private entrance', 'amenities_Private living room', \n",
    "'amenities_Record player', 'amenities_Refrigerator', 'amenities_Room-darkening shades', 'amenities_Safe',\n",
    "'amenities_Safety card', 'amenities_Self check-in', 'amenities_Shampoo', 'amenities_Shower chair', \n",
    "'amenities_Shower gel','amenities_Single level home', 'amenities_Ski-in/Ski-out', 'amenities_Slippers',\n",
    "'amenities_Smart lock', 'amenities_Smoke detector', 'amenities_Smoking allowed', 'amenities_Snacks',\n",
    "'amenities_Stair gates', 'amenities_Step-free shower', 'amenities_Stove', 'amenities_Suitable for events',\n",
    "'amenities_TV', 'amenities_Table corner guards', 'amenities_Toilet paper', 'amenities_Trash can', \n",
    "'amenities_Turndown service', 'amenities_Washer', 'amenities_Washer/Dryer', 'amenities_Waterfront',\n",
    "'amenities_Well-lit path to entrance', 'amenities_Wheelchair accessible', 'amenities_Wide clearance to shower',\n",
    "'amenities_Wide doorway to guest bathroom', 'amenities_Wide entrance', 'amenities_Wide entrance for guests', \n",
    "'amenities_Wide entryway', 'amenities_Wide hallways', 'amenities_Wifi', 'amenities_Window guards',\n",
    "'last_review_days_ago']]\n",
    "\n",
    "y = listings['price']\n",
    "\n",
    "# Split your data into training and test sets\n",
    "X_train, X_test, y_train, y_test = train_test_split(X, y, test_size=0.2, random_state=42)"
   ]
  },
  {
   "cell_type": "markdown",
   "metadata": {},
   "source": [
    "# Lasso Regression"
   ]
  },
  {
   "cell_type": "code",
   "execution_count": 82,
   "metadata": {},
   "outputs": [
    {
     "name": "stdout",
     "output_type": "stream",
     "text": [
      "[ 90.41115421  80.15712746  85.45115428  90.33322548  91.73949271\n",
      "  90.13887667  88.57588157  90.85519288  85.08385955 103.47892828]\n"
     ]
    }
   ],
   "source": [
    "#using CV\n",
    "regressor = Lasso(alpha=0.5)\n",
    "regressor = regressor.fit(X_train, y_train) \n",
    "\n",
    "#cross validation, 10 fold to try next\n",
    "scores = cross_val_score(estimator=regressor, X=X_train, y=y_train, cv=10, scoring=\"neg_mean_squared_error\")\n",
    "rmse_scores = np.sqrt(-scores)\n",
    "\n",
    "print(rmse_scores)\n"
   ]
  },
  {
   "cell_type": "code",
   "execution_count": 83,
   "metadata": {},
   "outputs": [
    {
     "name": "stdout",
     "output_type": "stream",
     "text": [
      "89.62248931020292\n",
      "0.5072202043661358\n"
     ]
    }
   ],
   "source": [
    "pred_train = regressor.predict(X_train)\n",
    "print(rmse_scores.mean())\n",
    "print(r2_score(y_train, pred_train))\n"
   ]
  },
  {
   "cell_type": "code",
   "execution_count": 84,
   "metadata": {},
   "outputs": [
    {
     "name": "stdout",
     "output_type": "stream",
     "text": [
      "83.05079890715479\n",
      "0.5073751644616054\n"
     ]
    }
   ],
   "source": [
    "pred_test= regressor.predict(X_test)\n",
    "print(np.sqrt(mean_squared_error(y_test,pred_test))) \n",
    "print(r2_score(y_test, pred_test))"
   ]
  },
  {
   "cell_type": "markdown",
   "metadata": {},
   "source": [
    "# Ridge Regression"
   ]
  },
  {
   "cell_type": "code",
   "execution_count": 85,
   "metadata": {},
   "outputs": [
    {
     "name": "stdout",
     "output_type": "stream",
     "text": [
      "[ 89.43799883  79.91434694  85.01279024  89.82545936  91.47681758\n",
      "  89.92854833  88.38804325  90.55379941  84.33329589 102.71543551]\n"
     ]
    }
   ],
   "source": [
    "#using CV\n",
    "regressor = Ridge(alpha=0.5)\n",
    "regressor = regressor.fit(X_train, y_train) \n",
    "\n",
    "#cross validation, 10 fold to try next\n",
    "scores = cross_val_score(estimator=regressor, X=X_train, y=y_train, cv=10, scoring=\"neg_mean_squared_error\")\n",
    "rmse_scores = np.sqrt(-scores)\n",
    "print(rmse_scores)\n"
   ]
  },
  {
   "cell_type": "code",
   "execution_count": 86,
   "metadata": {},
   "outputs": [
    {
     "name": "stdout",
     "output_type": "stream",
     "text": [
      "89.158653532915\n",
      "0.5196764839065262\n"
     ]
    }
   ],
   "source": [
    "pred_train = regressor.predict(X_train)\n",
    "print(rmse_scores.mean())\n",
    "print(r2_score(y_train, pred_train))\n"
   ]
  },
  {
   "cell_type": "code",
   "execution_count": 87,
   "metadata": {},
   "outputs": [
    {
     "name": "stdout",
     "output_type": "stream",
     "text": [
      "83.07309290237296\n",
      "0.5071106504546834\n"
     ]
    }
   ],
   "source": [
    "pred_test= regressor.predict(X_test)\n",
    "print(np.sqrt(mean_squared_error(y_test,pred_test))) \n",
    "print(r2_score(y_test, pred_test))"
   ]
  },
  {
   "cell_type": "markdown",
   "metadata": {},
   "source": [
    "# Random Forest"
   ]
  },
  {
   "cell_type": "code",
   "execution_count": 88,
   "metadata": {},
   "outputs": [
    {
     "name": "stdout",
     "output_type": "stream",
     "text": [
      "[ 84.69738427  75.7008178   82.9565357   85.04546143  86.25839075\n",
      "  85.41330232  85.43253988  87.20592286  80.24998739 100.34944466]\n"
     ]
    }
   ],
   "source": [
    "#using CV\n",
    "regressor = RandomForestRegressor(n_estimators=100, random_state=None, min_samples_split=100)\n",
    "regressor = regressor.fit(X_train, y_train) \n",
    "\n",
    "#cross validation, 10 fold to try next\n",
    "scores = cross_val_score(estimator=regressor, X=X_train, y=y_train, cv=10, scoring=\"neg_mean_squared_error\")\n",
    "rmse_scores = np.sqrt(-scores) \n",
    "print(rmse_scores)"
   ]
  },
  {
   "cell_type": "code",
   "execution_count": 89,
   "metadata": {},
   "outputs": [
    {
     "name": "stdout",
     "output_type": "stream",
     "text": [
      "85.33097870450588\n",
      "0.6348028476460521\n"
     ]
    }
   ],
   "source": [
    "pred_train= regressor.predict(X_train)\n",
    "print(rmse_scores.mean())\n",
    "print(r2_score(y_train, pred_train))"
   ]
  },
  {
   "cell_type": "code",
   "execution_count": 90,
   "metadata": {},
   "outputs": [
    {
     "name": "stdout",
     "output_type": "stream",
     "text": [
      "79.36115582730953\n",
      "0.5501739084211198\n"
     ]
    }
   ],
   "source": [
    "pred_test= regressor.predict(X_test)\n",
    "print(np.sqrt(mean_squared_error(y_test,pred_test))) \n",
    "print(r2_score(y_test, pred_test))"
   ]
  },
  {
   "cell_type": "markdown",
   "metadata": {},
   "source": [
    "# Gradient Boost"
   ]
  },
  {
   "cell_type": "code",
   "execution_count": 91,
   "metadata": {},
   "outputs": [
    {
     "name": "stdout",
     "output_type": "stream",
     "text": [
      "[84.4063651  73.27494879 81.46262852 80.3287669  86.69251742 84.21822006\n",
      " 83.21160871 83.12772745 78.02181226 97.53368949]\n"
     ]
    }
   ],
   "source": [
    "#using CV\n",
    "regressor = GradientBoostingRegressor(random_state=0)\n",
    "regressor = regressor.fit(X_train, y_train) \n",
    "\n",
    "#cross validation, 10 fold to try next\n",
    "scores = cross_val_score(estimator=regressor, X=X_train, y=y_train, cv=10, scoring=\"neg_mean_squared_error\")\n",
    "rmse_scores = np.sqrt(-scores) \n",
    "print(rmse_scores)"
   ]
  },
  {
   "cell_type": "code",
   "execution_count": 92,
   "metadata": {},
   "outputs": [
    {
     "name": "stdout",
     "output_type": "stream",
     "text": [
      "83.22782847017481\n",
      "0.6258150505641243\n"
     ]
    }
   ],
   "source": [
    "pred_train= regressor.predict(X_train)\n",
    "print(rmse_scores.mean())\n",
    "print(r2_score(y_train, pred_train))"
   ]
  },
  {
   "cell_type": "code",
   "execution_count": 93,
   "metadata": {},
   "outputs": [
    {
     "name": "stdout",
     "output_type": "stream",
     "text": [
      "76.05803025789685\n",
      "0.5868394739562605\n"
     ]
    }
   ],
   "source": [
    "pred_test= regressor.predict(X_test)\n",
    "print(np.sqrt(mean_squared_error(y_test,pred_test))) \n",
    "print(r2_score(y_test, pred_test))"
   ]
  },
  {
   "cell_type": "markdown",
   "metadata": {},
   "source": [
    "# Feature Importance\n",
    "this was for gradient boosting - run the same code for random forest, make sure run the fit/model first, it uses same regessor variable"
   ]
  },
  {
   "cell_type": "code",
   "execution_count": 94,
   "metadata": {},
   "outputs": [],
   "source": [
    "#get features importance\n",
    "features = regressor.feature_importances_\n",
    "\n",
    "#get column names from our list of features\n",
    "column_names=X.columns.values.tolist()\n",
    "\n",
    "#match features importance to column name\n",
    "df = pd.DataFrame([features], columns=column_names)\n"
   ]
  },
  {
   "cell_type": "code",
   "execution_count": 95,
   "metadata": {},
   "outputs": [
    {
     "data": {
      "text/html": [
       "<div>\n",
       "<style scoped>\n",
       "    .dataframe tbody tr th:only-of-type {\n",
       "        vertical-align: middle;\n",
       "    }\n",
       "\n",
       "    .dataframe tbody tr th {\n",
       "        vertical-align: top;\n",
       "    }\n",
       "\n",
       "    .dataframe thead th {\n",
       "        text-align: right;\n",
       "    }\n",
       "</style>\n",
       "<table border=\"1\" class=\"dataframe\">\n",
       "  <thead>\n",
       "    <tr style=\"text-align: right;\">\n",
       "      <th></th>\n",
       "      <th>host_since</th>\n",
       "      <th>host_response_time</th>\n",
       "      <th>host_is_superhost</th>\n",
       "      <th>host_listings_count</th>\n",
       "      <th>host_identity_verified</th>\n",
       "      <th>is_location_exact</th>\n",
       "      <th>accommodates</th>\n",
       "      <th>bathrooms</th>\n",
       "      <th>bedrooms</th>\n",
       "      <th>beds</th>\n",
       "      <th>...</th>\n",
       "      <th>amenities_Wheelchair accessible</th>\n",
       "      <th>amenities_Wide clearance to shower</th>\n",
       "      <th>amenities_Wide doorway to guest bathroom</th>\n",
       "      <th>amenities_Wide entrance</th>\n",
       "      <th>amenities_Wide entrance for guests</th>\n",
       "      <th>amenities_Wide entryway</th>\n",
       "      <th>amenities_Wide hallways</th>\n",
       "      <th>amenities_Wifi</th>\n",
       "      <th>amenities_Window guards</th>\n",
       "      <th>last_review_days_ago</th>\n",
       "    </tr>\n",
       "  </thead>\n",
       "  <tbody>\n",
       "    <tr>\n",
       "      <th>0</th>\n",
       "      <td>0.005557</td>\n",
       "      <td>0.000131</td>\n",
       "      <td>0.0</td>\n",
       "      <td>0.008702</td>\n",
       "      <td>0.0</td>\n",
       "      <td>0.0</td>\n",
       "      <td>0.180257</td>\n",
       "      <td>0.165521</td>\n",
       "      <td>0.229509</td>\n",
       "      <td>0.006074</td>\n",
       "      <td>...</td>\n",
       "      <td>0.0</td>\n",
       "      <td>0.0</td>\n",
       "      <td>0.00008</td>\n",
       "      <td>0.0001</td>\n",
       "      <td>0.0</td>\n",
       "      <td>0.000202</td>\n",
       "      <td>0.0</td>\n",
       "      <td>0.0</td>\n",
       "      <td>0.000176</td>\n",
       "      <td>0.002062</td>\n",
       "    </tr>\n",
       "  </tbody>\n",
       "</table>\n",
       "<p>1 rows × 237 columns</p>\n",
       "</div>"
      ],
      "text/plain": [
       "   host_since  host_response_time  host_is_superhost  host_listings_count  \\\n",
       "0    0.005557            0.000131                0.0             0.008702   \n",
       "\n",
       "   host_identity_verified  is_location_exact  accommodates  bathrooms  \\\n",
       "0                     0.0                0.0      0.180257   0.165521   \n",
       "\n",
       "   bedrooms      beds  ...  amenities_Wheelchair accessible  \\\n",
       "0  0.229509  0.006074  ...                              0.0   \n",
       "\n",
       "   amenities_Wide clearance to shower  \\\n",
       "0                                 0.0   \n",
       "\n",
       "   amenities_Wide doorway to guest bathroom  amenities_Wide entrance  \\\n",
       "0                                   0.00008                   0.0001   \n",
       "\n",
       "   amenities_Wide entrance for guests  amenities_Wide entryway  \\\n",
       "0                                 0.0                 0.000202   \n",
       "\n",
       "   amenities_Wide hallways  amenities_Wifi  amenities_Window guards  \\\n",
       "0                      0.0             0.0                 0.000176   \n",
       "\n",
       "   last_review_days_ago  \n",
       "0              0.002062  \n",
       "\n",
       "[1 rows x 237 columns]"
      ]
     },
     "execution_count": 95,
     "metadata": {},
     "output_type": "execute_result"
    }
   ],
   "source": [
    "df.head()"
   ]
  },
  {
   "cell_type": "code",
   "execution_count": 96,
   "metadata": {},
   "outputs": [],
   "source": [
    "#features importance sorted\n",
    "features_sorted = df.iloc[0].sort_values(ascending=False)"
   ]
  },
  {
   "cell_type": "code",
   "execution_count": 97,
   "metadata": {},
   "outputs": [
    {
     "data": {
      "text/plain": [
       "bedrooms                                           0.229509\n",
       "accommodates                                       0.180257\n",
       "room_type_Entire home/apt                          0.171010\n",
       "bathrooms                                          0.165521\n",
       "neighbourhood_group_cleansed_Manhattan             0.118557\n",
       "property_type_Loft                                 0.011624\n",
       "amenities_Free street parking                      0.010982\n",
       "host_listings_count                                0.008702\n",
       "amenities_Dishwasher                               0.008641\n",
       "amenities_Patio or balcony                         0.007440\n",
       "extra_people_yes_no                                0.006630\n",
       "guests_included                                    0.006245\n",
       "review_scores_rating                               0.006207\n",
       "beds                                               0.006074\n",
       "host_since                                         0.005557\n",
       "review_scores_cleanliness                          0.005365\n",
       "amenities_Washer                                   0.005044\n",
       "amenities_Kitchen                                  0.004436\n",
       "amenities_Indoor fireplace                         0.003676\n",
       "amenities_Gym                                      0.002103\n",
       "last_review_days_ago                               0.002062\n",
       "amenities_Elevator                                 0.001869\n",
       "neighbourhood_group_cleansed_Brooklyn              0.001859\n",
       "amenities_Smart lock                               0.001573\n",
       "security_deposit_yes_no                            0.001466\n",
       "reviews_per_month                                  0.001442\n",
       "amenities_Baby monitor                             0.001357\n",
       "review_scores_value                                0.001310\n",
       "number_of_reviews                                  0.001286\n",
       "amenities_Building staff                           0.001256\n",
       "amenities_Doorman                                  0.001225\n",
       "number_of_reviews_ltm                              0.001207\n",
       "cancellation_policy_strict_14_with_grace_period    0.001188\n",
       "room_type_Shared room                              0.001072\n",
       "amenities_Baby bath                                0.001001\n",
       "amenities_Hair dryer                               0.000884\n",
       "amenities_Room-darkening shades                    0.000880\n",
       "amenities_Shampoo                                  0.000869\n",
       "property_type_Townhouse                            0.000599\n",
       "amenities_TV                                       0.000578\n",
       "amenities_Hot tub                                  0.000561\n",
       "host_verifications_ selfie                         0.000556\n",
       "neighbourhood_group_cleansed_Staten Island         0.000550\n",
       "amenities_Air conditioning                         0.000495\n",
       "cancellation_policy_super_strict_60                0.000481\n",
       "property_type_Houseboat                            0.000474\n",
       "host_verifications_ work_email                     0.000448\n",
       "amenities_Garden or backyard                       0.000429\n",
       "property_type_Condominium                          0.000415\n",
       "amenities_Ethernet connection                      0.000404\n",
       "amenities_Microwave                                0.000400\n",
       "amenities_Pets allowed                             0.000400\n",
       "amenities_Suitable for events                      0.000385\n",
       "amenities_Hangers                                  0.000364\n",
       "amenities_Paid parking off premises                0.000359\n",
       "room_type_Private room                             0.000341\n",
       "amenities_Hot water kettle                         0.000339\n",
       "amenities_Hot water                                0.000314\n",
       "amenities_Free parking on premises                 0.000296\n",
       "amenities_Private entrance                         0.000274\n",
       "Name: 0, dtype: float64"
      ]
     },
     "execution_count": 97,
     "metadata": {},
     "output_type": "execute_result"
    }
   ],
   "source": [
    "features_sorted.head(60)\n"
   ]
  },
  {
   "cell_type": "markdown",
   "metadata": {},
   "source": [
    "# Model Output for Testing Flask\n",
    "Using very few features"
   ]
  },
  {
   "cell_type": "code",
   "execution_count": 98,
   "metadata": {},
   "outputs": [],
   "source": [
    "X = listings[['bedrooms',\n",
    "            'accommodates',\n",
    "            'room_type_Entire home/apt',\n",
    "            'bathrooms',\n",
    "            'neighbourhood_group_cleansed_Manhattan',\n",
    "            'property_type_Loft',\n",
    "            'amenities_Free street parking']]\n",
    "\n",
    "y = listings['price']\n",
    "\n",
    "# Split your data into training and test sets\n",
    "X_train, X_test, y_train, y_test = train_test_split(X, y, test_size=0.2, random_state=42)"
   ]
  },
  {
   "cell_type": "markdown",
   "metadata": {},
   "source": [
    "# Gradient Boost\n",
    "For testing flask"
   ]
  },
  {
   "cell_type": "code",
   "execution_count": 99,
   "metadata": {},
   "outputs": [
    {
     "name": "stdout",
     "output_type": "stream",
     "text": [
      "[86.69528739 77.10785964 86.53339494 84.14168615 89.65546095 87.27550644\n",
      " 87.11778648 85.00449831 81.1734252  99.76561591]\n"
     ]
    }
   ],
   "source": [
    "#using CV\n",
    "# regressor = Lasso(alpha=0.1)\n",
    "# regressor = regressor.fit(X_train, y_train) \n",
    "\n",
    "#using CV\n",
    "regressor = GradientBoostingRegressor(random_state=0)\n",
    "regressor = regressor.fit(X_train, y_train) \n",
    "\n",
    "#cross validation, 10 fold to try next\n",
    "scores = cross_val_score(estimator=regressor, X=X_train, y=y_train, cv=10, scoring=\"neg_mean_squared_error\")\n",
    "rmse_scores = np.sqrt(-scores)\n",
    "\n",
    "print(rmse_scores)"
   ]
  },
  {
   "cell_type": "code",
   "execution_count": 100,
   "metadata": {},
   "outputs": [
    {
     "name": "stdout",
     "output_type": "stream",
     "text": [
      "86.44705214009849\n",
      "0.5685566647172172\n"
     ]
    }
   ],
   "source": [
    "pred_train = regressor.predict(X_train)\n",
    "print(rmse_scores.mean())\n",
    "print(r2_score(y_train, pred_train))"
   ]
  },
  {
   "cell_type": "code",
   "execution_count": 101,
   "metadata": {},
   "outputs": [
    {
     "name": "stdout",
     "output_type": "stream",
     "text": [
      "79.63597311670388\n",
      "0.5470531366579381\n"
     ]
    }
   ],
   "source": [
    "pred_test= regressor.predict(X_test)\n",
    "print(np.sqrt(mean_squared_error(y_test,pred_test))) \n",
    "print(r2_score(y_test, pred_test))"
   ]
  },
  {
   "cell_type": "code",
   "execution_count": 102,
   "metadata": {},
   "outputs": [],
   "source": [
    "# Saving model to disk\n",
    "pickle.dump(regressor, open('model.pkl','wb'))"
   ]
  },
  {
   "cell_type": "code",
   "execution_count": null,
   "metadata": {},
   "outputs": [],
   "source": []
  }
 ],
 "metadata": {
  "kernelspec": {
   "display_name": "Python 3",
   "language": "python",
   "name": "python3"
  },
  "language_info": {
   "codemirror_mode": {
    "name": "ipython",
    "version": 3
   },
   "file_extension": ".py",
   "mimetype": "text/x-python",
   "name": "python",
   "nbconvert_exporter": "python",
   "pygments_lexer": "ipython3",
   "version": "3.7.3"
  }
 },
 "nbformat": 4,
 "nbformat_minor": 2
}
