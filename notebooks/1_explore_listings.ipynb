{
 "cells": [
  {
   "cell_type": "markdown",
   "metadata": {},
   "source": [
    "# Columns Selections\n",
    "This is using NY data. Looks like inside aribnb data is same format so it can be used for other cities. This notebook is dealing with keeping/removing columns to use for the model.\n"
   ]
  },
  {
   "cell_type": "code",
   "execution_count": 1,
   "metadata": {},
   "outputs": [],
   "source": [
    "import os\n",
    "import io\n",
    "import re\n",
    "import numpy as np\n",
    "import pandas as pd\n",
    "import matplotlib\n",
    "import matplotlib.pyplot as plt\n",
    "import seaborn as sns\n",
    "\n",
    "import warnings\n",
    "warnings.filterwarnings('ignore')"
   ]
  },
  {
   "cell_type": "code",
   "execution_count": 2,
   "metadata": {},
   "outputs": [],
   "source": [
    "#read data, specify index so it's easier to join and search using loc\n",
    "path = '../../data/new-york-city-airbnb-open-data/'\n",
    "listings_csv = os.path.join(path,'listings.csv')\n",
    "\n",
    "listings = pd.read_csv(listings_csv, index_col = 'id')"
   ]
  },
  {
   "cell_type": "code",
   "execution_count": 11,
   "metadata": {},
   "outputs": [
    {
     "output_type": "execute_result",
     "data": {
      "text/plain": "                            listing_url       scrape_id last_scraped  \\\nid                                                                     \n2060  https://www.airbnb.com/rooms/2060  20200313233810   2020-03-14   \n2595  https://www.airbnb.com/rooms/2595  20200313233810   2020-03-14   \n3831  https://www.airbnb.com/rooms/3831  20200313233810   2020-03-14   \n5099  https://www.airbnb.com/rooms/5099  20200313233810   2020-03-14   \n5114  https://www.airbnb.com/rooms/5114  20200313233810   2020-03-14   \n\n                                           name  \\\nid                                                \n2060                                 Modern NYC   \n2595                      Skylit Midtown Castle   \n3831            Cozy Entire Floor of Brownstone   \n5099  Large Cozy 1 BR Apartment In Midtown East   \n5114                  Super Room in Great area.   \n\n                                                summary  \\\nid                                                        \n2060                                                NaN   \n2595  Beautiful, spacious skylit studio in the heart...   \n3831  Urban retreat: enjoy 500 s.f. floor in 1899 br...   \n5099  My large 1 bedroom apartment has a true New Yo...   \n5114                                                NaN   \n\n                                                  space  \\\nid                                                        \n2060  Lovely, spacious, sunny 1 BR apartment in 6th ...   \n2595  - Spacious (500+ft²), immaculate and nicely fu...   \n3831  Greetings!      We own a double-duplex brownst...   \n5099  I have a large 1 bedroom apartment centrally l...   \n5114  First, the area is PERFECT if you want to visi...   \n\n                                            description experiences_offered  \\\nid                                                                            \n2060  Lovely, spacious, sunny 1 BR apartment in 6th ...                none   \n2595  Beautiful, spacious skylit studio in the heart...                none   \n3831  Urban retreat: enjoy 500 s.f. floor in 1899 br...                none   \n5099  My large 1 bedroom apartment has a true New Yo...                none   \n5114  First, the area is PERFECT if you want to visi...                none   \n\n                                  neighborhood_overview  \\\nid                                                        \n2060                                                NaN   \n2595  Centrally located in the heart of Manhattan ju...   \n3831  Just the right mix of urban center and local n...   \n5099  My neighborhood in Midtown East is called Murr...   \n5114                                                NaN   \n\n                                                  notes  ... instant_bookable  \\\nid                                                       ...                    \n2060                                                NaN  ...                f   \n2595                                                NaN  ...                f   \n3831                                                NaN  ...                f   \n5099  Read My Full Listing For All Information. New ...  ...                f   \n5114                                                NaN  ...                f   \n\n     is_business_travel_ready          cancellation_policy  \\\nid                                                           \n2060                        f                     flexible   \n2595                        f  strict_14_with_grace_period   \n3831                        f                     moderate   \n5099                        f                     moderate   \n5114                        f  strict_14_with_grace_period   \n\n     require_guest_profile_picture  require_guest_phone_verification  \\\nid                                                                     \n2060                             f                                 f   \n2595                             t                                 t   \n3831                             f                                 f   \n5099                             t                                 t   \n5114                             f                                 f   \n\n      calculated_host_listings_count  \\\nid                                     \n2060                               1   \n2595                               2   \n3831                               1   \n5099                               1   \n5114                               3   \n\n     calculated_host_listings_count_entire_homes  \\\nid                                                 \n2060                                           0   \n2595                                           2   \n3831                                           1   \n5099                                           1   \n5114                                           1   \n\n      calculated_host_listings_count_private_rooms  \\\nid                                                   \n2060                                             1   \n2595                                             0   \n3831                                             0   \n5099                                             0   \n5114                                             2   \n\n      calculated_host_listings_count_shared_rooms reviews_per_month  \nid                                                                   \n2060                                            0              0.01  \n2595                                            0              0.38  \n3831                                            0              4.71  \n5099                                            0              0.59  \n5114                                            0              0.56  \n\n[5 rows x 105 columns]",
      "text/html": "<div>\n<style scoped>\n    .dataframe tbody tr th:only-of-type {\n        vertical-align: middle;\n    }\n\n    .dataframe tbody tr th {\n        vertical-align: top;\n    }\n\n    .dataframe thead th {\n        text-align: right;\n    }\n</style>\n<table border=\"1\" class=\"dataframe\">\n  <thead>\n    <tr style=\"text-align: right;\">\n      <th></th>\n      <th>listing_url</th>\n      <th>scrape_id</th>\n      <th>last_scraped</th>\n      <th>name</th>\n      <th>summary</th>\n      <th>space</th>\n      <th>description</th>\n      <th>experiences_offered</th>\n      <th>neighborhood_overview</th>\n      <th>notes</th>\n      <th>...</th>\n      <th>instant_bookable</th>\n      <th>is_business_travel_ready</th>\n      <th>cancellation_policy</th>\n      <th>require_guest_profile_picture</th>\n      <th>require_guest_phone_verification</th>\n      <th>calculated_host_listings_count</th>\n      <th>calculated_host_listings_count_entire_homes</th>\n      <th>calculated_host_listings_count_private_rooms</th>\n      <th>calculated_host_listings_count_shared_rooms</th>\n      <th>reviews_per_month</th>\n    </tr>\n    <tr>\n      <th>id</th>\n      <th></th>\n      <th></th>\n      <th></th>\n      <th></th>\n      <th></th>\n      <th></th>\n      <th></th>\n      <th></th>\n      <th></th>\n      <th></th>\n      <th></th>\n      <th></th>\n      <th></th>\n      <th></th>\n      <th></th>\n      <th></th>\n      <th></th>\n      <th></th>\n      <th></th>\n      <th></th>\n      <th></th>\n    </tr>\n  </thead>\n  <tbody>\n    <tr>\n      <th>2060</th>\n      <td>https://www.airbnb.com/rooms/2060</td>\n      <td>20200313233810</td>\n      <td>2020-03-14</td>\n      <td>Modern NYC</td>\n      <td>NaN</td>\n      <td>Lovely, spacious, sunny 1 BR apartment in 6th ...</td>\n      <td>Lovely, spacious, sunny 1 BR apartment in 6th ...</td>\n      <td>none</td>\n      <td>NaN</td>\n      <td>NaN</td>\n      <td>...</td>\n      <td>f</td>\n      <td>f</td>\n      <td>flexible</td>\n      <td>f</td>\n      <td>f</td>\n      <td>1</td>\n      <td>0</td>\n      <td>1</td>\n      <td>0</td>\n      <td>0.01</td>\n    </tr>\n    <tr>\n      <th>2595</th>\n      <td>https://www.airbnb.com/rooms/2595</td>\n      <td>20200313233810</td>\n      <td>2020-03-14</td>\n      <td>Skylit Midtown Castle</td>\n      <td>Beautiful, spacious skylit studio in the heart...</td>\n      <td>- Spacious (500+ft²), immaculate and nicely fu...</td>\n      <td>Beautiful, spacious skylit studio in the heart...</td>\n      <td>none</td>\n      <td>Centrally located in the heart of Manhattan ju...</td>\n      <td>NaN</td>\n      <td>...</td>\n      <td>f</td>\n      <td>f</td>\n      <td>strict_14_with_grace_period</td>\n      <td>t</td>\n      <td>t</td>\n      <td>2</td>\n      <td>2</td>\n      <td>0</td>\n      <td>0</td>\n      <td>0.38</td>\n    </tr>\n    <tr>\n      <th>3831</th>\n      <td>https://www.airbnb.com/rooms/3831</td>\n      <td>20200313233810</td>\n      <td>2020-03-14</td>\n      <td>Cozy Entire Floor of Brownstone</td>\n      <td>Urban retreat: enjoy 500 s.f. floor in 1899 br...</td>\n      <td>Greetings!      We own a double-duplex brownst...</td>\n      <td>Urban retreat: enjoy 500 s.f. floor in 1899 br...</td>\n      <td>none</td>\n      <td>Just the right mix of urban center and local n...</td>\n      <td>NaN</td>\n      <td>...</td>\n      <td>f</td>\n      <td>f</td>\n      <td>moderate</td>\n      <td>f</td>\n      <td>f</td>\n      <td>1</td>\n      <td>1</td>\n      <td>0</td>\n      <td>0</td>\n      <td>4.71</td>\n    </tr>\n    <tr>\n      <th>5099</th>\n      <td>https://www.airbnb.com/rooms/5099</td>\n      <td>20200313233810</td>\n      <td>2020-03-14</td>\n      <td>Large Cozy 1 BR Apartment In Midtown East</td>\n      <td>My large 1 bedroom apartment has a true New Yo...</td>\n      <td>I have a large 1 bedroom apartment centrally l...</td>\n      <td>My large 1 bedroom apartment has a true New Yo...</td>\n      <td>none</td>\n      <td>My neighborhood in Midtown East is called Murr...</td>\n      <td>Read My Full Listing For All Information. New ...</td>\n      <td>...</td>\n      <td>f</td>\n      <td>f</td>\n      <td>moderate</td>\n      <td>t</td>\n      <td>t</td>\n      <td>1</td>\n      <td>1</td>\n      <td>0</td>\n      <td>0</td>\n      <td>0.59</td>\n    </tr>\n    <tr>\n      <th>5114</th>\n      <td>https://www.airbnb.com/rooms/5114</td>\n      <td>20200313233810</td>\n      <td>2020-03-14</td>\n      <td>Super Room in Great area.</td>\n      <td>NaN</td>\n      <td>First, the area is PERFECT if you want to visi...</td>\n      <td>First, the area is PERFECT if you want to visi...</td>\n      <td>none</td>\n      <td>NaN</td>\n      <td>NaN</td>\n      <td>...</td>\n      <td>f</td>\n      <td>f</td>\n      <td>strict_14_with_grace_period</td>\n      <td>f</td>\n      <td>f</td>\n      <td>3</td>\n      <td>1</td>\n      <td>2</td>\n      <td>0</td>\n      <td>0.56</td>\n    </tr>\n  </tbody>\n</table>\n<p>5 rows × 105 columns</p>\n</div>"
     },
     "metadata": {},
     "execution_count": 11
    }
   ],
   "source": [
    "listings.head()"
   ]
  },
  {
   "cell_type": "code",
   "execution_count": 12,
   "metadata": {},
   "outputs": [
    {
     "output_type": "execute_result",
     "data": {
      "text/plain": "(50796, 105)"
     },
     "metadata": {},
     "execution_count": 12
    }
   ],
   "source": [
    "#shape\n",
    "listings.shape"
   ]
  },
  {
   "cell_type": "code",
   "execution_count": 13,
   "metadata": {},
   "outputs": [],
   "source": [
    "#to get all columns, set option\n",
    "pd.set_option('display.max_columns', 107)\n",
    "#to get text with no truncation\n",
    "pd.set_option('display.max_colwidth', -1)"
   ]
  },
  {
   "cell_type": "markdown",
   "metadata": {},
   "source": [
    "# First group of columns to remove\n",
    "Columns with less than 50% populated"
   ]
  },
  {
   "cell_type": "code",
   "execution_count": 14,
   "metadata": {},
   "outputs": [],
   "source": [
    "#Create a funciton to check if columns have lots of null (50% or more)\n",
    "def less_than_50_percent(colname):\n",
    "    isnull_count = listings[colname].isna().sum()\n",
    "    if isnull_count/total_row > .5:\n",
    "        return True\n"
   ]
  },
  {
   "cell_type": "code",
   "execution_count": 15,
   "metadata": {},
   "outputs": [
    {
     "output_type": "stream",
     "name": "stdout",
     "text": "['notes', 'thumbnail_url', 'medium_url', 'xl_picture_url', 'square_feet', 'weekly_price', 'monthly_price', 'license', 'jurisdiction_names']\n"
    }
   ],
   "source": [
    "columns = list(listings)\n",
    "remove_columns_0 = []\n",
    "for column in columns:\n",
    "    remove_column_y_n = less_than_50_percent(column)\n",
    "    if remove_column_y_n:\n",
    "        remove_columns_0.append(column)\n",
    "\n",
    "print(remove_columns_0)"
   ]
  },
  {
   "cell_type": "code",
   "execution_count": 16,
   "metadata": {},
   "outputs": [
    {
     "output_type": "execute_result",
     "data": {
      "text/plain": "(50796, 96)"
     },
     "metadata": {},
     "execution_count": 16
    }
   ],
   "source": [
    "listings.drop(remove_columns_0, inplace=True, axis=1)\n",
    "#chek if columns are removed\n",
    "listings.shape"
   ]
  },
  {
   "cell_type": "markdown",
   "metadata": {},
   "source": [
    "# Second group of columns to remove\n",
    "All values are the same"
   ]
  },
  {
   "cell_type": "code",
   "execution_count": 17,
   "metadata": {},
   "outputs": [],
   "source": [
    "#check if all records have same value\n",
    "def all_same_value(colname):\n",
    "    count_unique = len(listings[colname].unique())\n",
    "    if count_unique == 1:\n",
    "        return True"
   ]
  },
  {
   "cell_type": "code",
   "execution_count": 18,
   "metadata": {},
   "outputs": [
    {
     "output_type": "stream",
     "name": "stdout",
     "text": "['scrape_id', 'experiences_offered', 'country_code', 'country', 'has_availability', 'requires_license', 'is_business_travel_ready']\n"
    }
   ],
   "source": [
    "columns = list(listings)\n",
    "remove_columns_1 = []\n",
    "for column in columns:\n",
    "    remove_column_y_n = all_same_value(column)\n",
    "    if remove_column_y_n:\n",
    "        remove_columns_1.append(column)\n",
    "\n",
    "print(remove_columns_1)"
   ]
  },
  {
   "cell_type": "code",
   "execution_count": 19,
   "metadata": {},
   "outputs": [
    {
     "output_type": "execute_result",
     "data": {
      "text/plain": "(50796, 89)"
     },
     "metadata": {},
     "execution_count": 19
    }
   ],
   "source": [
    "listings.drop(remove_columns_1, inplace=True, axis=1)\n",
    "#chek if columns are removed\n",
    "listings.shape"
   ]
  },
  {
   "cell_type": "markdown",
   "metadata": {},
   "source": [
    "# Third group of columns to remove\n",
    "All text columns, check by lenght of max characters, excluding amenites column"
   ]
  },
  {
   "cell_type": "code",
   "execution_count": 20,
   "metadata": {},
   "outputs": [],
   "source": [
    "#get max length\n",
    "def getmaxlength(colname):\n",
    "    listings['length'] = listings[colname].str.len()\n",
    "    sorted = listings['length'].sort_values(ascending = False)\n",
    "    maxlength = sorted.head(1).values[0]\n",
    "    listings.drop('length', inplace=True, axis=1)\n",
    "    return maxlength"
   ]
  },
  {
   "cell_type": "code",
   "execution_count": 21,
   "metadata": {},
   "outputs": [
    {
     "output_type": "stream",
     "name": "stdout",
     "text": "['summary', 'space', 'description', 'neighborhood_overview', 'transit', 'access', 'interaction', 'house_rules', 'host_about']\n"
    }
   ],
   "source": [
    "#run this for all object type columns and exlcuding amenities column\n",
    "#if it's more than 300, then remove them\n",
    "columns = list(listings)\n",
    "remove_columns_2 = []\n",
    "for column in columns:\n",
    "    if listings[column].dtypes == object and column != 'amenities':\n",
    "        remove_column_y_n = getmaxlength(column)\n",
    "        if remove_column_y_n > 300:\n",
    "            remove_columns_2.append(column)\n",
    "\n",
    "print(remove_columns_2)"
   ]
  },
  {
   "cell_type": "code",
   "execution_count": 22,
   "metadata": {},
   "outputs": [
    {
     "output_type": "execute_result",
     "data": {
      "text/plain": "(50796, 80)"
     },
     "metadata": {},
     "execution_count": 22
    }
   ],
   "source": [
    "listings.drop(remove_columns_2, inplace=True, axis=1)\n",
    "#chek if columns are removed\n",
    "listings.shape"
   ]
  },
  {
   "cell_type": "markdown",
   "metadata": {},
   "source": [
    "# Fourth group of columns to remove\n",
    "Columns that only have two distinc values and one value counts for 95%"
   ]
  },
  {
   "cell_type": "code",
   "execution_count": 23,
   "metadata": {},
   "outputs": [],
   "source": [
    "#get ratio for colmuns with only two values\n",
    "def countratio(colname):\n",
    "    temp_list = listings.groupby(colname)[colname].count().tolist()\n",
    "    if len(temp_list) == 2:\n",
    "        row_count = listings.shape[0]\n",
    "        lowest_count = min(temp_list)\n",
    "        ratio = lowest_count/row_count\n",
    "        return ratio"
   ]
  },
  {
   "cell_type": "code",
   "execution_count": 24,
   "metadata": {},
   "outputs": [
    {
     "output_type": "stream",
     "name": "stdout",
     "text": "['last_scraped', 'host_has_profile_pic', 'calendar_last_scraped', 'require_guest_profile_picture', 'require_guest_phone_verification']\n"
    }
   ],
   "source": [
    "#run this for all columns\n",
    "#if it's less than 5%, then remove them\n",
    "columns = list(listings)\n",
    "remove_columns_3 = []\n",
    "for column in columns:\n",
    "    remove_column_y_n = countratio(column)\n",
    "    try:\n",
    "        if remove_column_y_n < .05:\n",
    "            remove_columns_3.append(column)\n",
    "    except: ''\n",
    "\n",
    "print(remove_columns_3)"
   ]
  },
  {
   "cell_type": "code",
   "execution_count": 25,
   "metadata": {},
   "outputs": [
    {
     "output_type": "execute_result",
     "data": {
      "text/plain": "(50796, 75)"
     },
     "metadata": {},
     "execution_count": 25
    }
   ],
   "source": [
    "listings.drop(remove_columns_3, inplace=True, axis=1)\n",
    "#chek if columns are removed\n",
    "listings.shape"
   ]
  },
  {
   "cell_type": "markdown",
   "metadata": {},
   "source": [
    "# Fifth group of columns to remove\n",
    "This is dealing with pictures and thumbail columns"
   ]
  },
  {
   "cell_type": "code",
   "execution_count": 26,
   "metadata": {},
   "outputs": [
    {
     "output_type": "execute_result",
     "data": {
      "text/plain": "['picture_url', 'host_picture_url', 'host_thumbnail_url']"
     },
     "metadata": {},
     "execution_count": 26
    }
   ],
   "source": [
    "#create list of picutres and thumbnail columns\n",
    "remove_columns_4 = []\n",
    "for col in listings.filter(like='picture').columns:\n",
    "    remove_columns_4.append(col)\n",
    "\n",
    "for col in listings.filter(like='thumbnail').columns:\n",
    "    remove_columns_4.append(col)\n",
    "\n",
    "remove_columns_4"
   ]
  },
  {
   "cell_type": "code",
   "execution_count": 27,
   "metadata": {},
   "outputs": [
    {
     "output_type": "execute_result",
     "data": {
      "text/plain": "(50796, 72)"
     },
     "metadata": {},
     "execution_count": 27
    }
   ],
   "source": [
    "listings.drop(remove_columns_4, inplace=True, axis=1)\n",
    "#chek if columns are removed\n",
    "listings.shape"
   ]
  },
  {
   "cell_type": "markdown",
   "metadata": {},
   "source": [
    "# Export data to another csv\n",
    "Filename is selected_columns_listings.csv. To be used by next program"
   ]
  },
  {
   "cell_type": "code",
   "execution_count": 28,
   "metadata": {},
   "outputs": [],
   "source": [
    "#export columns left to csv to be used with second notebook\n",
    "path = '../../data/new-york-city-airbnb-open-data/'\n",
    "\n",
    "listings_csv = os.path.join(path,'selected_columns_listings.csv')\n",
    "listings.to_csv(listings_csv)\n"
   ]
  },
  {
   "cell_type": "code",
   "execution_count": null,
   "metadata": {},
   "outputs": [],
   "source": []
  }
 ],
 "metadata": {
  "kernelspec": {
   "display_name": "Python 3",
   "language": "python",
   "name": "python3"
  },
  "language_info": {
   "codemirror_mode": {
    "name": "ipython",
    "version": 3
   },
   "file_extension": ".py",
   "mimetype": "text/x-python",
   "name": "python",
   "nbconvert_exporter": "python",
   "pygments_lexer": "ipython3",
   "version": "3.7.3-final"
  }
 },
 "nbformat": 4,
 "nbformat_minor": 2
}