{
 "cells": [
  {
   "cell_type": "markdown",
   "metadata": {},
   "source": [
    "# Pipeline is the boss"
   ]
  },
  {
   "cell_type": "code",
   "execution_count": 43,
   "metadata": {},
   "outputs": [],
   "source": [
    "# Create a pipeline that standardizes the data then creates a model\n",
    "import os\n",
    "from datetime import datetime\n",
    "import numpy as np\n",
    "import pandas as pd\n",
    "\n",
    "from sklearn.model_selection import train_test_split\n",
    "from sklearn.pipeline import Pipeline\n",
    "from sklearn.impute import SimpleImputer\n",
    "from sklearn.preprocessing import StandardScaler, RobustScaler, OneHotEncoder\n",
    "from sklearn.compose import ColumnTransformer\n",
    "from sklearn.linear_model import Lasso\n",
    "from sklearn.ensemble import GradientBoostingRegressor\n"
   ]
  },
  {
   "cell_type": "markdown",
   "metadata": {},
   "source": [
    "# Import CSV"
   ]
  },
  {
   "cell_type": "code",
   "execution_count": 44,
   "metadata": {},
   "outputs": [],
   "source": [
    "#read data, create listings dataframe\n",
    "path = '../../../data/new-york-city-airbnb-open-data/'\n",
    "listings_csv = os.path.join(path,'selected_columns_listings.csv')\n",
    "listings = pd.read_csv(listings_csv, index_col = 'id')"
   ]
  },
  {
   "cell_type": "markdown",
   "metadata": {},
   "source": [
    "# Convert Data Type"
   ]
  },
  {
   "cell_type": "code",
   "execution_count": 45,
   "metadata": {},
   "outputs": [],
   "source": [
    "#all dollars fields\n",
    "#function\n",
    "def fix_currency(row):\n",
    "    row = row.replace(',', '')\n",
    "    row = row.replace('$', '')\n",
    "    return row\n",
    "\n",
    "colname = 'extra_people'\n",
    "filt = listings[colname].notna()\n",
    "listings[colname] = listings[colname][filt].apply(lambda col: fix_currency(col)).astype(float)\n",
    "\n",
    "colname = 'cleaning_fee'\n",
    "filt = listings[colname].notna()\n",
    "listings[colname] = listings[colname][filt].apply(lambda col: fix_currency(col)).astype(float)\n",
    "\n",
    "colname = 'security_deposit'\n",
    "filt = listings[colname].notna()\n",
    "listings[colname] = listings[colname][filt].apply(lambda col: fix_currency(col)).astype(float)\n",
    "\n",
    "colname = 'price'\n",
    "filt = listings[colname].notna()\n",
    "listings[colname] = listings[colname][filt].apply(lambda col: fix_currency(col)).astype(float)\n"
   ]
  },
  {
   "cell_type": "code",
   "execution_count": 46,
   "metadata": {},
   "outputs": [],
   "source": [
    "def convert_bool(row):\n",
    "    row = row.replace('f', '0')\n",
    "    row = row.replace('t', '1')\n",
    "    return row\n",
    "\n",
    "# #update rows and convert to boolean, only non null values\n",
    "Boolean_columns = ['host_is_superhost', 'is_location_exact', 'instant_bookable', 'host_identity_verified']\n",
    "\n",
    "for column in Boolean_columns:\n",
    "    filt = listings[column].notna()\n",
    "    listings[column] = listings[column][filt].apply(lambda col: convert_bool(col)).astype(int)\n"
   ]
  },
  {
   "cell_type": "code",
   "execution_count": 47,
   "metadata": {},
   "outputs": [],
   "source": [
    "#conver to date first then number, only do for non null\n",
    "listings['host_since'] = pd.to_datetime(listings['host_since'])\n",
    "\n",
    "filt = listings['host_since'].notna()\n",
    "listings['host_since'] = listings['host_since'][filt].apply(lambda x: x.toordinal())\n"
   ]
  },
  {
   "cell_type": "markdown",
   "metadata": {},
   "source": [
    "# Feature Engineering"
   ]
  },
  {
   "cell_type": "code",
   "execution_count": 48,
   "metadata": {},
   "outputs": [
    {
     "output_type": "stream",
     "name": "stdout",
     "text": "price\ncleaning_fee_yes_no            \n0                    202.574334\n1                    153.643631\n"
    }
   ],
   "source": [
    "#turn cleaning fee to yes and no column\n",
    "def cleaning_fee_yes_no (row):\n",
    "    if row['cleaning_fee'] > 0.00:\n",
    "        return '1'\n",
    "    else:\n",
    "        return '0'\n",
    "\n",
    "listings['cleaning_fee_yes_no'] = listings.apply(cleaning_fee_yes_no, axis=1)\n",
    "\n",
    "print(listings.groupby('cleaning_fee_yes_no').agg({'price':'mean'}))\n"
   ]
  },
  {
   "cell_type": "code",
   "execution_count": 49,
   "metadata": {},
   "outputs": [
    {
     "output_type": "stream",
     "name": "stdout",
     "text": "price\nsecurity_deposit_yes_no            \n0                        162.646346\n1                        171.818497\n"
    }
   ],
   "source": [
    "#turn security deposit to yes and no column\n",
    "def security_deposit_yes_no (row):\n",
    "    if row['security_deposit'] > 0.00:\n",
    "        return '1'\n",
    "    else:\n",
    "        return '0'\n",
    "\n",
    "listings['security_deposit_yes_no'] = listings.apply(security_deposit_yes_no, axis=1)\n",
    "\n",
    "print(listings.groupby('security_deposit_yes_no').agg({'price':'mean'}))"
   ]
  },
  {
   "cell_type": "code",
   "execution_count": 50,
   "metadata": {},
   "outputs": [
    {
     "output_type": "stream",
     "name": "stdout",
     "text": "price\nextra_people_yes_no            \n0                    183.485233\n1                    146.856568\n"
    }
   ],
   "source": [
    "#turn extra people fee to yes and no\n",
    "def extra_people_yes_no (row):\n",
    "    if row['extra_people'] > 0.00:\n",
    "        return '1'\n",
    "    else:\n",
    "        return '0'\n",
    "\n",
    "listings['extra_people_yes_no'] = listings.apply(extra_people_yes_no, axis=1)\n",
    "\n",
    "print(listings.groupby('extra_people_yes_no').agg({'price':'mean'}))"
   ]
  },
  {
   "cell_type": "code",
   "execution_count": 51,
   "metadata": {},
   "outputs": [
    {
     "output_type": "stream",
     "name": "stdout",
     "text": "id\n21980723    71\n4471513     66\n41552433    65\n37499093    63\n37494649    62\nName: amenities_count, dtype: int64\n"
    }
   ],
   "source": [
    "#amenities_count\n",
    "\n",
    "listings['amenities_count'] = listings['amenities'].str.count(',')\n",
    "print (listings['amenities_count'].sort_values(ascending=False).head())\n",
    "\n",
    "# drop original column\n",
    "listings.drop(columns='amenities', inplace = True)"
   ]
  },
  {
   "cell_type": "code",
   "execution_count": 52,
   "metadata": {},
   "outputs": [
    {
     "output_type": "stream",
     "name": "stdout",
     "text": "host_response_rate_calc\n0.0    28313\n1.0    22483\nName: host_response_rate_calc, dtype: int64\n"
    }
   ],
   "source": [
    "# host_response_rate\n",
    "\n",
    "def convert_string_to_int(row):\n",
    "    if row == '100%':\n",
    "        row = '1'\n",
    "    else: row = '0'\n",
    "    return row\n",
    "\n",
    "listings['host_response_rate_calc'] = listings['host_response_rate'].apply(lambda col: convert_string_to_int(col)).astype(float)\n",
    "\n",
    "# drop original column\n",
    "listings.drop(columns='host_response_rate', inplace = True)\n",
    "\n",
    "#check result\n",
    "print(listings.groupby('host_response_rate_calc')['host_response_rate_calc'].size())"
   ]
  },
  {
   "cell_type": "code",
   "execution_count": 53,
   "metadata": {},
   "outputs": [
    {
     "output_type": "stream",
     "name": "stdout",
     "text": "host_acceptance_rate_calc\n0.0    39286\n1.0    11510\nName: host_acceptance_rate_calc, dtype: int64\n"
    }
   ],
   "source": [
    "#host_acceptance_rate\n",
    "#needs to use function that conver 100% to 1 and the rest to 0 (from previous cell)\n",
    "\n",
    "listings['host_acceptance_rate_calc'] = listings['host_acceptance_rate'].apply(lambda col: convert_string_to_int(col)).astype(float)\n",
    "\n",
    "# drop original column\n",
    "listings.drop(columns='host_acceptance_rate', inplace = True)\n",
    "\n",
    "#check result\n",
    "print(listings.groupby('host_acceptance_rate_calc')['host_acceptance_rate_calc'].size())"
   ]
  },
  {
   "cell_type": "code",
   "execution_count": 67,
   "metadata": {},
   "outputs": [
    {
     "output_type": "stream",
     "name": "stdout",
     "text": "host_response_time_one_hour\n0.0    30351\n1.0    20445\nName: host_response_time_one_hour, dtype: int64\n"
    }
   ],
   "source": [
    "# host_response_time\n",
    "\n",
    "def convert_string_to_int(row):\n",
    "    if row == 'within an hour':\n",
    "        row = '1'\n",
    "    else: row = '0'\n",
    "    return row\n",
    "\n",
    "listings['host_response_time_one_hour'] = listings['host_response_time'].apply(lambda col: convert_string_to_int(col)).astype(float)\n",
    "\n",
    "# drop original column\n",
    "listings.drop(columns='host_response_time', inplace = True)\n",
    "\n",
    "#check result\n",
    "print(listings.groupby('host_response_time_one_hour')['host_response_time_one_hour'].size())"
   ]
  },
  {
   "cell_type": "code",
   "execution_count": 54,
   "metadata": {},
   "outputs": [
    {
     "output_type": "stream",
     "name": "stdout",
     "text": "apt_yes_no\n0.0    11159\n1.0    39637\nName: apt_yes_no, dtype: int64\n"
    }
   ],
   "source": [
    "#property_type, after modeling, loft seems to affect price. But looking at the data loft price is between 28 and 900 dollars.\n",
    "# I am going to split propety type into two, apt or non\n",
    "#listings.groupby('property_type').agg({'property_type': 'size', 'price':'max'}).sort_values(by='price',ascending=False)\n",
    "\n",
    "def convert_string_to_int(row):\n",
    "    if row == 'Apartment':\n",
    "        row = '1'\n",
    "    else: row = '0'\n",
    "    return row\n",
    "\n",
    "listings['apt_yes_no'] = listings['property_type'].apply(lambda col: convert_string_to_int(col)).astype(float)\n",
    "\n",
    "# drop original column\n",
    "listings.drop(columns='property_type', inplace = True)\n",
    "\n",
    "#check result\n",
    "print(listings.groupby('apt_yes_no')['apt_yes_no'].size())\n"
   ]
  },
  {
   "cell_type": "code",
   "execution_count": 55,
   "metadata": {},
   "outputs": [
    {
     "output_type": "stream",
     "name": "stdout",
     "text": "real_bed_yes_no\n0.0      713\n1.0    50083\nName: real_bed_yes_no, dtype: int64\n"
    }
   ],
   "source": [
    "#bed_type --- may not be needed, let's see\n",
    "\n",
    "def convert_string_to_int(row):\n",
    "    if row == 'Real Bed':\n",
    "        row = '1'\n",
    "    else: row = '0'\n",
    "    return row\n",
    "\n",
    "listings['real_bed_yes_no'] = listings['bed_type'].apply(lambda col: convert_string_to_int(col)).astype(float)\n",
    "\n",
    "# drop original column\n",
    "listings.drop(columns='bed_type', inplace = True)\n",
    "\n",
    "#check result\n",
    "print(listings.groupby('real_bed_yes_no')['real_bed_yes_no'].size())"
   ]
  },
  {
   "cell_type": "code",
   "execution_count": 56,
   "metadata": {},
   "outputs": [
    {
     "output_type": "stream",
     "name": "stdout",
     "text": "cancellation_policy_calc\nflexible    15461\nmoderate    11871\nstrict      23464\nName: cancellation_policy_calc, dtype: int64\n"
    }
   ],
   "source": [
    "#cancellation_policy -- let's do 3 classes (flexible, moderate, and strict)\n",
    "\n",
    "def convert_string_to_int(row):\n",
    "    row = row.replace('strict_14_with_grace_period', 'strict')\n",
    "    row = row.replace('super_strict_30', 'strict')\n",
    "    row = row.replace('super_strict_60', 'strict')\n",
    "    return row\n",
    "\n",
    "#new column\n",
    "listings['cancellation_policy_calc'] = listings['cancellation_policy'].apply(lambda col: convert_string_to_int(col))\n",
    "\n",
    "# drop original column\n",
    "listings.drop(columns='cancellation_policy', inplace = True)\n",
    "\n",
    "#check result\n",
    "print(listings.groupby('cancellation_policy_calc')['cancellation_policy_calc'].size())"
   ]
  },
  {
   "cell_type": "code",
   "execution_count": 57,
   "metadata": {},
   "outputs": [
    {
     "output_type": "stream",
     "name": "stdout",
     "text": "multiple_listings\n0.0     4706\n1.0    46090\nName: multiple_listings, dtype: int64\n"
    }
   ],
   "source": [
    "#host_listings_count\n",
    "\n",
    "def convert_string_to_int(row):\n",
    "    if row < 1:\n",
    "        row = 0\n",
    "    else: row = 1\n",
    "    return row\n",
    "\n",
    "listings['multiple_listings'] = listings['host_listings_count'].apply(lambda col: convert_string_to_int(col)).astype(float)\n",
    "\n",
    "# drop original column\n",
    "listings.drop(columns='host_listings_count', inplace = True)\n",
    "\n",
    "#check result\n",
    "print(listings.groupby('multiple_listings')['multiple_listings'].size())\n"
   ]
  },
  {
   "cell_type": "markdown",
   "metadata": {},
   "source": [
    "# Transformer\n",
    "Optimus Prime"
   ]
  },
  {
   "cell_type": "code",
   "execution_count": 70,
   "metadata": {},
   "outputs": [],
   "source": [
    "numeric_features = ['bathrooms', 'bedrooms', 'beds', 'number_of_reviews', 'number_of_reviews_ltm', 'review_scores_rating', 'review_scores_accuracy', 'review_scores_cleanliness', 'review_scores_checkin', 'review_scores_communication', 'review_scores_location', 'review_scores_value', 'reviews_per_month', 'amenities_count', 'host_response_time_one_hour', 'host_response_rate_calc','host_acceptance_rate_calc','apt_yes_no','real_bed_yes_no','multiple_listings', 'host_is_superhost', 'is_location_exact', 'instant_bookable', 'host_identity_verified', 'host_since', 'accommodates', 'guests_included', 'cleaning_fee_yes_no','security_deposit_yes_no','extra_people_yes_no']\n",
    "\n",
    "\n",
    "\n",
    "numeric_transformer = Pipeline(steps=[\n",
    "    ('imputer', SimpleImputer(strategy='constant', fill_value='0')), # strategy='median' \n",
    "    ('scaler', RobustScaler())])\n",
    "\n",
    "categorical_features = ['neighbourhood_group_cleansed', 'room_type', 'cancellation_policy_calc']\n",
    "categorical_transformer = Pipeline(steps=[\n",
    "    ('imputer', SimpleImputer(strategy='constant', fill_value='missing')),\n",
    "    ('onehot', OneHotEncoder(handle_unknown='ignore'))])\n",
    "\n",
    "preprocessor = ColumnTransformer(\n",
    "    transformers=[\n",
    "        ('num', numeric_transformer, numeric_features),\n",
    "        ('cat', categorical_transformer, categorical_features)\n",
    "        ])\n"
   ]
  },
  {
   "cell_type": "markdown",
   "metadata": {},
   "source": [
    "# Test Train Split\n"
   ]
  },
  {
   "cell_type": "code",
   "execution_count": 71,
   "metadata": {},
   "outputs": [],
   "source": [
    "feature_list = numeric_features + categorical_features\n",
    "features = listings[feature_list]\n",
    "\n",
    "target = listings['price']\n",
    "\n",
    "X_train, X_test, y_train, y_test = train_test_split(features, target, test_size=0.2, random_state=0)"
   ]
  },
  {
   "cell_type": "markdown",
   "metadata": {},
   "source": [
    "# Model"
   ]
  },
  {
   "cell_type": "code",
   "execution_count": 72,
   "metadata": {},
   "outputs": [],
   "source": [
    "pl_Lasso = Pipeline(steps=[('preprocessor', preprocessor),\n",
    "                    ('regressor', Lasso(alpha=0.5))\n",
    "                    ])\n",
    "\n",
    "pl_Gboost = Pipeline(steps=[('preprocessor', preprocessor),\n",
    "                    ('regressor', GradientBoostingRegressor(random_state=0))\n",
    "                    ])\n"
   ]
  },
  {
   "cell_type": "code",
   "execution_count": 79,
   "metadata": {},
   "outputs": [
    {
     "output_type": "stream",
     "name": "stdout",
     "text": "0.08224451082007711\n165.79585112066226\n0.06949921367727208\n"
    }
   ],
   "source": [
    "pl_Lasso.fit(X_train, y_train)\n",
    "print(pl_Lasso.score(X_train, y_train))\n",
    "print(pl_Lasso.predict(X_test).mean().mean())\n",
    "print(pl_Lasso.score(X_test, y_test))\n"
   ]
  },
  {
   "cell_type": "code",
   "execution_count": 77,
   "metadata": {},
   "outputs": [
    {
     "output_type": "stream",
     "name": "stdout",
     "text": "Pipeline(memory=None,\n         steps=[('preprocessor',\n                 ColumnTransformer(n_jobs=None, remainder='drop',\n                                   sparse_threshold=0.3,\n                                   transformer_weights=None,\n                                   transformers=[('num',\n                                                  Pipeline(memory=None,\n                                                           steps=[('imputer',\n                                                                   SimpleImputer(add_indicator=False,\n                                                                                 copy=True,\n                                                                                 fill_value='0',\n                                                                                 missing_values=nan,\n                                                                                 strategy='constant',\n                                                                                 verbose=0)),\n                                                                  ('scaler',\n                                                                   RobustScaler(copy=True,\n                                                                                quantile_r...\n                                           init=None, learning_rate=0.1,\n                                           loss='ls', max_depth=3,\n                                           max_features=None,\n                                           max_leaf_nodes=None,\n                                           min_impurity_decrease=0.0,\n                                           min_impurity_split=None,\n                                           min_samples_leaf=1,\n                                           min_samples_split=2,\n                                           min_weight_fraction_leaf=0.0,\n                                           n_estimators=100,\n                                           n_iter_no_change=None,\n                                           presort='auto', random_state=0,\n                                           subsample=1.0, tol=0.0001,\n                                           validation_fraction=0.1, verbose=0,\n                                           warm_start=False))],\n         verbose=False)\n0.35313318871376054\n"
    }
   ],
   "source": [
    "pl_Gboost.fit(X_train, y_train)\n",
    "print(pl_Gboost.fit(X_train, y_train))\n",
    "print(pl_Gboost.predict(X_test).mean().mean())\n",
    "print(pl_Gboost.score(X_train, y_train))\n"
   ]
  },
  {
   "cell_type": "code",
   "execution_count": null,
   "metadata": {},
   "outputs": [],
   "source": []
  }
 ],
 "metadata": {
  "kernelspec": {
   "display_name": "Python 3",
   "language": "python",
   "name": "python3"
  },
  "language_info": {
   "codemirror_mode": {
    "name": "ipython",
    "version": 3
   },
   "file_extension": ".py",
   "mimetype": "text/x-python",
   "name": "python",
   "nbconvert_exporter": "python",
   "pygments_lexer": "ipython3",
   "version": "3.7.3-final"
  }
 },
 "nbformat": 4,
 "nbformat_minor": 2
}