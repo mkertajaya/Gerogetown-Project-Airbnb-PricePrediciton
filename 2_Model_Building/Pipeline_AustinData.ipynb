{
 "cells": [
  {
   "cell_type": "markdown",
   "metadata": {},
   "source": [
    "# Pipeline is the boss"
   ]
  },
  {
   "cell_type": "code",
   "execution_count": 29,
   "metadata": {},
   "outputs": [],
   "source": [
    "# Create a pipeline that standardizes the data then creates a model\n",
    "import os\n",
    "from datetime import datetime\n",
    "import numpy as np\n",
    "import pandas as pd\n",
    "\n",
    "from sklearn.model_selection import train_test_split\n",
    "from sklearn.pipeline import Pipeline\n",
    "from sklearn.impute import SimpleImputer\n",
    "from sklearn.preprocessing import StandardScaler, RobustScaler, OneHotEncoder\n",
    "from sklearn.compose import ColumnTransformer\n",
    "from sklearn.linear_model import Lasso\n",
    "from sklearn.ensemble import GradientBoostingRegressor\n",
    "from sklearn.ensemble import RandomForestRegressor\n",
    "import eli5"
   ]
  },
  {
   "cell_type": "markdown",
   "metadata": {},
   "source": [
    "# Import CSV"
   ]
  },
  {
   "cell_type": "code",
   "execution_count": 30,
   "metadata": {},
   "outputs": [
    {
     "name": "stderr",
     "output_type": "stream",
     "text": [
      "//anaconda3/lib/python3.7/site-packages/IPython/core/interactiveshell.py:3057: DtypeWarning: Columns (43,61,62) have mixed types. Specify dtype option on import or set low_memory=False.\n",
      "  interactivity=interactivity, compiler=compiler, result=result)\n"
     ]
    }
   ],
   "source": [
    "#read data, create listings dataframe\n",
    "path = '../data/austin-airbnb/'\n",
    "listings_csv = os.path.join(path,'listings.csv')\n",
    "#print(listings_csv)\n",
    "listings = pd.read_csv(listings_csv, index_col = 'id')"
   ]
  },
  {
   "cell_type": "markdown",
   "metadata": {},
   "source": [
    "# Convert Data Type"
   ]
  },
  {
   "cell_type": "code",
   "execution_count": 31,
   "metadata": {},
   "outputs": [],
   "source": [
    "#all dollars fields\n",
    "#function\n",
    "def fix_currency(row):\n",
    "    row = row.replace(',', '')\n",
    "    row = row.replace('$', '')\n",
    "    return row\n",
    "\n",
    "# #update rows and convert to boolean, only non null values\n",
    "Currency_columns = ['extra_people', 'cleaning_fee', 'security_deposit', 'price']\n",
    "\n",
    "for column in Currency_columns:\n",
    "    filt = listings[column].notna()\n",
    "    listings[column] = listings[column][filt].apply(lambda col: fix_currency(col)).astype(float)\n",
    "\n"
   ]
  },
  {
   "cell_type": "code",
   "execution_count": 32,
   "metadata": {},
   "outputs": [],
   "source": [
    "def convert_bool(row):\n",
    "    row = row.replace('f', '0')\n",
    "    row = row.replace('t', '1')\n",
    "    return row\n",
    "\n",
    "# #update rows and convert to boolean, only non null values\n",
    "Boolean_columns = ['host_is_superhost', 'is_location_exact', 'instant_bookable', 'host_identity_verified']\n",
    "\n",
    "for column in Boolean_columns:\n",
    "    filt = listings[column].notna()\n",
    "    listings[column] = listings[column][filt].apply(lambda col: convert_bool(col)).astype(int)\n"
   ]
  },
  {
   "cell_type": "code",
   "execution_count": 33,
   "metadata": {},
   "outputs": [],
   "source": [
    "#conver to date first then number, only do for non null\n",
    "listings['host_since'] = pd.to_datetime(listings['host_since'])\n",
    "\n",
    "filt = listings['host_since'].notna()\n",
    "listings['host_since'] = listings['host_since'][filt].apply(lambda x: x.toordinal())\n"
   ]
  },
  {
   "cell_type": "markdown",
   "metadata": {},
   "source": [
    "# Filter Rows\n",
    "Based on previous analyisis: \n",
    " 1. Records with reviews within one year\n",
    " 2. Rmove all hotels property type\n",
    " 3. Limit price range (0-$800)"
   ]
  },
  {
   "cell_type": "code",
   "execution_count": 34,
   "metadata": {},
   "outputs": [],
   "source": [
    "#count how many records got reviews last 1 year\n",
    "scraped_date = datetime.strptime('2020-03-14',\"%Y-%m-%d\")\n",
    "listings['last_review_days_ago'] = (scraped_date - pd.to_datetime(listings['last_review'])).dt.days\n",
    "filt = listings['last_review_days_ago'] <= 365\n",
    "listings['property_type'][filt].count()\n",
    "listings = listings[filt]"
   ]
  },
  {
   "cell_type": "code",
   "execution_count": 35,
   "metadata": {},
   "outputs": [],
   "source": [
    "#dropping records with certain property type, mostly hotels\n",
    "filt = (~listings['property_type'].isin (['Aparthotel','Bed and breakfast','Boutique hotel',' Hostel', 'Hotel', 'Resort', 'Serviced apartment']))\n",
    "\n",
    "listings = listings[filt]"
   ]
  },
  {
   "cell_type": "code",
   "execution_count": 36,
   "metadata": {},
   "outputs": [],
   "source": [
    "#limit price\n",
    "filt = (listings['price'] > 0) & (listings['price'] < 500)\n",
    "listings = listings[filt]\n"
   ]
  },
  {
   "cell_type": "code",
   "execution_count": 37,
   "metadata": {},
   "outputs": [
    {
     "data": {
      "text/plain": [
       "(6094, 106)"
      ]
     },
     "execution_count": 37,
     "metadata": {},
     "output_type": "execute_result"
    }
   ],
   "source": [
    "listings.shape"
   ]
  },
  {
   "cell_type": "markdown",
   "metadata": {},
   "source": [
    "# Feature Engineering"
   ]
  },
  {
   "cell_type": "code",
   "execution_count": 38,
   "metadata": {},
   "outputs": [
    {
     "name": "stdout",
     "output_type": "stream",
     "text": [
      "                          price\n",
      "cleaning_fee_yes_no            \n",
      "0                    110.985135\n",
      "1                    147.105902\n"
     ]
    }
   ],
   "source": [
    "#turn cleaning fee to yes and no column\n",
    "def cleaning_fee_yes_no (row):\n",
    "    if row['cleaning_fee'] > 0.00:\n",
    "        return '1'\n",
    "    else:\n",
    "        return '0'\n",
    "\n",
    "listings['cleaning_fee_yes_no'] = listings.apply(cleaning_fee_yes_no, axis=1)\n",
    "\n",
    "print(listings.groupby('cleaning_fee_yes_no').agg({'price':'mean'}))"
   ]
  },
  {
   "cell_type": "code",
   "execution_count": 39,
   "metadata": {},
   "outputs": [
    {
     "name": "stdout",
     "output_type": "stream",
     "text": [
      "                              price\n",
      "security_deposit_yes_no            \n",
      "0                        127.146404\n",
      "1                        158.854995\n"
     ]
    }
   ],
   "source": [
    "#turn security deposit to yes and no column\n",
    "def security_deposit_yes_no (row):\n",
    "    if row['security_deposit'] > 0.00:\n",
    "        return '1'\n",
    "    else:\n",
    "        return '0'\n",
    "\n",
    "listings['security_deposit_yes_no'] = listings.apply(security_deposit_yes_no, axis=1)\n",
    "\n",
    "print(listings.groupby('security_deposit_yes_no').agg({'price':'mean'}))"
   ]
  },
  {
   "cell_type": "code",
   "execution_count": 40,
   "metadata": {},
   "outputs": [
    {
     "name": "stdout",
     "output_type": "stream",
     "text": [
      "                          price\n",
      "extra_people_yes_no            \n",
      "0                    143.938462\n",
      "1                    141.545747\n"
     ]
    }
   ],
   "source": [
    "#turn extra people fee to yes and no\n",
    "def extra_people_yes_no (row):\n",
    "    if row['extra_people'] > 0.00:\n",
    "        return '1'\n",
    "    else:\n",
    "        return '0'\n",
    "\n",
    "listings['extra_people_yes_no'] = listings.apply(extra_people_yes_no, axis=1)\n",
    "\n",
    "print(listings.groupby('extra_people_yes_no').agg({'price':'mean'}))"
   ]
  },
  {
   "cell_type": "code",
   "execution_count": 41,
   "metadata": {},
   "outputs": [
    {
     "name": "stdout",
     "output_type": "stream",
     "text": [
      "id\n",
      "5372834     97\n",
      "19011922    89\n",
      "17458846    84\n",
      "14993882    83\n",
      "19328783    83\n",
      "Name: amenities_count, dtype: int64\n"
     ]
    }
   ],
   "source": [
    "#amenities_count\n",
    "\n",
    "listings['amenities_count'] = listings['amenities'].str.count(',')\n",
    "print (listings['amenities_count'].sort_values(ascending=False).head())\n",
    "\n",
    "# drop original column\n",
    "listings.drop(columns='amenities', inplace = True)"
   ]
  },
  {
   "cell_type": "code",
   "execution_count": 42,
   "metadata": {},
   "outputs": [
    {
     "name": "stdout",
     "output_type": "stream",
     "text": [
      "host_response_rate_calc\n",
      "0.0    1607\n",
      "1.0    4487\n",
      "Name: host_response_rate_calc, dtype: int64\n"
     ]
    }
   ],
   "source": [
    "# host_response_rate\n",
    "\n",
    "def convert_string_to_int(row):\n",
    "    if row == '100%':\n",
    "        row = '1'\n",
    "    else: row = '0'\n",
    "    return row\n",
    "\n",
    "listings['host_response_rate_calc'] = listings['host_response_rate'].apply(lambda col: convert_string_to_int(col)).astype(float)\n",
    "\n",
    "# drop original column\n",
    "listings.drop(columns='host_response_rate', inplace = True)\n",
    "\n",
    "#check result\n",
    "print(listings.groupby('host_response_rate_calc')['host_response_rate_calc'].size())"
   ]
  },
  {
   "cell_type": "code",
   "execution_count": 43,
   "metadata": {},
   "outputs": [
    {
     "name": "stdout",
     "output_type": "stream",
     "text": [
      "host_acceptance_rate_calc\n",
      "0.0    3502\n",
      "1.0    2592\n",
      "Name: host_acceptance_rate_calc, dtype: int64\n"
     ]
    }
   ],
   "source": [
    "#host_acceptance_rate\n",
    "#needs to use function that conver 100% to 1 and the rest to 0 (from previous cell)\n",
    "\n",
    "listings['host_acceptance_rate_calc'] = listings['host_acceptance_rate'].apply(lambda col: convert_string_to_int(col)).astype(float)\n",
    "\n",
    "# drop original column\n",
    "listings.drop(columns='host_acceptance_rate', inplace = True)\n",
    "\n",
    "#check result\n",
    "print(listings.groupby('host_acceptance_rate_calc')['host_acceptance_rate_calc'].size())"
   ]
  },
  {
   "cell_type": "code",
   "execution_count": 44,
   "metadata": {},
   "outputs": [
    {
     "name": "stdout",
     "output_type": "stream",
     "text": [
      "host_response_time_one_hour\n",
      "0.0    1621\n",
      "1.0    4473\n",
      "Name: host_response_time_one_hour, dtype: int64\n"
     ]
    }
   ],
   "source": [
    "# host_response_time\n",
    "\n",
    "def convert_string_to_int(row):\n",
    "    if row == 'within an hour':\n",
    "        row = '1'\n",
    "    else: row = '0'\n",
    "    return row\n",
    "\n",
    "listings['host_response_time_one_hour'] = listings['host_response_time'].apply(lambda col: convert_string_to_int(col)).astype(float)\n",
    "\n",
    "# drop original column\n",
    "listings.drop(columns='host_response_time', inplace = True)\n",
    "\n",
    "#check result\n",
    "print(listings.groupby('host_response_time_one_hour')['host_response_time_one_hour'].size())"
   ]
  },
  {
   "cell_type": "code",
   "execution_count": 45,
   "metadata": {},
   "outputs": [
    {
     "name": "stdout",
     "output_type": "stream",
     "text": [
      "apt_yes_no\n",
      "0.0    4826\n",
      "1.0    1268\n",
      "Name: apt_yes_no, dtype: int64\n"
     ]
    }
   ],
   "source": [
    "#property_type, after modeling, loft seems to affect price. But looking at the data loft price is between 28 and 900 dollars.\n",
    "# I am going to split propety type into two, apt or non\n",
    "#listings.groupby('property_type').agg({'property_type': 'size', 'price':'max'}).sort_values(by='price',ascending=False)\n",
    "\n",
    "def convert_string_to_int(row):\n",
    "    if row == 'Apartment':\n",
    "        row = '1'\n",
    "    else: row = '0'\n",
    "    return row\n",
    "\n",
    "listings['apt_yes_no'] = listings['property_type'].apply(lambda col: convert_string_to_int(col)).astype(float)\n",
    "\n",
    "# drop original column\n",
    "listings.drop(columns='property_type', inplace = True)\n",
    "\n",
    "#check result\n",
    "print(listings.groupby('apt_yes_no')['apt_yes_no'].size())\n"
   ]
  },
  {
   "cell_type": "code",
   "execution_count": 46,
   "metadata": {},
   "outputs": [
    {
     "name": "stdout",
     "output_type": "stream",
     "text": [
      "real_bed_yes_no\n",
      "0.0      42\n",
      "1.0    6052\n",
      "Name: real_bed_yes_no, dtype: int64\n"
     ]
    }
   ],
   "source": [
    "#bed_type --- may not be needed, let's see\n",
    "\n",
    "def convert_string_to_int(row):\n",
    "    if row == 'Real Bed':\n",
    "        row = '1'\n",
    "    else: row = '0'\n",
    "    return row\n",
    "\n",
    "listings['real_bed_yes_no'] = listings['bed_type'].apply(lambda col: convert_string_to_int(col)).astype(float)\n",
    "\n",
    "# drop original column\n",
    "listings.drop(columns='bed_type', inplace = True)\n",
    "\n",
    "#check result\n",
    "print(listings.groupby('real_bed_yes_no')['real_bed_yes_no'].size())"
   ]
  },
  {
   "cell_type": "code",
   "execution_count": 47,
   "metadata": {},
   "outputs": [
    {
     "name": "stdout",
     "output_type": "stream",
     "text": [
      "cancellation_policy_calc\n",
      "flexible    1277\n",
      "moderate    2035\n",
      "strict      2782\n",
      "Name: cancellation_policy_calc, dtype: int64\n"
     ]
    }
   ],
   "source": [
    "#cancellation_policy -- let's do 3 classes (flexible, moderate, and strict)\n",
    "\n",
    "def convert_string_to_int(row):\n",
    "    row = row.replace('strict_14_with_grace_period', 'strict')\n",
    "    row = row.replace('super_strict_30', 'strict')\n",
    "    row = row.replace('super_strict_60', 'strict')\n",
    "    return row\n",
    "\n",
    "#new column\n",
    "listings['cancellation_policy_calc'] = listings['cancellation_policy'].apply(lambda col: convert_string_to_int(col))\n",
    "\n",
    "# drop original column\n",
    "listings.drop(columns='cancellation_policy', inplace = True)\n",
    "\n",
    "#check result\n",
    "print(listings.groupby('cancellation_policy_calc')['cancellation_policy_calc'].size())"
   ]
  },
  {
   "cell_type": "code",
   "execution_count": 48,
   "metadata": {},
   "outputs": [
    {
     "name": "stdout",
     "output_type": "stream",
     "text": [
      "multiple_listings\n",
      "0.0     503\n",
      "1.0    5591\n",
      "Name: multiple_listings, dtype: int64\n"
     ]
    }
   ],
   "source": [
    "#host_listings_count\n",
    "\n",
    "def convert_string_to_int(row):\n",
    "    if row < 1:\n",
    "        row = 0\n",
    "    else: row = 1\n",
    "    return row\n",
    "\n",
    "listings['multiple_listings'] = listings['host_listings_count'].apply(lambda col: convert_string_to_int(col)).astype(float)\n",
    "\n",
    "# drop original column\n",
    "listings.drop(columns='host_listings_count', inplace = True)\n",
    "\n",
    "#check result\n",
    "print(listings.groupby('multiple_listings')['multiple_listings'].size())\n"
   ]
  },
  {
   "cell_type": "markdown",
   "metadata": {},
   "source": [
    "# Transformer\n",
    "Optimus Prime"
   ]
  },
  {
   "cell_type": "code",
   "execution_count": 49,
   "metadata": {},
   "outputs": [],
   "source": [
    "numeric_features = ['bathrooms', 'bedrooms', 'beds', 'review_scores_accuracy', 'review_scores_cleanliness', 'review_scores_checkin', 'review_scores_communication', 'review_scores_location', 'review_scores_value', 'reviews_per_month', 'amenities_count', 'host_response_time_one_hour', 'host_response_rate_calc','host_acceptance_rate_calc','apt_yes_no','real_bed_yes_no','multiple_listings', 'host_is_superhost', 'is_location_exact', 'instant_bookable', 'host_identity_verified', 'host_since', 'accommodates', 'guests_included', 'cleaning_fee_yes_no','security_deposit_yes_no','extra_people_yes_no']\n",
    "\n",
    "numeric_transformer = Pipeline(steps=[\n",
    "    ('imputer', SimpleImputer(strategy='constant', fill_value=0)), # strategy='median' \n",
    "    ('scaler', StandardScaler())\n",
    "    ])\n",
    "\n",
    "categorical_features = ['neighbourhood_group_cleansed', 'room_type', 'cancellation_policy_calc']\n",
    "categorical_transformer = Pipeline(steps=[\n",
    "    ('imputer', SimpleImputer(strategy='constant', fill_value='missing')),\n",
    "    ('onehot', OneHotEncoder(handle_unknown='ignore'))])\n",
    "\n",
    "preprocessor = ColumnTransformer(\n",
    "    transformers=[\n",
    "        ('num', numeric_transformer, numeric_features),\n",
    "        ('cat', categorical_transformer, categorical_features)\n",
    "        ])\n"
   ]
  },
  {
   "cell_type": "markdown",
   "metadata": {},
   "source": [
    "# Test Train Split\n"
   ]
  },
  {
   "cell_type": "code",
   "execution_count": 50,
   "metadata": {},
   "outputs": [],
   "source": [
    "feature_list = numeric_features + categorical_features\n",
    "features = listings[feature_list]\n",
    "\n",
    "target = listings['price']\n",
    "\n",
    "X_train, X_test, y_train, y_test = train_test_split(features, target, test_size=0.2, random_state=0)"
   ]
  },
  {
   "cell_type": "markdown",
   "metadata": {},
   "source": [
    "# Running Model(s)"
   ]
  },
  {
   "cell_type": "code",
   "execution_count": 51,
   "metadata": {},
   "outputs": [],
   "source": [
    "pl_Lasso = Pipeline(steps=[('preprocessor', preprocessor),\n",
    "                    ('regressor', Lasso(alpha=0.5))\n",
    "                    ])\n",
    "\n",
    "pl_Gboost = Pipeline(steps=[('preprocessor', preprocessor),\n",
    "                    ('regressor', GradientBoostingRegressor(random_state=0))\n",
    "                    ])\n",
    "\n",
    "pl_RandomForest = Pipeline(steps=[('preprocessor', preprocessor),\n",
    "                    ('regressor', RandomForestRegressor(n_estimators=100, random_state=None, min_samples_split=100))\n",
    "                    ])\n"
   ]
  },
  {
   "cell_type": "code",
   "execution_count": 52,
   "metadata": {},
   "outputs": [
    {
     "data": {
      "text/plain": [
       "Pipeline(memory=None,\n",
       "         steps=[('preprocessor',\n",
       "                 ColumnTransformer(n_jobs=None, remainder='drop',\n",
       "                                   sparse_threshold=0.3,\n",
       "                                   transformer_weights=None,\n",
       "                                   transformers=[('num',\n",
       "                                                  Pipeline(memory=None,\n",
       "                                                           steps=[('imputer',\n",
       "                                                                   SimpleImputer(add_indicator=False,\n",
       "                                                                                 copy=True,\n",
       "                                                                                 fill_value=0,\n",
       "                                                                                 missing_values=nan,\n",
       "                                                                                 strategy='constant',\n",
       "                                                                                 verbose=0)),\n",
       "                                                                  ('scaler',\n",
       "                                                                   StandardScaler(copy=True,\n",
       "                                                                                  with_mean=...\n",
       "                                                                                 handle_unknown='ignore',\n",
       "                                                                                 n_values=None,\n",
       "                                                                                 sparse=True))],\n",
       "                                                           verbose=False),\n",
       "                                                  ['neighbourhood_group_cleansed',\n",
       "                                                   'room_type',\n",
       "                                                   'cancellation_policy_calc'])],\n",
       "                                   verbose=False)),\n",
       "                ('regressor',\n",
       "                 Lasso(alpha=0.5, copy_X=True, fit_intercept=True,\n",
       "                       max_iter=1000, normalize=False, positive=False,\n",
       "                       precompute=False, random_state=None, selection='cyclic',\n",
       "                       tol=0.0001, warm_start=False))],\n",
       "         verbose=False)"
      ]
     },
     "execution_count": 52,
     "metadata": {},
     "output_type": "execute_result"
    }
   ],
   "source": [
    "pl_Lasso.fit(X_train, y_train)\n"
   ]
  },
  {
   "cell_type": "code",
   "execution_count": 53,
   "metadata": {},
   "outputs": [
    {
     "name": "stdout",
     "output_type": "stream",
     "text": [
      "0.500825663317175\n",
      "140.42044869765198\n",
      "0.5001275473827145\n"
     ]
    }
   ],
   "source": [
    "print(pl_Lasso.score(X_train, y_train))\n",
    "print(pl_Lasso.predict(X_test).mean().mean())\n",
    "print(pl_Lasso.score(X_test, y_test))\n"
   ]
  },
  {
   "cell_type": "code",
   "execution_count": 54,
   "metadata": {},
   "outputs": [
    {
     "data": {
      "text/plain": [
       "Pipeline(memory=None,\n",
       "         steps=[('preprocessor',\n",
       "                 ColumnTransformer(n_jobs=None, remainder='drop',\n",
       "                                   sparse_threshold=0.3,\n",
       "                                   transformer_weights=None,\n",
       "                                   transformers=[('num',\n",
       "                                                  Pipeline(memory=None,\n",
       "                                                           steps=[('imputer',\n",
       "                                                                   SimpleImputer(add_indicator=False,\n",
       "                                                                                 copy=True,\n",
       "                                                                                 fill_value=0,\n",
       "                                                                                 missing_values=nan,\n",
       "                                                                                 strategy='constant',\n",
       "                                                                                 verbose=0)),\n",
       "                                                                  ('scaler',\n",
       "                                                                   StandardScaler(copy=True,\n",
       "                                                                                  with_mean=...\n",
       "                                           init=None, learning_rate=0.1,\n",
       "                                           loss='ls', max_depth=3,\n",
       "                                           max_features=None,\n",
       "                                           max_leaf_nodes=None,\n",
       "                                           min_impurity_decrease=0.0,\n",
       "                                           min_impurity_split=None,\n",
       "                                           min_samples_leaf=1,\n",
       "                                           min_samples_split=2,\n",
       "                                           min_weight_fraction_leaf=0.0,\n",
       "                                           n_estimators=100,\n",
       "                                           n_iter_no_change=None,\n",
       "                                           presort='auto', random_state=0,\n",
       "                                           subsample=1.0, tol=0.0001,\n",
       "                                           validation_fraction=0.1, verbose=0,\n",
       "                                           warm_start=False))],\n",
       "         verbose=False)"
      ]
     },
     "execution_count": 54,
     "metadata": {},
     "output_type": "execute_result"
    }
   ],
   "source": [
    "pl_Gboost.fit(X_train, y_train)"
   ]
  },
  {
   "cell_type": "code",
   "execution_count": 55,
   "metadata": {},
   "outputs": [
    {
     "name": "stdout",
     "output_type": "stream",
     "text": [
      "0.6053544132898787\n",
      "140.66206983856776\n",
      "0.5307324368985216\n"
     ]
    }
   ],
   "source": [
    "print(pl_Gboost.score(X_train, y_train))\n",
    "print(pl_Gboost.predict(X_test).mean().mean())\n",
    "print(pl_Gboost.score(X_test, y_test))\n"
   ]
  },
  {
   "cell_type": "code",
   "execution_count": 56,
   "metadata": {},
   "outputs": [
    {
     "data": {
      "text/html": [
       "\n",
       "    <style>\n",
       "    table.eli5-weights tr:hover {\n",
       "        filter: brightness(85%);\n",
       "    }\n",
       "</style>\n",
       "\n",
       "\n",
       "\n",
       "    \n",
       "\n",
       "    \n",
       "\n",
       "    \n",
       "\n",
       "    \n",
       "\n",
       "    \n",
       "\n",
       "    \n",
       "\n",
       "\n",
       "    \n",
       "\n",
       "    \n",
       "\n",
       "    \n",
       "\n",
       "    \n",
       "\n",
       "    \n",
       "\n",
       "    \n",
       "\n",
       "\n",
       "    \n",
       "\n",
       "    \n",
       "\n",
       "    \n",
       "\n",
       "    \n",
       "\n",
       "    \n",
       "        <table class=\"eli5-weights eli5-feature-importances\" style=\"border-collapse: collapse; border: none; margin-top: 0em; table-layout: auto;\">\n",
       "    <thead>\n",
       "    <tr style=\"border: none;\">\n",
       "        <th style=\"padding: 0 1em 0 0.5em; text-align: right; border: none;\">Weight</th>\n",
       "        <th style=\"padding: 0 0.5em 0 0.5em; text-align: left; border: none;\">Feature</th>\n",
       "    </tr>\n",
       "    </thead>\n",
       "    <tbody>\n",
       "    \n",
       "        <tr style=\"background-color: hsl(120, 100.00%, 80.00%); border: none;\">\n",
       "            <td style=\"padding: 0 1em 0 0.5em; text-align: right; border: none;\">\n",
       "                0.4016\n",
       "                \n",
       "                    &plusmn; 0.3541\n",
       "                \n",
       "            </td>\n",
       "            <td style=\"padding: 0 0.5em 0 0.5em; text-align: left; border: none;\">\n",
       "                bedrooms\n",
       "            </td>\n",
       "        </tr>\n",
       "    \n",
       "        <tr style=\"background-color: hsl(120, 100.00%, 90.40%); border: none;\">\n",
       "            <td style=\"padding: 0 1em 0 0.5em; text-align: right; border: none;\">\n",
       "                0.1407\n",
       "                \n",
       "                    &plusmn; 0.3161\n",
       "                \n",
       "            </td>\n",
       "            <td style=\"padding: 0 0.5em 0 0.5em; text-align: left; border: none;\">\n",
       "                bathrooms\n",
       "            </td>\n",
       "        </tr>\n",
       "    \n",
       "        <tr style=\"background-color: hsl(120, 100.00%, 90.69%); border: none;\">\n",
       "            <td style=\"padding: 0 1em 0 0.5em; text-align: right; border: none;\">\n",
       "                0.1346\n",
       "                \n",
       "                    &plusmn; 0.2789\n",
       "                \n",
       "            </td>\n",
       "            <td style=\"padding: 0 0.5em 0 0.5em; text-align: left; border: none;\">\n",
       "                accommodates\n",
       "            </td>\n",
       "        </tr>\n",
       "    \n",
       "        <tr style=\"background-color: hsl(120, 100.00%, 91.40%); border: none;\">\n",
       "            <td style=\"padding: 0 1em 0 0.5em; text-align: right; border: none;\">\n",
       "                0.1202\n",
       "                \n",
       "                    &plusmn; 0.1264\n",
       "                \n",
       "            </td>\n",
       "            <td style=\"padding: 0 0.5em 0 0.5em; text-align: left; border: none;\">\n",
       "                room_type_Entire home/apt\n",
       "            </td>\n",
       "        </tr>\n",
       "    \n",
       "        <tr style=\"background-color: hsl(120, 100.00%, 94.15%); border: none;\">\n",
       "            <td style=\"padding: 0 1em 0 0.5em; text-align: right; border: none;\">\n",
       "                0.0693\n",
       "                \n",
       "                    &plusmn; 0.2742\n",
       "                \n",
       "            </td>\n",
       "            <td style=\"padding: 0 0.5em 0 0.5em; text-align: left; border: none;\">\n",
       "                reviews_per_month\n",
       "            </td>\n",
       "        </tr>\n",
       "    \n",
       "        <tr style=\"background-color: hsl(120, 100.00%, 96.43%); border: none;\">\n",
       "            <td style=\"padding: 0 1em 0 0.5em; text-align: right; border: none;\">\n",
       "                0.0343\n",
       "                \n",
       "                    &plusmn; 0.4206\n",
       "                \n",
       "            </td>\n",
       "            <td style=\"padding: 0 0.5em 0 0.5em; text-align: left; border: none;\">\n",
       "                host_since\n",
       "            </td>\n",
       "        </tr>\n",
       "    \n",
       "        <tr style=\"background-color: hsl(120, 100.00%, 97.48%); border: none;\">\n",
       "            <td style=\"padding: 0 1em 0 0.5em; text-align: right; border: none;\">\n",
       "                0.0208\n",
       "                \n",
       "                    &plusmn; 0.1973\n",
       "                \n",
       "            </td>\n",
       "            <td style=\"padding: 0 0.5em 0 0.5em; text-align: left; border: none;\">\n",
       "                guests_included\n",
       "            </td>\n",
       "        </tr>\n",
       "    \n",
       "        <tr style=\"background-color: hsl(120, 100.00%, 97.67%); border: none;\">\n",
       "            <td style=\"padding: 0 1em 0 0.5em; text-align: right; border: none;\">\n",
       "                0.0186\n",
       "                \n",
       "                    &plusmn; 0.1987\n",
       "                \n",
       "            </td>\n",
       "            <td style=\"padding: 0 0.5em 0 0.5em; text-align: left; border: none;\">\n",
       "                beds\n",
       "            </td>\n",
       "        </tr>\n",
       "    \n",
       "        <tr style=\"background-color: hsl(120, 100.00%, 98.17%); border: none;\">\n",
       "            <td style=\"padding: 0 1em 0 0.5em; text-align: right; border: none;\">\n",
       "                0.0132\n",
       "                \n",
       "                    &plusmn; 0.3931\n",
       "                \n",
       "            </td>\n",
       "            <td style=\"padding: 0 0.5em 0 0.5em; text-align: left; border: none;\">\n",
       "                amenities_count\n",
       "            </td>\n",
       "        </tr>\n",
       "    \n",
       "        <tr style=\"background-color: hsl(120, 100.00%, 98.44%); border: none;\">\n",
       "            <td style=\"padding: 0 1em 0 0.5em; text-align: right; border: none;\">\n",
       "                0.0105\n",
       "                \n",
       "                    &plusmn; 0.1277\n",
       "                \n",
       "            </td>\n",
       "            <td style=\"padding: 0 0.5em 0 0.5em; text-align: left; border: none;\">\n",
       "                review_scores_location\n",
       "            </td>\n",
       "        </tr>\n",
       "    \n",
       "        <tr style=\"background-color: hsl(120, 100.00%, 98.89%); border: none;\">\n",
       "            <td style=\"padding: 0 1em 0 0.5em; text-align: right; border: none;\">\n",
       "                0.0064\n",
       "                \n",
       "                    &plusmn; 0.0957\n",
       "                \n",
       "            </td>\n",
       "            <td style=\"padding: 0 0.5em 0 0.5em; text-align: left; border: none;\">\n",
       "                host_response_rate_calc\n",
       "            </td>\n",
       "        </tr>\n",
       "    \n",
       "        <tr style=\"background-color: hsl(120, 100.00%, 98.96%); border: none;\">\n",
       "            <td style=\"padding: 0 1em 0 0.5em; text-align: right; border: none;\">\n",
       "                0.0059\n",
       "                \n",
       "                    &plusmn; 0.1004\n",
       "                \n",
       "            </td>\n",
       "            <td style=\"padding: 0 0.5em 0 0.5em; text-align: left; border: none;\">\n",
       "                review_scores_cleanliness\n",
       "            </td>\n",
       "        </tr>\n",
       "    \n",
       "        <tr style=\"background-color: hsl(120, 100.00%, 99.36%); border: none;\">\n",
       "            <td style=\"padding: 0 1em 0 0.5em; text-align: right; border: none;\">\n",
       "                0.0029\n",
       "                \n",
       "                    &plusmn; 0.0840\n",
       "                \n",
       "            </td>\n",
       "            <td style=\"padding: 0 0.5em 0 0.5em; text-align: left; border: none;\">\n",
       "                cancellation_policy_calc_strict\n",
       "            </td>\n",
       "        </tr>\n",
       "    \n",
       "        <tr style=\"background-color: hsl(120, 100.00%, 99.40%); border: none;\">\n",
       "            <td style=\"padding: 0 1em 0 0.5em; text-align: right; border: none;\">\n",
       "                0.0027\n",
       "                \n",
       "                    &plusmn; 0.1070\n",
       "                \n",
       "            </td>\n",
       "            <td style=\"padding: 0 0.5em 0 0.5em; text-align: left; border: none;\">\n",
       "                review_scores_accuracy\n",
       "            </td>\n",
       "        </tr>\n",
       "    \n",
       "        <tr style=\"background-color: hsl(120, 100.00%, 99.47%); border: none;\">\n",
       "            <td style=\"padding: 0 1em 0 0.5em; text-align: right; border: none;\">\n",
       "                0.0022\n",
       "                \n",
       "                    &plusmn; 0.0798\n",
       "                \n",
       "            </td>\n",
       "            <td style=\"padding: 0 0.5em 0 0.5em; text-align: left; border: none;\">\n",
       "                cancellation_policy_calc_flexible\n",
       "            </td>\n",
       "        </tr>\n",
       "    \n",
       "        <tr style=\"background-color: hsl(120, 100.00%, 99.51%); border: none;\">\n",
       "            <td style=\"padding: 0 1em 0 0.5em; text-align: right; border: none;\">\n",
       "                0.0020\n",
       "                \n",
       "                    &plusmn; 0.1241\n",
       "                \n",
       "            </td>\n",
       "            <td style=\"padding: 0 0.5em 0 0.5em; text-align: left; border: none;\">\n",
       "                review_scores_value\n",
       "            </td>\n",
       "        </tr>\n",
       "    \n",
       "        <tr style=\"background-color: hsl(120, 100.00%, 99.57%); border: none;\">\n",
       "            <td style=\"padding: 0 1em 0 0.5em; text-align: right; border: none;\">\n",
       "                0.0017\n",
       "                \n",
       "                    &plusmn; 0.0489\n",
       "                \n",
       "            </td>\n",
       "            <td style=\"padding: 0 0.5em 0 0.5em; text-align: left; border: none;\">\n",
       "                security_deposit_yes_no\n",
       "            </td>\n",
       "        </tr>\n",
       "    \n",
       "        <tr style=\"background-color: hsl(120, 100.00%, 99.57%); border: none;\">\n",
       "            <td style=\"padding: 0 1em 0 0.5em; text-align: right; border: none;\">\n",
       "                0.0016\n",
       "                \n",
       "                    &plusmn; 0.0776\n",
       "                \n",
       "            </td>\n",
       "            <td style=\"padding: 0 0.5em 0 0.5em; text-align: left; border: none;\">\n",
       "                instant_bookable\n",
       "            </td>\n",
       "        </tr>\n",
       "    \n",
       "        <tr style=\"background-color: hsl(120, 100.00%, 99.58%); border: none;\">\n",
       "            <td style=\"padding: 0 1em 0 0.5em; text-align: right; border: none;\">\n",
       "                0.0016\n",
       "                \n",
       "                    &plusmn; 0.0894\n",
       "                \n",
       "            </td>\n",
       "            <td style=\"padding: 0 0.5em 0 0.5em; text-align: left; border: none;\">\n",
       "                review_scores_communication\n",
       "            </td>\n",
       "        </tr>\n",
       "    \n",
       "        <tr style=\"background-color: hsl(120, 100.00%, 99.60%); border: none;\">\n",
       "            <td style=\"padding: 0 1em 0 0.5em; text-align: right; border: none;\">\n",
       "                0.0015\n",
       "                \n",
       "                    &plusmn; 0.0617\n",
       "                \n",
       "            </td>\n",
       "            <td style=\"padding: 0 0.5em 0 0.5em; text-align: left; border: none;\">\n",
       "                real_bed_yes_no\n",
       "            </td>\n",
       "        </tr>\n",
       "    \n",
       "        <tr style=\"background-color: hsl(120, 100.00%, 99.64%); border: none;\">\n",
       "            <td style=\"padding: 0 1em 0 0.5em; text-align: right; border: none;\">\n",
       "                0.0013\n",
       "                \n",
       "                    &plusmn; 0.0647\n",
       "                \n",
       "            </td>\n",
       "            <td style=\"padding: 0 0.5em 0 0.5em; text-align: left; border: none;\">\n",
       "                extra_people_yes_no\n",
       "            </td>\n",
       "        </tr>\n",
       "    \n",
       "        <tr style=\"background-color: hsl(120, 100.00%, 99.73%); border: none;\">\n",
       "            <td style=\"padding: 0 1em 0 0.5em; text-align: right; border: none;\">\n",
       "                0.0009\n",
       "                \n",
       "                    &plusmn; 0.1139\n",
       "                \n",
       "            </td>\n",
       "            <td style=\"padding: 0 0.5em 0 0.5em; text-align: left; border: none;\">\n",
       "                host_is_superhost\n",
       "            </td>\n",
       "        </tr>\n",
       "    \n",
       "        <tr style=\"background-color: hsl(120, 100.00%, 99.73%); border: none;\">\n",
       "            <td style=\"padding: 0 1em 0 0.5em; text-align: right; border: none;\">\n",
       "                0.0009\n",
       "                \n",
       "                    &plusmn; 0.0494\n",
       "                \n",
       "            </td>\n",
       "            <td style=\"padding: 0 0.5em 0 0.5em; text-align: left; border: none;\">\n",
       "                host_identity_verified\n",
       "            </td>\n",
       "        </tr>\n",
       "    \n",
       "        <tr style=\"background-color: hsl(120, 100.00%, 99.73%); border: none;\">\n",
       "            <td style=\"padding: 0 1em 0 0.5em; text-align: right; border: none;\">\n",
       "                0.0009\n",
       "                \n",
       "                    &plusmn; 0.0374\n",
       "                \n",
       "            </td>\n",
       "            <td style=\"padding: 0 0.5em 0 0.5em; text-align: left; border: none;\">\n",
       "                multiple_listings\n",
       "            </td>\n",
       "        </tr>\n",
       "    \n",
       "        <tr style=\"background-color: hsl(120, 100.00%, 99.77%); border: none;\">\n",
       "            <td style=\"padding: 0 1em 0 0.5em; text-align: right; border: none;\">\n",
       "                0.0007\n",
       "                \n",
       "                    &plusmn; 0.0444\n",
       "                \n",
       "            </td>\n",
       "            <td style=\"padding: 0 0.5em 0 0.5em; text-align: left; border: none;\">\n",
       "                is_location_exact\n",
       "            </td>\n",
       "        </tr>\n",
       "    \n",
       "        <tr style=\"background-color: hsl(120, 100.00%, 99.78%); border: none;\">\n",
       "            <td style=\"padding: 0 1em 0 0.5em; text-align: right; border: none;\">\n",
       "                0.0006\n",
       "                \n",
       "                    &plusmn; 0.0570\n",
       "                \n",
       "            </td>\n",
       "            <td style=\"padding: 0 0.5em 0 0.5em; text-align: left; border: none;\">\n",
       "                host_response_time_one_hour\n",
       "            </td>\n",
       "        </tr>\n",
       "    \n",
       "        <tr style=\"background-color: hsl(120, 100.00%, 99.78%); border: none;\">\n",
       "            <td style=\"padding: 0 1em 0 0.5em; text-align: right; border: none;\">\n",
       "                0.0006\n",
       "                \n",
       "                    &plusmn; 0.0817\n",
       "                \n",
       "            </td>\n",
       "            <td style=\"padding: 0 0.5em 0 0.5em; text-align: left; border: none;\">\n",
       "                room_type_Shared room\n",
       "            </td>\n",
       "        </tr>\n",
       "    \n",
       "        <tr style=\"background-color: hsl(120, 100.00%, 99.81%); border: none;\">\n",
       "            <td style=\"padding: 0 1em 0 0.5em; text-align: right; border: none;\">\n",
       "                0.0005\n",
       "                \n",
       "                    &plusmn; 0.0415\n",
       "                \n",
       "            </td>\n",
       "            <td style=\"padding: 0 0.5em 0 0.5em; text-align: left; border: none;\">\n",
       "                host_acceptance_rate_calc\n",
       "            </td>\n",
       "        </tr>\n",
       "    \n",
       "        <tr style=\"background-color: hsl(120, 100.00%, 99.84%); border: none;\">\n",
       "            <td style=\"padding: 0 1em 0 0.5em; text-align: right; border: none;\">\n",
       "                0.0004\n",
       "                \n",
       "                    &plusmn; 0.0391\n",
       "                \n",
       "            </td>\n",
       "            <td style=\"padding: 0 0.5em 0 0.5em; text-align: left; border: none;\">\n",
       "                cancellation_policy_calc_moderate\n",
       "            </td>\n",
       "        </tr>\n",
       "    \n",
       "        <tr style=\"background-color: hsl(120, 100.00%, 99.85%); border: none;\">\n",
       "            <td style=\"padding: 0 1em 0 0.5em; text-align: right; border: none;\">\n",
       "                0.0004\n",
       "                \n",
       "                    &plusmn; 0.0224\n",
       "                \n",
       "            </td>\n",
       "            <td style=\"padding: 0 0.5em 0 0.5em; text-align: left; border: none;\">\n",
       "                room_type_Private room\n",
       "            </td>\n",
       "        </tr>\n",
       "    \n",
       "        <tr style=\"background-color: hsl(120, 100.00%, 99.94%); border: none;\">\n",
       "            <td style=\"padding: 0 1em 0 0.5em; text-align: right; border: none;\">\n",
       "                0.0001\n",
       "                \n",
       "                    &plusmn; 0.0142\n",
       "                \n",
       "            </td>\n",
       "            <td style=\"padding: 0 0.5em 0 0.5em; text-align: left; border: none;\">\n",
       "                cleaning_fee_yes_no\n",
       "            </td>\n",
       "        </tr>\n",
       "    \n",
       "        <tr style=\"background-color: hsl(120, 100.00%, 99.95%); border: none;\">\n",
       "            <td style=\"padding: 0 1em 0 0.5em; text-align: right; border: none;\">\n",
       "                0.0001\n",
       "                \n",
       "                    &plusmn; 0.0222\n",
       "                \n",
       "            </td>\n",
       "            <td style=\"padding: 0 0.5em 0 0.5em; text-align: left; border: none;\">\n",
       "                apt_yes_no\n",
       "            </td>\n",
       "        </tr>\n",
       "    \n",
       "        <tr style=\"background-color: hsl(0, 100.00%, 100.00%); border: none;\">\n",
       "            <td style=\"padding: 0 1em 0 0.5em; text-align: right; border: none;\">\n",
       "                0\n",
       "                \n",
       "                    &plusmn; 0.0000\n",
       "                \n",
       "            </td>\n",
       "            <td style=\"padding: 0 0.5em 0 0.5em; text-align: left; border: none;\">\n",
       "                neighbourhood_group_cleansed_missing\n",
       "            </td>\n",
       "        </tr>\n",
       "    \n",
       "        <tr style=\"background-color: hsl(0, 100.00%, 100.00%); border: none;\">\n",
       "            <td style=\"padding: 0 1em 0 0.5em; text-align: right; border: none;\">\n",
       "                0\n",
       "                \n",
       "                    &plusmn; 0.0000\n",
       "                \n",
       "            </td>\n",
       "            <td style=\"padding: 0 0.5em 0 0.5em; text-align: left; border: none;\">\n",
       "                room_type_Hotel room\n",
       "            </td>\n",
       "        </tr>\n",
       "    \n",
       "        <tr style=\"background-color: hsl(0, 100.00%, 100.00%); border: none;\">\n",
       "            <td style=\"padding: 0 1em 0 0.5em; text-align: right; border: none;\">\n",
       "                0\n",
       "                \n",
       "                    &plusmn; 0.0000\n",
       "                \n",
       "            </td>\n",
       "            <td style=\"padding: 0 0.5em 0 0.5em; text-align: left; border: none;\">\n",
       "                review_scores_checkin\n",
       "            </td>\n",
       "        </tr>\n",
       "    \n",
       "    \n",
       "    </tbody>\n",
       "</table>\n",
       "    \n",
       "\n",
       "    \n",
       "\n",
       "\n",
       "    \n",
       "\n",
       "    \n",
       "\n",
       "    \n",
       "\n",
       "    \n",
       "\n",
       "    \n",
       "\n",
       "    \n",
       "\n",
       "\n",
       "\n"
      ],
      "text/plain": [
       "Explanation(estimator=\"GradientBoostingRegressor(alpha=0.9, criterion='friedman_mse', init=None,\\n                          learning_rate=0.1, loss='ls', max_depth=3,\\n                          max_features=None, max_leaf_nodes=None,\\n                          min_impurity_decrease=0.0, min_impurity_split=None,\\n                          min_samples_leaf=1, min_samples_split=2,\\n                          min_weight_fraction_leaf=0.0, n_estimators=100,\\n                          n_iter_no_change=None, presort='auto', random_state=0,\\n                          subsample=1.0, tol=0.0001, validation_fraction=0.1,\\n                          verbose=0, warm_start=False)\", description='\\nRandom forest feature importances; values are numbers 0 <= x <= 1;\\nall values sum to 1.\\n', error=None, method='feature importances', is_regression=True, targets=None, feature_importances=FeatureImportances(importances=[FeatureWeight(feature='bedrooms', weight=0.4015994684333996, std=0.17704757396195156, value=None), FeatureWeight(feature='bathrooms', weight=0.14074299251507164, std=0.15803748471120654, value=None), FeatureWeight(feature='accommodates', weight=0.13464320864546725, std=0.13945025980098835, value=None), FeatureWeight(feature='room_type_Entire home/apt', weight=0.12024262663763016, std=0.06319242391501328, value=None), FeatureWeight(feature='reviews_per_month', weight=0.06934678783785343, std=0.13708480440289925, value=None), FeatureWeight(feature='host_since', weight=0.034315868575001816, std=0.21029356976705896, value=None), FeatureWeight(feature='guests_included', weight=0.020841737335333125, std=0.09863579710316314, value=None), FeatureWeight(feature='beds', weight=0.01863134413279833, std=0.09934555864208063, value=None), FeatureWeight(feature='amenities_count', weight=0.01318890633885239, std=0.19652753831603972, value=None), FeatureWeight(feature='review_scores_location', weight=0.010528073411983753, std=0.06384388203278267, value=None), FeatureWeight(feature='host_response_rate_calc', weight=0.0064177832458098315, std=0.04783981247035027, value=None), FeatureWeight(feature='review_scores_cleanliness', weight=0.00586462680228278, std=0.05019204114542951, value=None), FeatureWeight(feature='cancellation_policy_calc_strict', weight=0.002920371180462546, std=0.042021195519731096, value=None), FeatureWeight(feature='review_scores_accuracy', weight=0.0027113838468099324, std=0.053515835866155555, value=None), FeatureWeight(feature='cancellation_policy_calc_flexible', weight=0.0022329738474298672, std=0.03988478760645986, value=None), FeatureWeight(feature='review_scores_value', weight=0.002001744321786523, std=0.06204839789064312, value=None), FeatureWeight(feature='security_deposit_yes_no', weight=0.0016630556708196386, std=0.024474174311523756, value=None), FeatureWeight(feature='instant_bookable', weight=0.0016471789367547174, std=0.03879032150669794, value=None), FeatureWeight(feature='review_scores_communication', weight=0.0016341948731901632, std=0.04472328926233685, value=None), FeatureWeight(feature='real_bed_yes_no', weight=0.0015124599881699014, std=0.030831377566483822, value=None), FeatureWeight(feature='extra_people_yes_no', weight=0.001291022748013341, std=0.03233051482230202, value=None), FeatureWeight(feature='host_is_superhost', weight=0.0008678861930322605, std=0.05693237825762987, value=None), FeatureWeight(feature='host_identity_verified', weight=0.0008660610880296937, std=0.02471745165197202, value=None), FeatureWeight(feature='multiple_listings', weight=0.0008632476677486912, std=0.018685366417799283, value=None), FeatureWeight(feature='is_location_exact', weight=0.0006923787660559548, std=0.022210013933380034, value=None), FeatureWeight(feature='host_response_time_one_hour', weight=0.0006429874574767022, std=0.028481226032388125, value=None), FeatureWeight(feature='room_type_Shared room', weight=0.0006344032771093286, std=0.04085451683172187, value=None), FeatureWeight(feature='host_acceptance_rate_calc', weight=0.0005013497833818085, std=0.02076860775301746, value=None), FeatureWeight(feature='cancellation_policy_calc_moderate', weight=0.00039019974425840906, std=0.019571554373629552, value=None), FeatureWeight(feature='room_type_Private room', weight=0.00037268580840474054, std=0.011186455906020474, value=None), FeatureWeight(feature='cleaning_fee_yes_no', weight=0.00010286631474693144, std=0.007111722600655351, value=None), FeatureWeight(feature='apt_yes_no', weight=8.812457483453765e-05, std=0.011099036003587238, value=None), FeatureWeight(feature='neighbourhood_group_cleansed_missing', weight=0.0, std=0.0, value=None), FeatureWeight(feature='room_type_Hotel room', weight=0.0, std=0.0, value=None), FeatureWeight(feature='review_scores_checkin', weight=0.0, std=0.0, value=None)], remaining=0), decision_tree=None, highlight_spaces=None, transition_features=None, image=None)"
      ]
     },
     "execution_count": 56,
     "metadata": {},
     "output_type": "execute_result"
    }
   ],
   "source": [
    "#get feature importance\n",
    "onehot_columns = list(pl_Gboost.named_steps['preprocessor'].named_transformers_['cat'].named_steps['onehot'].get_feature_names(input_features=categorical_features))\n",
    "numeric_features_list = list(numeric_features)\n",
    "numeric_features_list.extend(onehot_columns)\n",
    "\n",
    "eli5.explain_weights(pl_Gboost.named_steps['regressor'], top=50, feature_names=numeric_features_list)"
   ]
  },
  {
   "cell_type": "code",
   "execution_count": 57,
   "metadata": {},
   "outputs": [
    {
     "data": {
      "text/plain": [
       "Pipeline(memory=None,\n",
       "         steps=[('preprocessor',\n",
       "                 ColumnTransformer(n_jobs=None, remainder='drop',\n",
       "                                   sparse_threshold=0.3,\n",
       "                                   transformer_weights=None,\n",
       "                                   transformers=[('num',\n",
       "                                                  Pipeline(memory=None,\n",
       "                                                           steps=[('imputer',\n",
       "                                                                   SimpleImputer(add_indicator=False,\n",
       "                                                                                 copy=True,\n",
       "                                                                                 fill_value=0,\n",
       "                                                                                 missing_values=nan,\n",
       "                                                                                 strategy='constant',\n",
       "                                                                                 verbose=0)),\n",
       "                                                                  ('scaler',\n",
       "                                                                   StandardScaler(copy=True,\n",
       "                                                                                  with_mean=...\n",
       "                                   verbose=False)),\n",
       "                ('regressor',\n",
       "                 RandomForestRegressor(bootstrap=True, criterion='mse',\n",
       "                                       max_depth=None, max_features='auto',\n",
       "                                       max_leaf_nodes=None,\n",
       "                                       min_impurity_decrease=0.0,\n",
       "                                       min_impurity_split=None,\n",
       "                                       min_samples_leaf=1,\n",
       "                                       min_samples_split=100,\n",
       "                                       min_weight_fraction_leaf=0.0,\n",
       "                                       n_estimators=100, n_jobs=None,\n",
       "                                       oob_score=False, random_state=None,\n",
       "                                       verbose=0, warm_start=False))],\n",
       "         verbose=False)"
      ]
     },
     "execution_count": 57,
     "metadata": {},
     "output_type": "execute_result"
    }
   ],
   "source": [
    "pl_RandomForest.fit(X_train, y_train)"
   ]
  },
  {
   "cell_type": "code",
   "execution_count": 58,
   "metadata": {},
   "outputs": [
    {
     "name": "stdout",
     "output_type": "stream",
     "text": [
      "0.592162846698596\n",
      "140.91466150887652\n",
      "0.49967615275516974\n"
     ]
    }
   ],
   "source": [
    "print(pl_RandomForest.score(X_train, y_train))\n",
    "print(pl_RandomForest.predict(X_test).mean().mean())\n",
    "print(pl_RandomForest.score(X_test, y_test))"
   ]
  },
  {
   "cell_type": "code",
   "execution_count": null,
   "metadata": {},
   "outputs": [],
   "source": []
  }
 ],
 "metadata": {
  "kernelspec": {
   "display_name": "Python 3",
   "language": "python",
   "name": "python3"
  },
  "language_info": {
   "codemirror_mode": {
    "name": "ipython",
    "version": 3
   },
   "file_extension": ".py",
   "mimetype": "text/x-python",
   "name": "python",
   "nbconvert_exporter": "python",
   "pygments_lexer": "ipython3",
   "version": "3.7.3"
  }
 },
 "nbformat": 4,
 "nbformat_minor": 2
}
